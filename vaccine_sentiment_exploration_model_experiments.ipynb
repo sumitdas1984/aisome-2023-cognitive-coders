{
 "cells": [
  {
   "cell_type": "code",
   "execution_count": 2,
   "id": "cbe15912-79be-4013-8a7c-efbedbda7a29",
   "metadata": {
    "tags": []
   },
   "outputs": [],
   "source": [
    "import pandas as pd\n",
    "import seaborn as sns\n",
    "import matplotlib.pyplot as plt\n",
    "import numpy as np"
   ]
  },
  {
   "cell_type": "code",
   "execution_count": 3,
   "id": "57beae11-dee6-4d97-bc8c-9cb537a66cdb",
   "metadata": {
    "tags": []
   },
   "outputs": [],
   "source": [
    "train = pd.read_csv('train_val.csv')"
   ]
  },
  {
   "cell_type": "markdown",
   "id": "6d3a745c-17e3-43fd-bc85-9e31d2624a58",
   "metadata": {},
   "source": [
    "# Data Overview"
   ]
  },
  {
   "cell_type": "code",
   "execution_count": 5,
   "id": "881517d8-a96f-4162-b123-4ba51fa66659",
   "metadata": {
    "tags": []
   },
   "outputs": [
    {
     "data": {
      "text/html": [
       "<div>\n",
       "<style scoped>\n",
       "    .dataframe tbody tr th:only-of-type {\n",
       "        vertical-align: middle;\n",
       "    }\n",
       "\n",
       "    .dataframe tbody tr th {\n",
       "        vertical-align: top;\n",
       "    }\n",
       "\n",
       "    .dataframe thead th {\n",
       "        text-align: right;\n",
       "    }\n",
       "</style>\n",
       "<table border=\"1\" class=\"dataframe\">\n",
       "  <thead>\n",
       "    <tr style=\"text-align: right;\">\n",
       "      <th></th>\n",
       "      <th>ID</th>\n",
       "      <th>tweet</th>\n",
       "      <th>labels</th>\n",
       "    </tr>\n",
       "  </thead>\n",
       "  <tbody>\n",
       "    <tr>\n",
       "      <th>0</th>\n",
       "      <td>1296010336907038720t</td>\n",
       "      <td>@cath__kath AstraZeneca is made with the kidne...</td>\n",
       "      <td>ingredients</td>\n",
       "    </tr>\n",
       "    <tr>\n",
       "      <th>1</th>\n",
       "      <td>1336808189677940736t</td>\n",
       "      <td>It begins. Please find safe alternatives to th...</td>\n",
       "      <td>side-effect</td>\n",
       "    </tr>\n",
       "    <tr>\n",
       "      <th>2</th>\n",
       "      <td>1329488407307956231t</td>\n",
       "      <td>@PaolaQP1231 Well, I mean congratulations Covi...</td>\n",
       "      <td>side-effect</td>\n",
       "    </tr>\n",
       "    <tr>\n",
       "      <th>3</th>\n",
       "      <td>1364194604459900934t</td>\n",
       "      <td>@BorisJohnson for those of us that do not wish...</td>\n",
       "      <td>mandatory</td>\n",
       "    </tr>\n",
       "    <tr>\n",
       "      <th>4</th>\n",
       "      <td>1375938799247765515t</td>\n",
       "      <td>She has been trying to speak out: writing lett...</td>\n",
       "      <td>side-effect rushed</td>\n",
       "    </tr>\n",
       "  </tbody>\n",
       "</table>\n",
       "</div>"
      ],
      "text/plain": [
       "                     ID                                              tweet  \\\n",
       "0  1296010336907038720t  @cath__kath AstraZeneca is made with the kidne...   \n",
       "1  1336808189677940736t  It begins. Please find safe alternatives to th...   \n",
       "2  1329488407307956231t  @PaolaQP1231 Well, I mean congratulations Covi...   \n",
       "3  1364194604459900934t  @BorisJohnson for those of us that do not wish...   \n",
       "4  1375938799247765515t  She has been trying to speak out: writing lett...   \n",
       "\n",
       "               labels  \n",
       "0         ingredients  \n",
       "1         side-effect  \n",
       "2         side-effect  \n",
       "3           mandatory  \n",
       "4  side-effect rushed  "
      ]
     },
     "execution_count": 5,
     "metadata": {},
     "output_type": "execute_result"
    }
   ],
   "source": [
    "train.head()"
   ]
  },
  {
   "cell_type": "code",
   "execution_count": 6,
   "id": "954ea236-45ec-42ba-9189-9ecc5f74b0ed",
   "metadata": {
    "tags": []
   },
   "outputs": [
    {
     "data": {
      "text/plain": [
       "(9921, 3)"
      ]
     },
     "execution_count": 6,
     "metadata": {},
     "output_type": "execute_result"
    }
   ],
   "source": [
    "train.shape"
   ]
  },
  {
   "cell_type": "code",
   "execution_count": 20,
   "id": "a6815bca-db2d-456b-8019-8b26cb6ee03f",
   "metadata": {
    "tags": []
   },
   "outputs": [],
   "source": [
    "#train.labels.nunique()"
   ]
  },
  {
   "cell_type": "code",
   "execution_count": 21,
   "id": "9e68c8c8-70e5-4914-9259-1a236c98b2cd",
   "metadata": {
    "tags": []
   },
   "outputs": [],
   "source": [
    "#train.groupby(['labels'])['ID'].count().sort_values(ascending= False)"
   ]
  },
  {
   "cell_type": "code",
   "execution_count": 30,
   "id": "895fdf39-b18e-4427-9724-3de119a00e1c",
   "metadata": {
    "tags": []
   },
   "outputs": [],
   "source": [
    "#train.groupby(['labels'])['ID'].count().sort_values(ascending= False)[0:11]"
   ]
  },
  {
   "cell_type": "code",
   "execution_count": 7,
   "id": "2e08407a-b6f6-483b-a61d-d8a7b5df86d0",
   "metadata": {
    "tags": []
   },
   "outputs": [
    {
     "data": {
      "text/plain": [
       "ID        0\n",
       "tweet     0\n",
       "labels    0\n",
       "dtype: int64"
      ]
     },
     "execution_count": 7,
     "metadata": {},
     "output_type": "execute_result"
    }
   ],
   "source": [
    "train.isna().sum()"
   ]
  },
  {
   "cell_type": "markdown",
   "id": "ca57a847-b74b-44b2-b102-a079df4ebcf8",
   "metadata": {},
   "source": [
    "# Label Distribution"
   ]
  },
  {
   "cell_type": "code",
   "execution_count": 8,
   "id": "0e564c3f-8899-40a4-87f4-79a094521ddf",
   "metadata": {
    "tags": []
   },
   "outputs": [],
   "source": [
    "# Define a function to split the words\n",
    "def split_words(row):\n",
    "    return row.split(' ')"
   ]
  },
  {
   "cell_type": "code",
   "execution_count": 9,
   "id": "756a3014-86d9-4135-b352-52dcf9747c7d",
   "metadata": {
    "tags": []
   },
   "outputs": [],
   "source": [
    "train['label_list'] = train['labels'].apply(split_words)"
   ]
  },
  {
   "cell_type": "code",
   "execution_count": 10,
   "id": "d753e901-2c32-40d6-9a4e-a720e737a2f6",
   "metadata": {
    "tags": []
   },
   "outputs": [
    {
     "data": {
      "text/html": [
       "<div>\n",
       "<style scoped>\n",
       "    .dataframe tbody tr th:only-of-type {\n",
       "        vertical-align: middle;\n",
       "    }\n",
       "\n",
       "    .dataframe tbody tr th {\n",
       "        vertical-align: top;\n",
       "    }\n",
       "\n",
       "    .dataframe thead th {\n",
       "        text-align: right;\n",
       "    }\n",
       "</style>\n",
       "<table border=\"1\" class=\"dataframe\">\n",
       "  <thead>\n",
       "    <tr style=\"text-align: right;\">\n",
       "      <th></th>\n",
       "      <th>ID</th>\n",
       "      <th>tweet</th>\n",
       "      <th>labels</th>\n",
       "      <th>label_list</th>\n",
       "    </tr>\n",
       "  </thead>\n",
       "  <tbody>\n",
       "    <tr>\n",
       "      <th>0</th>\n",
       "      <td>1296010336907038720t</td>\n",
       "      <td>@cath__kath AstraZeneca is made with the kidne...</td>\n",
       "      <td>ingredients</td>\n",
       "      <td>[ingredients]</td>\n",
       "    </tr>\n",
       "    <tr>\n",
       "      <th>1</th>\n",
       "      <td>1336808189677940736t</td>\n",
       "      <td>It begins. Please find safe alternatives to th...</td>\n",
       "      <td>side-effect</td>\n",
       "      <td>[side-effect]</td>\n",
       "    </tr>\n",
       "    <tr>\n",
       "      <th>2</th>\n",
       "      <td>1329488407307956231t</td>\n",
       "      <td>@PaolaQP1231 Well, I mean congratulations Covi...</td>\n",
       "      <td>side-effect</td>\n",
       "      <td>[side-effect]</td>\n",
       "    </tr>\n",
       "    <tr>\n",
       "      <th>3</th>\n",
       "      <td>1364194604459900934t</td>\n",
       "      <td>@BorisJohnson for those of us that do not wish...</td>\n",
       "      <td>mandatory</td>\n",
       "      <td>[mandatory]</td>\n",
       "    </tr>\n",
       "    <tr>\n",
       "      <th>4</th>\n",
       "      <td>1375938799247765515t</td>\n",
       "      <td>She has been trying to speak out: writing lett...</td>\n",
       "      <td>side-effect rushed</td>\n",
       "      <td>[side-effect, rushed]</td>\n",
       "    </tr>\n",
       "  </tbody>\n",
       "</table>\n",
       "</div>"
      ],
      "text/plain": [
       "                     ID                                              tweet  \\\n",
       "0  1296010336907038720t  @cath__kath AstraZeneca is made with the kidne...   \n",
       "1  1336808189677940736t  It begins. Please find safe alternatives to th...   \n",
       "2  1329488407307956231t  @PaolaQP1231 Well, I mean congratulations Covi...   \n",
       "3  1364194604459900934t  @BorisJohnson for those of us that do not wish...   \n",
       "4  1375938799247765515t  She has been trying to speak out: writing lett...   \n",
       "\n",
       "               labels             label_list  \n",
       "0         ingredients          [ingredients]  \n",
       "1         side-effect          [side-effect]  \n",
       "2         side-effect          [side-effect]  \n",
       "3           mandatory            [mandatory]  \n",
       "4  side-effect rushed  [side-effect, rushed]  "
      ]
     },
     "execution_count": 10,
     "metadata": {},
     "output_type": "execute_result"
    }
   ],
   "source": [
    "train.head()"
   ]
  },
  {
   "cell_type": "code",
   "execution_count": 11,
   "id": "ea2e43cf-25e0-4c0d-a014-1fdfd154dd25",
   "metadata": {
    "tags": []
   },
   "outputs": [
    {
     "data": {
      "text/plain": [
       "label_list\n",
       "side-effect    3805\n",
       "ineffective    1672\n",
       "rushed         1477\n",
       "pharma         1273\n",
       "mandatory       783\n",
       "unnecessary     722\n",
       "none            629\n",
       "political       626\n",
       "conspiracy      487\n",
       "ingredients     436\n",
       "country         201\n",
       "religious        64\n",
       "Name: ID, dtype: int64"
      ]
     },
     "execution_count": 11,
     "metadata": {},
     "output_type": "execute_result"
    }
   ],
   "source": [
    "train.explode(['label_list']).groupby(['label_list'])['ID'].count().sort_values(ascending= False)"
   ]
  },
  {
   "cell_type": "code",
   "execution_count": 12,
   "id": "f0ed55b6-0a2b-4e63-8e24-551ee265ed31",
   "metadata": {
    "tags": []
   },
   "outputs": [],
   "source": [
    "train['label_len'] = train['label_list'].apply(len)"
   ]
  },
  {
   "cell_type": "code",
   "execution_count": 14,
   "id": "c0d7f74a-6c87-4586-bae7-bac3c21c6f7a",
   "metadata": {
    "tags": []
   },
   "outputs": [
    {
     "data": {
      "text/plain": [
       "label_len\n",
       "1    7936\n",
       "2    1716\n",
       "3     269\n",
       "Name: ID, dtype: int64"
      ]
     },
     "execution_count": 14,
     "metadata": {},
     "output_type": "execute_result"
    }
   ],
   "source": [
    "train.groupby(['label_len'])['ID'].count()"
   ]
  },
  {
   "cell_type": "code",
   "execution_count": 12,
   "id": "2b0f38dd-6c3e-4556-96c3-d6ab1e5b4254",
   "metadata": {
    "tags": []
   },
   "outputs": [
    {
     "data": {
      "image/png": "[encoded data removed]",
      "text/plain": [
       "<Figure size 640x480 with 1 Axes>"
      ]
     },
     "metadata": {},
     "output_type": "display_data"
    }
   ],
   "source": [
    "sns.countplot(train['label_len'])\n",
    "plt.show()"
   ]
  },
  {
   "cell_type": "code",
   "execution_count": null,
   "id": "d4bed45f-3e59-4362-8186-467ce406211c",
   "metadata": {},
   "outputs": [],
   "source": []
  },
  {
   "cell_type": "code",
   "execution_count": 42,
   "id": "a30f4114-ec39-4bb9-879f-798f1b927163",
   "metadata": {
    "tags": []
   },
   "outputs": [
    {
     "name": "stdout",
     "output_type": "stream",
     "text": [
      "------------\n",
      "@librtyisanarchy @cw3263 @NPR @pfizer Realistically there has never been a vaccine that was perfectly 100 percent effective. Notice how they only did this on a few thousand people at best. They basically did the same thing on their previous trials. With no long term health trials either. I ain't taking it.\n",
      "------------\n",
      "@RealJamesWoods I don’t understand why the media is going nuts over Trump mentioning the injection of disinfectants? I guess they haven’t done their homework to know that a lot of the already approved FDA vaccines for things other than Covid-19 have disinfectants included in their formulation. https://t.co/BVvHtAbXmi\n",
      "------------\n",
      "In science we trust... 'Those who don’t know #Pfizer’s checkered history may wish to learn something about the company’s recent criminal and civil crimes, especially as the company’s Covid vaccine promotion is set for a warp speed rollout.' #vaccine https://t.co/ojSCNmRVuQ\n",
      "------------\n",
      "@TooSoon51705384 ...and \"Pfizer said the vaccine was \"well tolerated\" during the trials with \"no serious safety concerns\".!! but confirmed 2 deaths... https://t.co/o2q0bi9clp\n",
      "------------\n",
      "@tiffany___jane @gazfitzgaz @selinalguy No such thing as a safe vaccine especially these and the BS Flu vax\n",
      "------------\n",
      "@hellokidneyMD Maybe they are wise to the endless vaccine scams. Covid boasts a survival rate of 99% (CDC) Our world in data shows no significant spike in all cause mortality in 2020 vs past 25 years. Vaers and MHRA show unnecessary adverse affects from probationary warp speed jabs at 1/200\n",
      "------------\n",
      "@realDonaldTrump @pfizer @US_FDA We don't want their garbage anyway! Why take a vaccine with claims of only 90% efficacy, which is not challenged against the virus to see whether it will create vaccine disease enhancement and higher death rates from exposure?! Id rather take the cures Trump has used or 99.97% SR\n",
      "------------\n",
      "@simondolan And still people think it's about a Chinese bat-virus. And still people think the \"vaccine\" will get them back to normal. And still people think the \"vaccine passports\" are a temporary thing which will be used until the pandemic is over. People are not paying attention.\n",
      "------------\n",
      "@tesssummers98 Sorry… Forgot to add govt expecting Deluge of adverse reactions to the vaccine, so seeking software companies to tender.Funny as Bozo Johnson failed to mention this in this weeks briefing,stating there were no reasons not to have the vaccine. Wanker. RT! https://t.co/Klc1Pcp4YP https://t.co/Inpb2IHqsU\n",
      "------------\n",
      "@RonColeman @kjgillenwater I agree with Ron. Getting the vaccine should be personal choice based on your health and circumstances. It's not this vaccine I'd be concerned about, but rather the endless string of booster shots for every 'variant' that's coming down the road. 💰 💉💵\n"
     ]
    }
   ],
   "source": [
    "# Select 10 random rows\n",
    "random_rows = train['tweet'].sample(n=10)\n",
    "\n",
    "for row in random_rows:\n",
    "    print('------------')\n",
    "    print(row)"
   ]
  },
  {
   "cell_type": "markdown",
   "id": "24989be8-d92e-4f99-99a4-2e79abcf4eba",
   "metadata": {},
   "source": [
    "# Tweet Length"
   ]
  },
  {
   "cell_type": "code",
   "execution_count": 12,
   "id": "2cee7d59-9f60-4ebc-880f-72164db45fe6",
   "metadata": {
    "tags": []
   },
   "outputs": [],
   "source": [
    "train['tweet_len'] = train['tweet'].apply(lambda x: len(x.split()))"
   ]
  },
  {
   "cell_type": "code",
   "execution_count": 13,
   "id": "e3139ecb-1fbc-4c8a-8a0f-c8134e6a4b8a",
   "metadata": {
    "tags": []
   },
   "outputs": [
    {
     "data": {
      "text/html": [
       "<div>\n",
       "<style scoped>\n",
       "    .dataframe tbody tr th:only-of-type {\n",
       "        vertical-align: middle;\n",
       "    }\n",
       "\n",
       "    .dataframe tbody tr th {\n",
       "        vertical-align: top;\n",
       "    }\n",
       "\n",
       "    .dataframe thead th {\n",
       "        text-align: right;\n",
       "    }\n",
       "</style>\n",
       "<table border=\"1\" class=\"dataframe\">\n",
       "  <thead>\n",
       "    <tr style=\"text-align: right;\">\n",
       "      <th></th>\n",
       "      <th>ID</th>\n",
       "      <th>tweet</th>\n",
       "      <th>labels</th>\n",
       "      <th>label_list</th>\n",
       "      <th>label_len</th>\n",
       "      <th>tweet_len</th>\n",
       "    </tr>\n",
       "  </thead>\n",
       "  <tbody>\n",
       "    <tr>\n",
       "      <th>0</th>\n",
       "      <td>1296010336907038720t</td>\n",
       "      <td>@cath__kath AstraZeneca is made with the kidne...</td>\n",
       "      <td>ingredients</td>\n",
       "      <td>[ingredients]</td>\n",
       "      <td>1</td>\n",
       "      <td>17</td>\n",
       "    </tr>\n",
       "    <tr>\n",
       "      <th>1</th>\n",
       "      <td>1336808189677940736t</td>\n",
       "      <td>It begins. Please find safe alternatives to th...</td>\n",
       "      <td>side-effect</td>\n",
       "      <td>[side-effect]</td>\n",
       "      <td>1</td>\n",
       "      <td>24</td>\n",
       "    </tr>\n",
       "    <tr>\n",
       "      <th>2</th>\n",
       "      <td>1329488407307956231t</td>\n",
       "      <td>@PaolaQP1231 Well, I mean congratulations Covi...</td>\n",
       "      <td>side-effect</td>\n",
       "      <td>[side-effect]</td>\n",
       "      <td>1</td>\n",
       "      <td>49</td>\n",
       "    </tr>\n",
       "    <tr>\n",
       "      <th>3</th>\n",
       "      <td>1364194604459900934t</td>\n",
       "      <td>@BorisJohnson for those of us that do not wish...</td>\n",
       "      <td>mandatory</td>\n",
       "      <td>[mandatory]</td>\n",
       "      <td>1</td>\n",
       "      <td>55</td>\n",
       "    </tr>\n",
       "    <tr>\n",
       "      <th>4</th>\n",
       "      <td>1375938799247765515t</td>\n",
       "      <td>She has been trying to speak out: writing lett...</td>\n",
       "      <td>side-effect rushed</td>\n",
       "      <td>[side-effect, rushed]</td>\n",
       "      <td>2</td>\n",
       "      <td>42</td>\n",
       "    </tr>\n",
       "  </tbody>\n",
       "</table>\n",
       "</div>"
      ],
      "text/plain": [
       "                     ID                                              tweet  \\\n",
       "0  1296010336907038720t  @cath__kath AstraZeneca is made with the kidne...   \n",
       "1  1336808189677940736t  It begins. Please find safe alternatives to th...   \n",
       "2  1329488407307956231t  @PaolaQP1231 Well, I mean congratulations Covi...   \n",
       "3  1364194604459900934t  @BorisJohnson for those of us that do not wish...   \n",
       "4  1375938799247765515t  She has been trying to speak out: writing lett...   \n",
       "\n",
       "               labels             label_list  label_len  tweet_len  \n",
       "0         ingredients          [ingredients]          1         17  \n",
       "1         side-effect          [side-effect]          1         24  \n",
       "2         side-effect          [side-effect]          1         49  \n",
       "3           mandatory            [mandatory]          1         55  \n",
       "4  side-effect rushed  [side-effect, rushed]          2         42  "
      ]
     },
     "execution_count": 13,
     "metadata": {},
     "output_type": "execute_result"
    }
   ],
   "source": [
    "train.head()"
   ]
  },
  {
   "cell_type": "code",
   "execution_count": 15,
   "id": "c4ca9062-b4eb-4408-afcc-f83c72f9295d",
   "metadata": {
    "tags": []
   },
   "outputs": [
    {
     "data": {
      "image/png": "[encoded data removed]",
      "text/plain": [
       "<Figure size 640x480 with 1 Axes>"
      ]
     },
     "metadata": {},
     "output_type": "display_data"
    }
   ],
   "source": [
    "sns.distplot(train['tweet_len'])\n",
    "plt.show()"
   ]
  },
  {
   "cell_type": "markdown",
   "id": "e77b3dad-6e5c-47f3-a7bb-9d9d9857a96b",
   "metadata": {},
   "source": [
    "## Are longer tweets associated with certain labels more than others?"
   ]
  },
  {
   "cell_type": "code",
   "execution_count": 16,
   "id": "950d44a5-d6ae-4177-b65b-5cf66c266c2e",
   "metadata": {},
   "outputs": [
    {
     "data": {
      "text/plain": [
       "label_list\n",
       "unnecessary    38.738227\n",
       "political      38.599042\n",
       "rushed         38.111036\n",
       "conspiracy     37.882957\n",
       "ineffective    37.519737\n",
       "pharma         36.656716\n",
       "mandatory      35.975734\n",
       "ingredients    35.243119\n",
       "side-effect    34.258344\n",
       "religious      33.031250\n",
       "country        31.129353\n",
       "none           25.817170\n",
       "Name: tweet_len, dtype: float64"
      ]
     },
     "execution_count": 16,
     "metadata": {},
     "output_type": "execute_result"
    }
   ],
   "source": [
    "train.explode(['label_list']).groupby(['label_list'])['tweet_len'].mean().sort_values(ascending = False)"
   ]
  },
  {
   "cell_type": "code",
   "execution_count": null,
   "id": "818ec11c-bb4e-45f9-bac1-117ed9112162",
   "metadata": {},
   "outputs": [],
   "source": []
  },
  {
   "cell_type": "markdown",
   "id": "0b1bc92b-c6e7-4ce1-8bfd-686cb59a6b57",
   "metadata": {},
   "source": [
    "# Word Frequency Analysis"
   ]
  },
  {
   "cell_type": "code",
   "execution_count": 17,
   "id": "5711a8a7-b764-4db1-9613-f32eeb2484de",
   "metadata": {
    "tags": []
   },
   "outputs": [],
   "source": [
    "from nltk.tokenize import word_tokenize\n",
    "from nltk.corpus import stopwords\n",
    "from collections import Counter"
   ]
  },
  {
   "cell_type": "code",
   "execution_count": 18,
   "id": "54d45c2b-c29f-44f1-b0f2-e0c2d4126d63",
   "metadata": {
    "tags": []
   },
   "outputs": [
    {
     "name": "stderr",
     "output_type": "stream",
     "text": [
      "[nltk_data] Downloading package stopwords to /root/nltk_data...\n",
      "[nltk_data]   Package stopwords is already up-to-date!\n"
     ]
    },
    {
     "data": {
      "text/plain": [
       "True"
      ]
     },
     "execution_count": 18,
     "metadata": {},
     "output_type": "execute_result"
    }
   ],
   "source": [
    "import nltk\n",
    "nltk.download('stopwords')"
   ]
  },
  {
   "cell_type": "code",
   "execution_count": 15,
   "id": "bd2b9640-3610-4b29-968e-619c98340aa2",
   "metadata": {
    "tags": []
   },
   "outputs": [],
   "source": [
    "import re"
   ]
  },
  {
   "cell_type": "code",
   "execution_count": 16,
   "id": "484cfb1a-0465-4afe-aa52-8435572e57ed",
   "metadata": {
    "tags": []
   },
   "outputs": [],
   "source": [
    "# Remove unwanted characters\n",
    "train['clean_tweets'] = train['tweet'].apply(lambda x: re.sub(r'[^\\w\\s]', '', x))  # remove punctuation\n",
    "train['clean_tweets'] = train['clean_tweets'].apply(lambda x: re.sub(r'@\\w+', '', x))  # remove handles\n",
    "train['clean_tweets'] = train['clean_tweets'].apply(lambda x: re.sub(r'#\\w+', '', x))  # remove hashtags\n",
    "train['clean_tweets'] = train['clean_tweets'].apply(lambda x: re.sub(r'&\\w+', '', x))  # remove words starting with &"
   ]
  },
  {
   "cell_type": "code",
   "execution_count": 17,
   "id": "312eeff9-86ed-4b9f-ae3d-c17c28100456",
   "metadata": {
    "collapsed": true,
    "jupyter": {
     "outputs_hidden": true
    },
    "tags": []
   },
   "outputs": [
    {
     "ename": "NameError",
     "evalue": "name 'word_tokenize' is not defined",
     "output_type": "error",
     "traceback": [
      "\u001b[0;31m---------------------------------------------------------------------------\u001b[0m",
      "\u001b[0;31mNameError\u001b[0m                                 Traceback (most recent call last)",
      "\u001b[0;32m<ipython-input-17-6f42fa91e5dc>\u001b[0m in \u001b[0;36m<module>\u001b[0;34m\u001b[0m\n\u001b[1;32m      3\u001b[0m \u001b[0;34m\u001b[0m\u001b[0m\n\u001b[1;32m      4\u001b[0m \u001b[0;31m# Tokenize the tweets\u001b[0m\u001b[0;34m\u001b[0m\u001b[0;34m\u001b[0m\u001b[0;34m\u001b[0m\u001b[0m\n\u001b[0;32m----> 5\u001b[0;31m \u001b[0mtrain\u001b[0m\u001b[0;34m[\u001b[0m\u001b[0;34m'tokens'\u001b[0m\u001b[0;34m]\u001b[0m \u001b[0;34m=\u001b[0m \u001b[0mtrain\u001b[0m\u001b[0;34m[\u001b[0m\u001b[0;34m'clean_tweets'\u001b[0m\u001b[0;34m]\u001b[0m\u001b[0;34m.\u001b[0m\u001b[0mapply\u001b[0m\u001b[0;34m(\u001b[0m\u001b[0mword_tokenize\u001b[0m\u001b[0;34m)\u001b[0m\u001b[0;34m\u001b[0m\u001b[0;34m\u001b[0m\u001b[0m\n\u001b[0m",
      "\u001b[0;31mNameError\u001b[0m: name 'word_tokenize' is not defined"
     ]
    }
   ],
   "source": [
    "# Convert to lowercase\n",
    "train['clean_tweets'] = train['clean_tweets'].str.lower()\n",
    "\n",
    "# Tokenize the tweets\n",
    "train['tokens'] = train['clean_tweets'].apply(word_tokenize)"
   ]
  },
  {
   "cell_type": "code",
   "execution_count": 22,
   "id": "6cef6d55-3e89-42fe-b55e-d22eb39cf2c5",
   "metadata": {
    "tags": []
   },
   "outputs": [],
   "source": [
    "# You might want to remove stopwords (common words like 'the', 'is', etc. that often don't carry much meaning)\n",
    "stop_words = set(stopwords.words('english'))\n",
    "\n",
    "train['tokens'] = train['tokens'].apply(lambda tokens: [token for token in tokens if token not in stop_words])"
   ]
  },
  {
   "cell_type": "code",
   "execution_count": 23,
   "id": "a84f485e-0648-40c7-887f-f8e299782336",
   "metadata": {
    "tags": []
   },
   "outputs": [],
   "source": [
    "# Group by label, and within each group, concatenate all the token lists together, then count the occurrences of each word\n",
    "common_words = train.explode(['label_list']).groupby('label_list')['tokens'].sum().apply(lambda tokens: Counter(tokens).most_common(20))\n",
    "\n",
    "#print(common_words)"
   ]
  },
  {
   "cell_type": "code",
   "execution_count": 24,
   "id": "6111afd5-b356-4879-8b5c-d5b7fad7199c",
   "metadata": {
    "collapsed": true,
    "jupyter": {
     "outputs_hidden": true
    },
    "tags": []
   },
   "outputs": [
    {
     "name": "stdout",
     "output_type": "stream",
     "text": [
      "------------\n",
      "Label: conspiracy\n",
      "   vaccine: 423\n",
      "   covid: 165\n",
      "   gates: 112\n",
      "   people: 103\n",
      "   vaccines: 84\n",
      "   covid19: 83\n",
      "   virus: 73\n",
      "   pfizer: 71\n",
      "   world: 68\n",
      "   get: 67\n",
      "   bill: 65\n",
      "   moderna: 62\n",
      "   us: 55\n",
      "   take: 53\n",
      "   corona: 46\n",
      "   one: 45\n",
      "   dont: 45\n",
      "   population: 44\n",
      "   dna: 44\n",
      "   like: 43\n",
      "------------\n",
      "Label: country\n",
      "   vaccine: 248\n",
      "   russian: 88\n",
      "   chinese: 52\n",
      "   take: 38\n",
      "   covid: 31\n",
      "   covid19: 27\n",
      "   dont: 27\n",
      "   us: 24\n",
      "   china: 24\n",
      "   would: 23\n",
      "   like: 23\n",
      "   get: 22\n",
      "   vaccines: 22\n",
      "   im: 21\n",
      "   trust: 19\n",
      "   even: 19\n",
      "   russia: 19\n",
      "   one: 18\n",
      "   people: 17\n",
      "   taking: 17\n",
      "------------\n",
      "Label: ineffective\n",
      "   vaccine: 1863\n",
      "   covid: 559\n",
      "   pfizer: 383\n",
      "   vaccines: 315\n",
      "   people: 303\n",
      "   get: 288\n",
      "   effective: 282\n",
      "   virus: 280\n",
      "   vaccinated: 222\n",
      "   still: 213\n",
      "   dont: 211\n",
      "   covid19: 208\n",
      "   flu: 187\n",
      "   even: 179\n",
      "   efficacy: 179\n",
      "   one: 176\n",
      "   doesnt: 164\n",
      "   getting: 157\n",
      "   work: 153\n",
      "   know: 148\n",
      "------------\n",
      "Label: ingredients\n",
      "   vaccine: 447\n",
      "   vaccines: 99\n",
      "   covid: 89\n",
      "   pfizer: 82\n",
      "   covid19: 73\n",
      "   cells: 63\n",
      "   take: 61\n",
      "   virus: 60\n",
      "   aborted: 57\n",
      "   moderna: 54\n",
      "   know: 50\n",
      "   get: 50\n",
      "   people: 49\n",
      "   mrna: 45\n",
      "   dont: 44\n",
      "   us: 42\n",
      "   dna: 40\n",
      "   ingredients: 40\n",
      "   human: 39\n",
      "   one: 39\n",
      "------------\n",
      "Label: mandatory\n",
      "   vaccine: 731\n",
      "   people: 217\n",
      "   covid: 215\n",
      "   get: 143\n",
      "   vaccines: 137\n",
      "   take: 127\n",
      "   mandatory: 123\n",
      "   dont: 115\n",
      "   us: 88\n",
      "   force: 88\n",
      "   pfizer: 83\n",
      "   vaccinated: 83\n",
      "   forced: 80\n",
      "   covid19: 79\n",
      "   want: 77\n",
      "   vaccination: 73\n",
      "   passports: 73\n",
      "   passport: 67\n",
      "   im: 64\n",
      "   going: 61\n",
      "------------\n",
      "Label: none\n",
      "   vaccine: 547\n",
      "   covid: 176\n",
      "   get: 132\n",
      "   dont: 111\n",
      "   take: 98\n",
      "   im: 86\n",
      "   pfizer: 76\n",
      "   people: 68\n",
      "   vaccinated: 57\n",
      "   like: 56\n",
      "   covid19: 55\n",
      "   one: 54\n",
      "   getting: 52\n",
      "   vaccines: 51\n",
      "   flu: 51\n",
      "   taking: 50\n",
      "   know: 49\n",
      "   would: 44\n",
      "   never: 44\n",
      "   want: 40\n",
      "------------\n",
      "Label: pharma\n",
      "   vaccine: 1144\n",
      "   pfizer: 488\n",
      "   covid: 241\n",
      "   vaccines: 225\n",
      "   gates: 214\n",
      "   people: 199\n",
      "   pharma: 168\n",
      "   moderna: 163\n",
      "   covid19: 154\n",
      "   big: 154\n",
      "   money: 143\n",
      "   dont: 140\n",
      "   bill: 134\n",
      "   get: 133\n",
      "   make: 126\n",
      "   johnson: 123\n",
      "   take: 112\n",
      "   company: 108\n",
      "   us: 107\n",
      "   virus: 105\n",
      "------------\n",
      "Label: political\n",
      "   vaccine: 621\n",
      "   pfizer: 152\n",
      "   covid: 152\n",
      "   people: 105\n",
      "   trump: 104\n",
      "   government: 92\n",
      "   take: 90\n",
      "   us: 85\n",
      "   dont: 80\n",
      "   get: 79\n",
      "   covid19: 78\n",
      "   vaccines: 78\n",
      "   like: 61\n",
      "   trust: 57\n",
      "   would: 53\n",
      "   want: 49\n",
      "   know: 48\n",
      "   one: 44\n",
      "   im: 43\n",
      "   borisjohnson: 43\n",
      "------------\n",
      "Label: religious\n",
      "   vaccine: 69\n",
      "   johnson: 30\n",
      "   catholic: 18\n",
      "   covid19: 13\n",
      "   covid: 11\n",
      "   people: 10\n",
      "   aborted: 10\n",
      "   god: 9\n",
      "   catholics: 9\n",
      "   religious: 8\n",
      "   new: 8\n",
      "   morally: 8\n",
      "   leaders: 7\n",
      "   vaccines: 7\n",
      "   get: 7\n",
      "   mark: 7\n",
      "   using: 6\n",
      "   cells: 6\n",
      "   say: 6\n",
      "   one: 6\n",
      "------------\n",
      "Label: rushed\n",
      "   vaccine: 1662\n",
      "   covid: 375\n",
      "   pfizer: 373\n",
      "   vaccines: 258\n",
      "   people: 246\n",
      "   take: 223\n",
      "   covid19: 191\n",
      "   rushed: 187\n",
      "   dont: 185\n",
      "   trials: 182\n",
      "   get: 176\n",
      "   tested: 171\n",
      "   one: 168\n",
      "   experimental: 162\n",
      "   trial: 146\n",
      "   years: 145\n",
      "   im: 143\n",
      "   data: 138\n",
      "   know: 137\n",
      "   effects: 135\n",
      "------------\n",
      "Label: side-effect\n",
      "   vaccine: 3778\n",
      "   pfizer: 1101\n",
      "   covid: 1091\n",
      "   people: 813\n",
      "   covid19: 668\n",
      "   vaccines: 552\n",
      "   effects: 482\n",
      "   side: 437\n",
      "   astrazeneca: 418\n",
      "   get: 354\n",
      "   died: 344\n",
      "   one: 334\n",
      "   dont: 315\n",
      "   deaths: 312\n",
      "   johnson: 304\n",
      "   moderna: 292\n",
      "   know: 292\n",
      "   blood: 288\n",
      "   take: 276\n",
      "   death: 265\n",
      "------------\n",
      "Label: unnecessary\n",
      "   vaccine: 751\n",
      "   covid: 348\n",
      "   need: 204\n",
      "   people: 200\n",
      "   dont: 166\n",
      "   get: 146\n",
      "   virus: 145\n",
      "   take: 124\n",
      "   risk: 117\n",
      "   covid19: 114\n",
      "   flu: 113\n",
      "   rate: 96\n",
      "   immunity: 94\n",
      "   pfizer: 93\n",
      "   vaccines: 81\n",
      "   would: 81\n",
      "   healthy: 75\n",
      "   im: 74\n",
      "   one: 62\n",
      "   already: 61\n"
     ]
    }
   ],
   "source": [
    "for label, words in common_words.items():\n",
    "    print('------------')\n",
    "    print(f\"Label: {label}\")\n",
    "    for word, count in words:\n",
    "        print(f\"   {word}: {count}\")"
   ]
  },
  {
   "cell_type": "code",
   "execution_count": null,
   "id": "c663fe9c-99da-42c1-8fb3-9e24ed0b29d9",
   "metadata": {},
   "outputs": [],
   "source": []
  },
  {
   "cell_type": "markdown",
   "id": "c5cedc34-f39b-4d68-9aaf-80acd867b71d",
   "metadata": {},
   "source": [
    "# Co-occurance of Labels"
   ]
  },
  {
   "cell_type": "code",
   "execution_count": 25,
   "id": "2b2df5e0-1cde-4af8-996e-e977c3ad4ca7",
   "metadata": {
    "tags": []
   },
   "outputs": [],
   "source": [
    "from sklearn.preprocessing import MultiLabelBinarizer"
   ]
  },
  {
   "cell_type": "code",
   "execution_count": 26,
   "id": "d4d4d102-d715-4c9b-bc23-c0e96bad47ce",
   "metadata": {
    "tags": []
   },
   "outputs": [],
   "source": [
    "# Convert lists of labels into a binary matrix\n",
    "mlb = MultiLabelBinarizer()\n",
    "labels_matrix = mlb.fit_transform(train['label_list'])"
   ]
  },
  {
   "cell_type": "code",
   "execution_count": 27,
   "id": "9f030f25-78ae-4a88-8018-08313ec06756",
   "metadata": {
    "tags": []
   },
   "outputs": [],
   "source": [
    "# Convert binary matrix into a DataFrame\n",
    "labels_df = pd.DataFrame(labels_matrix, columns=mlb.classes_)"
   ]
  },
  {
   "cell_type": "code",
   "execution_count": 28,
   "id": "f34a1489-b6ea-4ce0-a6ea-f099d07460eb",
   "metadata": {
    "tags": []
   },
   "outputs": [],
   "source": [
    "# Compute co-occurrence matrix\n",
    "co_occurrence_matrix = labels_df.T.dot(labels_df)"
   ]
  },
  {
   "cell_type": "code",
   "execution_count": 29,
   "id": "5fed2073-0277-438f-aff8-d51c47dfb96a",
   "metadata": {
    "tags": []
   },
   "outputs": [
    {
     "name": "stdout",
     "output_type": "stream",
     "text": [
      "             conspiracy  country  ineffective  ingredients  mandatory  none  \\\n",
      "conspiracy          487        7           14           79         27     0   \n",
      "country               7      201           15            2          5     0   \n",
      "ineffective          14       15         1672           19         35     0   \n",
      "ingredients          79        2           19          436         20     0   \n",
      "mandatory            27        5           35           20        783     0   \n",
      "none                  0        0            0            0          0   629   \n",
      "pharma               97        5           51           23         29     0   \n",
      "political            34       12           18            8         37     0   \n",
      "religious             5        1            0           17          4     0   \n",
      "rushed               26       23          112           28         58     0   \n",
      "side-effect         116       17          182          101         71     0   \n",
      "unnecessary          32        4           78           17         47     0   \n",
      "\n",
      "             pharma  political  religious  rushed  side-effect  unnecessary  \n",
      "conspiracy       97         34          5      26          116           32  \n",
      "country           5         12          1      23           17            4  \n",
      "ineffective      51         18          0     112          182           78  \n",
      "ingredients      23          8         17      28          101           17  \n",
      "mandatory        29         37          4      58           71           47  \n",
      "none              0          0          0       0            0            0  \n",
      "pharma         1273         89          3     127          138           62  \n",
      "political        89        626          3      67           51           21  \n",
      "religious         3          3         64       1            4            3  \n",
      "rushed          127         67          1    1476          304           79  \n",
      "side-effect     138         51          4     304         3805           94  \n",
      "unnecessary      62         21          3      79           94          722  \n"
     ]
    }
   ],
   "source": [
    "print(co_occurrence_matrix)"
   ]
  },
  {
   "cell_type": "code",
   "execution_count": 30,
   "id": "b15794fb-009d-4d50-a2e3-0ae018320486",
   "metadata": {
    "tags": []
   },
   "outputs": [
    {
     "data": {
      "image/png": "[encoded data removed]",
      "text/plain": [
       "<Figure size 1100x900 with 2 Axes>"
      ]
     },
     "metadata": {},
     "output_type": "display_data"
    }
   ],
   "source": [
    "mask = np.triu(np.ones_like(co_occurrence_matrix, dtype=bool))\n",
    "\n",
    "# Set up the matplotlib figure\n",
    "f, ax = plt.subplots(figsize=(11, 9))\n",
    "\n",
    "# Generate a custom diverging colormap\n",
    "cmap = sns.diverging_palette(230, 20, as_cmap=True)\n",
    "\n",
    "# Draw the heatmap with the mask and correct aspect ratio\n",
    "sns.heatmap(co_occurrence_matrix, mask=mask, cmap=cmap, vmax=None, center=0,\n",
    "            square=True, linewidths=.5, cbar_kws={\"shrink\": .5}, annot=True)\n",
    "\n",
    "plt.show()"
   ]
  },
  {
   "cell_type": "code",
   "execution_count": null,
   "id": "46dd06f1-f412-4658-8801-e2910f87b28c",
   "metadata": {},
   "outputs": [],
   "source": []
  },
  {
   "cell_type": "markdown",
   "id": "806f641f-e6d3-4ea0-adee-6963a01cf0cd",
   "metadata": {},
   "source": [
    "# Sentiment Analysis"
   ]
  },
  {
   "cell_type": "code",
   "execution_count": 31,
   "id": "a3aa1e6c-d717-4650-9b2b-693f747d63b2",
   "metadata": {
    "tags": []
   },
   "outputs": [],
   "source": [
    "from nltk.sentiment.vader import SentimentIntensityAnalyzer"
   ]
  },
  {
   "cell_type": "code",
   "execution_count": 32,
   "id": "2ad0a040-5cd6-4dd5-81f7-648e7ecbdea7",
   "metadata": {
    "tags": []
   },
   "outputs": [
    {
     "name": "stderr",
     "output_type": "stream",
     "text": [
      "[nltk_data] Downloading package vader_lexicon to /root/nltk_data...\n",
      "[nltk_data]   Package vader_lexicon is already up-to-date!\n"
     ]
    }
   ],
   "source": [
    "# Download the vader_lexicon\n",
    "nltk.download('vader_lexicon')\n",
    "\n",
    "# Initialize the VADER sentiment intensity analyzer\n",
    "sia = SentimentIntensityAnalyzer()"
   ]
  },
  {
   "cell_type": "code",
   "execution_count": 33,
   "id": "0cc81822-bcd2-4eb8-9e49-77e8b009b476",
   "metadata": {
    "tags": []
   },
   "outputs": [],
   "source": [
    "# Assuming df is your DataFrame and 'tweets' is the column with the text of the tweets\n",
    "train['sentiment_scores'] = train['tweet'].apply(lambda tweet: sia.polarity_scores(tweet))\n",
    "\n",
    "# You can split the dictionary of scores into separate columns\n",
    "train = pd.concat([train.drop(['sentiment_scores'], axis=1), train['sentiment_scores'].apply(pd.Series)], axis=1)"
   ]
  },
  {
   "cell_type": "code",
   "execution_count": 34,
   "id": "92b6d456-dd67-4187-bc8e-dfbccc9f3213",
   "metadata": {},
   "outputs": [],
   "source": [
    "# 'neg' for negative sentiment, 'neu' for neutral sentiment, 'pos' for positive sentiment, and 'compound' for the aggregated sentiment.\n",
    "\n",
    "# The sentiment scores range from -1 to 1 for 'compound' (where -1 is extremely negative and 1 is extremely positive), and \n",
    "# 0 to 1 for 'neg', 'neu', and 'pos' (which add up to 1). "
   ]
  },
  {
   "cell_type": "code",
   "execution_count": 36,
   "id": "97dede0d-830b-4d3f-96bc-5ccbb5e6b5ba",
   "metadata": {
    "tags": []
   },
   "outputs": [
    {
     "data": {
      "text/html": [
       "<div>\n",
       "<style scoped>\n",
       "    .dataframe tbody tr th:only-of-type {\n",
       "        vertical-align: middle;\n",
       "    }\n",
       "\n",
       "    .dataframe tbody tr th {\n",
       "        vertical-align: top;\n",
       "    }\n",
       "\n",
       "    .dataframe thead th {\n",
       "        text-align: right;\n",
       "    }\n",
       "</style>\n",
       "<table border=\"1\" class=\"dataframe\">\n",
       "  <thead>\n",
       "    <tr style=\"text-align: right;\">\n",
       "      <th></th>\n",
       "      <th>ID</th>\n",
       "      <th>tweet</th>\n",
       "      <th>labels</th>\n",
       "      <th>label_list</th>\n",
       "      <th>label_len</th>\n",
       "      <th>tweet_len</th>\n",
       "      <th>clean_tweets</th>\n",
       "      <th>tokens</th>\n",
       "      <th>neg</th>\n",
       "      <th>neu</th>\n",
       "      <th>pos</th>\n",
       "      <th>compound</th>\n",
       "    </tr>\n",
       "  </thead>\n",
       "  <tbody>\n",
       "    <tr>\n",
       "      <th>0</th>\n",
       "      <td>1296010336907038720t</td>\n",
       "      <td>@cath__kath AstraZeneca is made with the kidne...</td>\n",
       "      <td>ingredients</td>\n",
       "      <td>[ingredients]</td>\n",
       "      <td>1</td>\n",
       "      <td>17</td>\n",
       "      <td>cath__kath astrazeneca is made with the kidney...</td>\n",
       "      <td>[cath__kath, astrazeneca, made, kidney, cells,...</td>\n",
       "      <td>0.000</td>\n",
       "      <td>1.000</td>\n",
       "      <td>0.000</td>\n",
       "      <td>0.0000</td>\n",
       "    </tr>\n",
       "    <tr>\n",
       "      <th>1</th>\n",
       "      <td>1336808189677940736t</td>\n",
       "      <td>It begins. Please find safe alternatives to th...</td>\n",
       "      <td>side-effect</td>\n",
       "      <td>[side-effect]</td>\n",
       "      <td>1</td>\n",
       "      <td>24</td>\n",
       "      <td>it begins please find safe alternatives to thi...</td>\n",
       "      <td>[begins, please, find, safe, alternatives, vac...</td>\n",
       "      <td>0.171</td>\n",
       "      <td>0.658</td>\n",
       "      <td>0.171</td>\n",
       "      <td>0.0000</td>\n",
       "    </tr>\n",
       "    <tr>\n",
       "      <th>2</th>\n",
       "      <td>1329488407307956231t</td>\n",
       "      <td>@PaolaQP1231 Well, I mean congratulations Covi...</td>\n",
       "      <td>side-effect</td>\n",
       "      <td>[side-effect]</td>\n",
       "      <td>1</td>\n",
       "      <td>49</td>\n",
       "      <td>paolaqp1231 well i mean congratulations covid1...</td>\n",
       "      <td>[paolaqp1231, well, mean, congratulations, cov...</td>\n",
       "      <td>0.027</td>\n",
       "      <td>0.856</td>\n",
       "      <td>0.117</td>\n",
       "      <td>0.6808</td>\n",
       "    </tr>\n",
       "    <tr>\n",
       "      <th>3</th>\n",
       "      <td>1364194604459900934t</td>\n",
       "      <td>@BorisJohnson for those of us that do not wish...</td>\n",
       "      <td>mandatory</td>\n",
       "      <td>[mandatory]</td>\n",
       "      <td>1</td>\n",
       "      <td>55</td>\n",
       "      <td>borisjohnson for those of us that do not wish ...</td>\n",
       "      <td>[borisjohnson, us, wish, vaccine, given, vacci...</td>\n",
       "      <td>0.038</td>\n",
       "      <td>0.834</td>\n",
       "      <td>0.128</td>\n",
       "      <td>0.7385</td>\n",
       "    </tr>\n",
       "    <tr>\n",
       "      <th>4</th>\n",
       "      <td>1375938799247765515t</td>\n",
       "      <td>She has been trying to speak out: writing lett...</td>\n",
       "      <td>side-effect rushed</td>\n",
       "      <td>[side-effect, rushed]</td>\n",
       "      <td>2</td>\n",
       "      <td>42</td>\n",
       "      <td>she has been trying to speak out writing lette...</td>\n",
       "      <td>[trying, speak, writing, letters, government, ...</td>\n",
       "      <td>0.097</td>\n",
       "      <td>0.903</td>\n",
       "      <td>0.000</td>\n",
       "      <td>-0.4939</td>\n",
       "    </tr>\n",
       "  </tbody>\n",
       "</table>\n",
       "</div>"
      ],
      "text/plain": [
       "                     ID                                              tweet  \\\n",
       "0  1296010336907038720t  @cath__kath AstraZeneca is made with the kidne...   \n",
       "1  1336808189677940736t  It begins. Please find safe alternatives to th...   \n",
       "2  1329488407307956231t  @PaolaQP1231 Well, I mean congratulations Covi...   \n",
       "3  1364194604459900934t  @BorisJohnson for those of us that do not wish...   \n",
       "4  1375938799247765515t  She has been trying to speak out: writing lett...   \n",
       "\n",
       "               labels             label_list  label_len  tweet_len  \\\n",
       "0         ingredients          [ingredients]          1         17   \n",
       "1         side-effect          [side-effect]          1         24   \n",
       "2         side-effect          [side-effect]          1         49   \n",
       "3           mandatory            [mandatory]          1         55   \n",
       "4  side-effect rushed  [side-effect, rushed]          2         42   \n",
       "\n",
       "                                        clean_tweets  \\\n",
       "0  cath__kath astrazeneca is made with the kidney...   \n",
       "1  it begins please find safe alternatives to thi...   \n",
       "2  paolaqp1231 well i mean congratulations covid1...   \n",
       "3  borisjohnson for those of us that do not wish ...   \n",
       "4  she has been trying to speak out writing lette...   \n",
       "\n",
       "                                              tokens    neg    neu    pos  \\\n",
       "0  [cath__kath, astrazeneca, made, kidney, cells,...  0.000  1.000  0.000   \n",
       "1  [begins, please, find, safe, alternatives, vac...  0.171  0.658  0.171   \n",
       "2  [paolaqp1231, well, mean, congratulations, cov...  0.027  0.856  0.117   \n",
       "3  [borisjohnson, us, wish, vaccine, given, vacci...  0.038  0.834  0.128   \n",
       "4  [trying, speak, writing, letters, government, ...  0.097  0.903  0.000   \n",
       "\n",
       "   compound  \n",
       "0    0.0000  \n",
       "1    0.0000  \n",
       "2    0.6808  \n",
       "3    0.7385  \n",
       "4   -0.4939  "
      ]
     },
     "execution_count": 36,
     "metadata": {},
     "output_type": "execute_result"
    }
   ],
   "source": [
    "train.head()"
   ]
  },
  {
   "cell_type": "code",
   "execution_count": 35,
   "id": "258965f0-3389-4349-bade-969ebe5763e8",
   "metadata": {
    "tags": []
   },
   "outputs": [
    {
     "name": "stdout",
     "output_type": "stream",
     "text": [
      "label_list\n",
      "conspiracy    -0.152121\n",
      "country       -0.027262\n",
      "ineffective   -0.050121\n",
      "ingredients   -0.096524\n",
      "mandatory     -0.098390\n",
      "none          -0.057131\n",
      "pharma        -0.047567\n",
      "political     -0.125577\n",
      "religious     -0.180167\n",
      "rushed        -0.051898\n",
      "side-effect   -0.265099\n",
      "unnecessary   -0.113949\n",
      "Name: compound, dtype: float64\n"
     ]
    }
   ],
   "source": [
    "average_sentiment = train.explode(['label_list']).groupby('label_list')['compound'].mean()\n",
    "\n",
    "print(average_sentiment)"
   ]
  },
  {
   "cell_type": "code",
   "execution_count": 37,
   "id": "2880d7ed-c050-4b26-ad87-b4c7ce286edb",
   "metadata": {},
   "outputs": [],
   "source": [
    "train.to_csv('train_modified.csv')"
   ]
  },
  {
   "cell_type": "code",
   "execution_count": 49,
   "id": "074764f6-04b2-4610-be56-14b89dbf43d3",
   "metadata": {},
   "outputs": [],
   "source": [
    "train_modified = pd.read_csv('train_modified.csv')"
   ]
  },
  {
   "cell_type": "code",
   "execution_count": 50,
   "id": "4b6e8df4-9649-408a-94fb-74512d66ea10",
   "metadata": {
    "tags": []
   },
   "outputs": [
    {
     "data": {
      "text/plain": [
       "(9921, 13)"
      ]
     },
     "execution_count": 50,
     "metadata": {},
     "output_type": "execute_result"
    }
   ],
   "source": [
    "train_modified.shape"
   ]
  },
  {
   "cell_type": "code",
   "execution_count": 51,
   "id": "bec3da77-b1e9-4740-9f6e-a0c3850bc495",
   "metadata": {
    "tags": []
   },
   "outputs": [
    {
     "name": "stdout",
     "output_type": "stream",
     "text": [
      "Train set size: 7936\n",
      "Validation set size: 1985\n"
     ]
    }
   ],
   "source": [
    "from sklearn.model_selection import train_test_split\n",
    "\n",
    "# Assuming df is your original DataFrame\n",
    "\n",
    "# Split the DataFrame into train and validation sets\n",
    "train_df, val_df = train_test_split(train_modified, test_size=0.2, random_state=42)\n",
    "\n",
    "# Print the number of rows in each set\n",
    "print(\"Train set size:\", len(train_df))\n",
    "print(\"Validation set size:\", len(val_df))"
   ]
  },
  {
   "cell_type": "code",
   "execution_count": 52,
   "id": "0ef63100-3263-419b-8303-46b60f75c78b",
   "metadata": {
    "tags": []
   },
   "outputs": [],
   "source": [
    "train_df.to_csv('train_df.csv')\n",
    "val_df.to_csv('val_df.csv')"
   ]
  },
  {
   "cell_type": "code",
   "execution_count": 53,
   "id": "13500012-68a4-4da3-8b9e-8dcbb4a7ead9",
   "metadata": {
    "tags": []
   },
   "outputs": [
    {
     "data": {
      "text/html": [
       "<div>\n",
       "<style scoped>\n",
       "    .dataframe tbody tr th:only-of-type {\n",
       "        vertical-align: middle;\n",
       "    }\n",
       "\n",
       "    .dataframe tbody tr th {\n",
       "        vertical-align: top;\n",
       "    }\n",
       "\n",
       "    .dataframe thead th {\n",
       "        text-align: right;\n",
       "    }\n",
       "</style>\n",
       "<table border=\"1\" class=\"dataframe\">\n",
       "  <thead>\n",
       "    <tr style=\"text-align: right;\">\n",
       "      <th></th>\n",
       "      <th>Unnamed: 0</th>\n",
       "      <th>ID</th>\n",
       "      <th>tweet</th>\n",
       "      <th>labels</th>\n",
       "      <th>label_list</th>\n",
       "      <th>label_len</th>\n",
       "      <th>tweet_len</th>\n",
       "      <th>clean_tweets</th>\n",
       "      <th>tokens</th>\n",
       "      <th>neg</th>\n",
       "      <th>neu</th>\n",
       "      <th>pos</th>\n",
       "      <th>compound</th>\n",
       "    </tr>\n",
       "  </thead>\n",
       "  <tbody>\n",
       "    <tr>\n",
       "      <th>1477</th>\n",
       "      <td>1477</td>\n",
       "      <td>1352994869556350977t</td>\n",
       "      <td>#TRUSTCCP? Do you trust the Chinese Communist ...</td>\n",
       "      <td>country</td>\n",
       "      <td>['country']</td>\n",
       "      <td>1</td>\n",
       "      <td>32</td>\n",
       "      <td>trustccp do you trust the chinese communist pa...</td>\n",
       "      <td>['trustccp', 'trust', 'chinese', 'communist', ...</td>\n",
       "      <td>0.035</td>\n",
       "      <td>0.679</td>\n",
       "      <td>0.286</td>\n",
       "      <td>0.8738</td>\n",
       "    </tr>\n",
       "    <tr>\n",
       "      <th>1790</th>\n",
       "      <td>1790</td>\n",
       "      <td>1364574998397132805t</td>\n",
       "      <td>@hannah62687 @mgtalbott @DrTomFrieden For many...</td>\n",
       "      <td>ineffective unnecessary</td>\n",
       "      <td>['ineffective', 'unnecessary']</td>\n",
       "      <td>2</td>\n",
       "      <td>50</td>\n",
       "      <td>hannah62687 mgtalbott drtomfrieden for many ge...</td>\n",
       "      <td>['hannah62687', 'mgtalbott', 'drtomfrieden', '...</td>\n",
       "      <td>0.139</td>\n",
       "      <td>0.756</td>\n",
       "      <td>0.105</td>\n",
       "      <td>-0.2295</td>\n",
       "    </tr>\n",
       "    <tr>\n",
       "      <th>2615</th>\n",
       "      <td>2615</td>\n",
       "      <td>1334085299945807873t</td>\n",
       "      <td>Imagine if the covid vaccine has a side effect...</td>\n",
       "      <td>side-effect</td>\n",
       "      <td>['side-effect']</td>\n",
       "      <td>1</td>\n",
       "      <td>17</td>\n",
       "      <td>imagine if the covid vaccine has a side effect...</td>\n",
       "      <td>['imagine', 'covid', 'vaccine', 'side', 'effec...</td>\n",
       "      <td>0.000</td>\n",
       "      <td>1.000</td>\n",
       "      <td>0.000</td>\n",
       "      <td>0.0000</td>\n",
       "    </tr>\n",
       "    <tr>\n",
       "      <th>6969</th>\n",
       "      <td>6969</td>\n",
       "      <td>1321645107183980544t</td>\n",
       "      <td>@GreyHaired07 and yet, every other year we are...</td>\n",
       "      <td>mandatory</td>\n",
       "      <td>['mandatory']</td>\n",
       "      <td>1</td>\n",
       "      <td>31</td>\n",
       "      <td>greyhaired07 and yet every other year we are r...</td>\n",
       "      <td>['greyhaired07', 'yet', 'every', 'year', 'remi...</td>\n",
       "      <td>0.151</td>\n",
       "      <td>0.849</td>\n",
       "      <td>0.000</td>\n",
       "      <td>-0.5859</td>\n",
       "    </tr>\n",
       "    <tr>\n",
       "      <th>7172</th>\n",
       "      <td>7172</td>\n",
       "      <td>1432922183337066498t</td>\n",
       "      <td>#VAERS 17y♂️#Pfizer #Covidvaccine #Suicide att...</td>\n",
       "      <td>side-effect</td>\n",
       "      <td>['side-effect']</td>\n",
       "      <td>1</td>\n",
       "      <td>45</td>\n",
       "      <td>vaers 17ypfizer covidvaccine suicide attempt p...</td>\n",
       "      <td>['vaers', '17ypfizer', 'covidvaccine', 'suicid...</td>\n",
       "      <td>0.092</td>\n",
       "      <td>0.857</td>\n",
       "      <td>0.051</td>\n",
       "      <td>-0.4588</td>\n",
       "    </tr>\n",
       "  </tbody>\n",
       "</table>\n",
       "</div>"
      ],
      "text/plain": [
       "      Unnamed: 0                    ID  \\\n",
       "1477        1477  1352994869556350977t   \n",
       "1790        1790  1364574998397132805t   \n",
       "2615        2615  1334085299945807873t   \n",
       "6969        6969  1321645107183980544t   \n",
       "7172        7172  1432922183337066498t   \n",
       "\n",
       "                                                  tweet  \\\n",
       "1477  #TRUSTCCP? Do you trust the Chinese Communist ...   \n",
       "1790  @hannah62687 @mgtalbott @DrTomFrieden For many...   \n",
       "2615  Imagine if the covid vaccine has a side effect...   \n",
       "6969  @GreyHaired07 and yet, every other year we are...   \n",
       "7172  #VAERS 17y♂️#Pfizer #Covidvaccine #Suicide att...   \n",
       "\n",
       "                       labels                      label_list  label_len  \\\n",
       "1477                  country                     ['country']          1   \n",
       "1790  ineffective unnecessary  ['ineffective', 'unnecessary']          2   \n",
       "2615              side-effect                 ['side-effect']          1   \n",
       "6969                mandatory                   ['mandatory']          1   \n",
       "7172              side-effect                 ['side-effect']          1   \n",
       "\n",
       "      tweet_len                                       clean_tweets  \\\n",
       "1477         32  trustccp do you trust the chinese communist pa...   \n",
       "1790         50  hannah62687 mgtalbott drtomfrieden for many ge...   \n",
       "2615         17  imagine if the covid vaccine has a side effect...   \n",
       "6969         31  greyhaired07 and yet every other year we are r...   \n",
       "7172         45  vaers 17ypfizer covidvaccine suicide attempt p...   \n",
       "\n",
       "                                                 tokens    neg    neu    pos  \\\n",
       "1477  ['trustccp', 'trust', 'chinese', 'communist', ...  0.035  0.679  0.286   \n",
       "1790  ['hannah62687', 'mgtalbott', 'drtomfrieden', '...  0.139  0.756  0.105   \n",
       "2615  ['imagine', 'covid', 'vaccine', 'side', 'effec...  0.000  1.000  0.000   \n",
       "6969  ['greyhaired07', 'yet', 'every', 'year', 'remi...  0.151  0.849  0.000   \n",
       "7172  ['vaers', '17ypfizer', 'covidvaccine', 'suicid...  0.092  0.857  0.051   \n",
       "\n",
       "      compound  \n",
       "1477    0.8738  \n",
       "1790   -0.2295  \n",
       "2615    0.0000  \n",
       "6969   -0.5859  \n",
       "7172   -0.4588  "
      ]
     },
     "execution_count": 53,
     "metadata": {},
     "output_type": "execute_result"
    }
   ],
   "source": [
    "train_df.head()"
   ]
  },
  {
   "cell_type": "markdown",
   "id": "d237443b-a20d-4aa7-928c-b04a06d93e79",
   "metadata": {},
   "source": [
    "# Baseline Model"
   ]
  },
  {
   "cell_type": "markdown",
   "id": "b3b0cc33-c20a-4881-8c07-d0936bf4c215",
   "metadata": {},
   "source": [
    "## tf-idf "
   ]
  },
  {
   "cell_type": "code",
   "execution_count": 54,
   "id": "51eb3cd4-4501-450c-b150-b32f79d718cf",
   "metadata": {
    "tags": []
   },
   "outputs": [],
   "source": [
    "import numpy as np\n",
    "from sklearn.feature_extraction.text import TfidfVectorizer\n",
    "import re\n",
    "import string"
   ]
  },
  {
   "cell_type": "code",
   "execution_count": 55,
   "id": "ac16ff0a-7db6-4f66-b330-125a71bbd6d7",
   "metadata": {
    "tags": []
   },
   "outputs": [],
   "source": [
    "# Text pre-processing\n",
    "def preprocess_text(text):\n",
    "    # Remove URLs\n",
    "    text = re.sub(r\"http\\S+|www\\S+|https\\S+\", '', text, flags=re.MULTILINE)\n",
    "    # Remove user @ references and '#' from text\n",
    "    #text = re.sub(r'\\@\\w+|\\#','', text)\n",
    "    text = re.sub(r'\\@\\w+','', text)\n",
    "    # Remove punctuations\n",
    "    text = text.translate(str.maketrans('', '', string.punctuation))\n",
    "    # Convert to lowercase to maintain consistency\n",
    "    text = text.lower()\n",
    "    return text"
   ]
  },
  {
   "cell_type": "code",
   "execution_count": 56,
   "id": "c9b8d1d3-3aa0-4675-a194-428beab018da",
   "metadata": {
    "collapsed": true,
    "jupyter": {
     "outputs_hidden": true
    },
    "tags": []
   },
   "outputs": [
    {
     "name": "stderr",
     "output_type": "stream",
     "text": [
      "/opt/conda/lib/python3.7/site-packages/ipykernel_launcher.py:1: SettingWithCopyWarning: \n",
      "A value is trying to be set on a copy of a slice from a DataFrame.\n",
      "Try using .loc[row_indexer,col_indexer] = value instead\n",
      "\n",
      "See the caveats in the documentation: https://pandas.pydata.org/pandas-docs/stable/user_guide/indexing.html#returning-a-view-versus-a-copy\n",
      "  \"\"\"Entry point for launching an IPython kernel.\n",
      "/opt/conda/lib/python3.7/site-packages/ipykernel_launcher.py:2: SettingWithCopyWarning: \n",
      "A value is trying to be set on a copy of a slice from a DataFrame.\n",
      "Try using .loc[row_indexer,col_indexer] = value instead\n",
      "\n",
      "See the caveats in the documentation: https://pandas.pydata.org/pandas-docs/stable/user_guide/indexing.html#returning-a-view-versus-a-copy\n",
      "  \n"
     ]
    }
   ],
   "source": [
    "train_df['tweet'] = train_df['tweet'].apply(preprocess_text)\n",
    "val_df['tweet'] = val_df['tweet'].apply(preprocess_text)"
   ]
  },
  {
   "cell_type": "code",
   "execution_count": 29,
   "id": "32067c48-f0c0-4e9e-934c-7406084855b7",
   "metadata": {
    "collapsed": true,
    "jupyter": {
     "outputs_hidden": true
    },
    "tags": []
   },
   "outputs": [
    {
     "data": {
      "text/html": [
       "<div>\n",
       "<style scoped>\n",
       "    .dataframe tbody tr th:only-of-type {\n",
       "        vertical-align: middle;\n",
       "    }\n",
       "\n",
       "    .dataframe tbody tr th {\n",
       "        vertical-align: top;\n",
       "    }\n",
       "\n",
       "    .dataframe thead th {\n",
       "        text-align: right;\n",
       "    }\n",
       "</style>\n",
       "<table border=\"1\" class=\"dataframe\">\n",
       "  <thead>\n",
       "    <tr style=\"text-align: right;\">\n",
       "      <th></th>\n",
       "      <th>Unnamed: 0</th>\n",
       "      <th>ID</th>\n",
       "      <th>tweet</th>\n",
       "      <th>labels</th>\n",
       "      <th>label_list</th>\n",
       "      <th>label_len</th>\n",
       "      <th>tweet_len</th>\n",
       "      <th>clean_tweets</th>\n",
       "      <th>tokens</th>\n",
       "      <th>neg</th>\n",
       "      <th>neu</th>\n",
       "      <th>pos</th>\n",
       "      <th>compound</th>\n",
       "    </tr>\n",
       "  </thead>\n",
       "  <tbody>\n",
       "    <tr>\n",
       "      <th>1477</th>\n",
       "      <td>1477</td>\n",
       "      <td>1352994869556350977t</td>\n",
       "      <td>trustccp do you trust the chinese communist pa...</td>\n",
       "      <td>country</td>\n",
       "      <td>['country']</td>\n",
       "      <td>1</td>\n",
       "      <td>32</td>\n",
       "      <td>trustccp do you trust the chinese communist pa...</td>\n",
       "      <td>['trustccp', 'trust', 'chinese', 'communist', ...</td>\n",
       "      <td>0.035</td>\n",
       "      <td>0.679</td>\n",
       "      <td>0.286</td>\n",
       "      <td>0.8738</td>\n",
       "    </tr>\n",
       "    <tr>\n",
       "      <th>1790</th>\n",
       "      <td>1790</td>\n",
       "      <td>1364574998397132805t</td>\n",
       "      <td>for many getting severe covid was already a...</td>\n",
       "      <td>ineffective unnecessary</td>\n",
       "      <td>['ineffective', 'unnecessary']</td>\n",
       "      <td>2</td>\n",
       "      <td>50</td>\n",
       "      <td>hannah62687 mgtalbott drtomfrieden for many ge...</td>\n",
       "      <td>['hannah62687', 'mgtalbott', 'drtomfrieden', '...</td>\n",
       "      <td>0.139</td>\n",
       "      <td>0.756</td>\n",
       "      <td>0.105</td>\n",
       "      <td>-0.2295</td>\n",
       "    </tr>\n",
       "    <tr>\n",
       "      <th>2615</th>\n",
       "      <td>2615</td>\n",
       "      <td>1334085299945807873t</td>\n",
       "      <td>imagine if the covid vaccine has a side effect...</td>\n",
       "      <td>side-effect</td>\n",
       "      <td>['side-effect']</td>\n",
       "      <td>1</td>\n",
       "      <td>17</td>\n",
       "      <td>imagine if the covid vaccine has a side effect...</td>\n",
       "      <td>['imagine', 'covid', 'vaccine', 'side', 'effec...</td>\n",
       "      <td>0.000</td>\n",
       "      <td>1.000</td>\n",
       "      <td>0.000</td>\n",
       "      <td>0.0000</td>\n",
       "    </tr>\n",
       "    <tr>\n",
       "      <th>6969</th>\n",
       "      <td>6969</td>\n",
       "      <td>1321645107183980544t</td>\n",
       "      <td>and yet every other year we are reminded ever...</td>\n",
       "      <td>mandatory</td>\n",
       "      <td>['mandatory']</td>\n",
       "      <td>1</td>\n",
       "      <td>31</td>\n",
       "      <td>greyhaired07 and yet every other year we are r...</td>\n",
       "      <td>['greyhaired07', 'yet', 'every', 'year', 'remi...</td>\n",
       "      <td>0.151</td>\n",
       "      <td>0.849</td>\n",
       "      <td>0.000</td>\n",
       "      <td>-0.5859</td>\n",
       "    </tr>\n",
       "    <tr>\n",
       "      <th>7172</th>\n",
       "      <td>7172</td>\n",
       "      <td>1432922183337066498t</td>\n",
       "      <td>vaers 17y♂️pfizer covidvaccine suicide attempt...</td>\n",
       "      <td>side-effect</td>\n",
       "      <td>['side-effect']</td>\n",
       "      <td>1</td>\n",
       "      <td>45</td>\n",
       "      <td>vaers 17ypfizer covidvaccine suicide attempt p...</td>\n",
       "      <td>['vaers', '17ypfizer', 'covidvaccine', 'suicid...</td>\n",
       "      <td>0.092</td>\n",
       "      <td>0.857</td>\n",
       "      <td>0.051</td>\n",
       "      <td>-0.4588</td>\n",
       "    </tr>\n",
       "  </tbody>\n",
       "</table>\n",
       "</div>"
      ],
      "text/plain": [
       "      Unnamed: 0                    ID  \\\n",
       "1477        1477  1352994869556350977t   \n",
       "1790        1790  1364574998397132805t   \n",
       "2615        2615  1334085299945807873t   \n",
       "6969        6969  1321645107183980544t   \n",
       "7172        7172  1432922183337066498t   \n",
       "\n",
       "                                                  tweet  \\\n",
       "1477  trustccp do you trust the chinese communist pa...   \n",
       "1790     for many getting severe covid was already a...   \n",
       "2615  imagine if the covid vaccine has a side effect...   \n",
       "6969   and yet every other year we are reminded ever...   \n",
       "7172  vaers 17y♂️pfizer covidvaccine suicide attempt...   \n",
       "\n",
       "                       labels                      label_list  label_len  \\\n",
       "1477                  country                     ['country']          1   \n",
       "1790  ineffective unnecessary  ['ineffective', 'unnecessary']          2   \n",
       "2615              side-effect                 ['side-effect']          1   \n",
       "6969                mandatory                   ['mandatory']          1   \n",
       "7172              side-effect                 ['side-effect']          1   \n",
       "\n",
       "      tweet_len                                       clean_tweets  \\\n",
       "1477         32  trustccp do you trust the chinese communist pa...   \n",
       "1790         50  hannah62687 mgtalbott drtomfrieden for many ge...   \n",
       "2615         17  imagine if the covid vaccine has a side effect...   \n",
       "6969         31  greyhaired07 and yet every other year we are r...   \n",
       "7172         45  vaers 17ypfizer covidvaccine suicide attempt p...   \n",
       "\n",
       "                                                 tokens    neg    neu    pos  \\\n",
       "1477  ['trustccp', 'trust', 'chinese', 'communist', ...  0.035  0.679  0.286   \n",
       "1790  ['hannah62687', 'mgtalbott', 'drtomfrieden', '...  0.139  0.756  0.105   \n",
       "2615  ['imagine', 'covid', 'vaccine', 'side', 'effec...  0.000  1.000  0.000   \n",
       "6969  ['greyhaired07', 'yet', 'every', 'year', 'remi...  0.151  0.849  0.000   \n",
       "7172  ['vaers', '17ypfizer', 'covidvaccine', 'suicid...  0.092  0.857  0.051   \n",
       "\n",
       "      compound  \n",
       "1477    0.8738  \n",
       "1790   -0.2295  \n",
       "2615    0.0000  \n",
       "6969   -0.5859  \n",
       "7172   -0.4588  "
      ]
     },
     "execution_count": 29,
     "metadata": {},
     "output_type": "execute_result"
    }
   ],
   "source": [
    "train_df.head()"
   ]
  },
  {
   "cell_type": "code",
   "execution_count": 57,
   "id": "3f82490f-730b-4a1a-9fe3-12616f08fcad",
   "metadata": {
    "tags": []
   },
   "outputs": [],
   "source": [
    "# Initialize a TfidfVectorizer\n",
    "tfidf_vectorizer = TfidfVectorizer(stop_words='english', max_df=0.7)"
   ]
  },
  {
   "cell_type": "code",
   "execution_count": 58,
   "id": "c8b47804-2c68-42f4-be1c-aa20443d1eae",
   "metadata": {
    "tags": []
   },
   "outputs": [],
   "source": [
    "# Fit and transform the vectorizer on the train set, and only transform the vectorizer on the test set\n",
    "tfidf_train = tfidf_vectorizer.fit_transform(train_df['tweet']) \n",
    "tfidf_test = tfidf_vectorizer.transform(val_df['tweet'])"
   ]
  },
  {
   "cell_type": "code",
   "execution_count": 59,
   "id": "fec3b04b-4b8a-40fc-a64c-52308d7fc6a5",
   "metadata": {
    "tags": []
   },
   "outputs": [],
   "source": [
    "# Get the feature names\n",
    "feature_names = tfidf_vectorizer.get_feature_names()"
   ]
  },
  {
   "cell_type": "code",
   "execution_count": 33,
   "id": "5b0698a6-8014-4e36-a16e-9cfb767f32bf",
   "metadata": {
    "tags": []
   },
   "outputs": [],
   "source": [
    "# Sum tfidf frequency of each term through documents\n",
    "sums = tfidf_train.sum(axis=0)\n",
    "\n",
    "# Connecting term and sum frequency\n",
    "data = []\n",
    "for col, term in enumerate(feature_names):\n",
    "    data.append( (term, sums[0,col] ))"
   ]
  },
  {
   "cell_type": "code",
   "execution_count": 34,
   "id": "e88b86bf-6d94-4627-8495-f12b9708d5d8",
   "metadata": {
    "tags": []
   },
   "outputs": [
    {
     "name": "stdout",
     "output_type": "stream",
     "text": [
      "            term        rank\n",
      "3663       covid  225.916205\n",
      "10403     pfizer  187.450874\n",
      "10324     people  168.070074\n",
      "3667     covid19  139.466598\n",
      "14712   vaccines  139.198034\n",
      "...          ...         ...\n",
      "674         6mon    0.156619\n",
      "25           025    0.156619\n",
      "9218   multidose    0.156619\n",
      "1757       avian    0.153288\n",
      "6503        h5n1    0.153288\n",
      "\n",
      "[15616 rows x 2 columns]\n"
     ]
    }
   ],
   "source": [
    "ranking = pd.DataFrame(data, columns=['term','rank'])\n",
    "print(ranking.sort_values('rank', ascending=False))"
   ]
  },
  {
   "cell_type": "code",
   "execution_count": 60,
   "id": "d01815d3-29ce-46df-8fae-59d60cc4a5b1",
   "metadata": {
    "tags": []
   },
   "outputs": [],
   "source": [
    "import ast\n",
    "\n",
    "y_train = train_df['label_list'].apply(ast.literal_eval)\n",
    "y_test = val_df['label_list'].apply(ast.literal_eval)"
   ]
  },
  {
   "cell_type": "code",
   "execution_count": 63,
   "id": "524d8ad8-50af-4485-9ef7-4558d67ab2dd",
   "metadata": {
    "tags": []
   },
   "outputs": [],
   "source": [
    "from sklearn.multiclass import OneVsRestClassifier\n",
    "from sklearn.naive_bayes import MultinomialNB\n",
    "from sklearn.preprocessing import MultiLabelBinarizer\n",
    "\n",
    "# Binarize the labels for multi-label classification\n",
    "mlb = MultiLabelBinarizer()\n",
    "y_train_binarized = mlb.fit_transform(y_train)\n",
    "y_test_binarized = mlb.transform(y_test)"
   ]
  },
  {
   "cell_type": "markdown",
   "id": "712124f6-796e-42f6-8d70-7d4e68e16661",
   "metadata": {},
   "source": [
    "## Naive Bayes"
   ]
  },
  {
   "cell_type": "code",
   "execution_count": null,
   "id": "87140736-aab4-4c9a-974e-25dc8b60f12b",
   "metadata": {},
   "outputs": [],
   "source": [
    "# Initialize the OneVsRestClassifier with MultinomialNB\n",
    "clf = OneVsRestClassifier(MultinomialNB())\n",
    "\n",
    "# Fit the model\n",
    "clf.fit(tfidf_train, y_train_binarized)\n",
    "\n",
    "# Predict the test set\n",
    "predictions = clf.predict(tfidf_test)"
   ]
  },
  {
   "cell_type": "code",
   "execution_count": 32,
   "id": "aa3301e2-9ae3-4228-ad04-43fbafe8519f",
   "metadata": {
    "tags": []
   },
   "outputs": [
    {
     "name": "stdout",
     "output_type": "stream",
     "text": [
      "Accuracy:  0.18841309823677582\n",
      "Precision:  0.9372197309417041\n",
      "Recall:  0.16998779991866614\n",
      "F1 score:  0.28777969018932875\n",
      "Jaccard score:  0.16807398472054685\n"
     ]
    }
   ],
   "source": [
    "from sklearn.metrics import accuracy_score\n",
    "from sklearn.metrics import precision_score\n",
    "from sklearn.metrics import recall_score\n",
    "from sklearn.metrics import f1_score\n",
    "from sklearn.metrics import jaccard_score\n",
    "\n",
    "# Ensure that y_test and predictions are binary arrays\n",
    "y_test_array = np.array(y_test_binarized)\n",
    "predictions_array = np.array(predictions)\n",
    "\n",
    "# Accuracy\n",
    "print('Accuracy: ', accuracy_score(y_test_array, predictions_array))\n",
    "\n",
    "# Precision\n",
    "print('Precision: ', precision_score(y_test_array, predictions_array, average='micro'))\n",
    "\n",
    "# Recall\n",
    "print('Recall: ', recall_score(y_test_array, predictions_array, average='micro'))\n",
    "\n",
    "# F1 score\n",
    "print('F1 score: ', f1_score(y_test_array, predictions_array, average='micro'))\n",
    "\n",
    "# Jaccard score\n",
    "print('Jaccard score: ', jaccard_score(y_test_array, predictions_array, average='micro'))"
   ]
  },
  {
   "cell_type": "code",
   "execution_count": 39,
   "id": "b69e46fd-4ee5-4d0e-94ab-8dfe0e2b3cf1",
   "metadata": {
    "tags": []
   },
   "outputs": [
    {
     "data": {
      "text/plain": [
       "array(['conspiracy', 'country', 'ineffective', 'ingredients', 'mandatory',\n",
       "       'none', 'pharma', 'political', 'religious', 'rushed',\n",
       "       'side-effect', 'unnecessary'], dtype=object)"
      ]
     },
     "execution_count": 39,
     "metadata": {},
     "output_type": "execute_result"
    }
   ],
   "source": [
    "mlb.classes_"
   ]
  },
  {
   "cell_type": "code",
   "execution_count": 37,
   "id": "eddbd3ef-ad04-4ed1-a9b8-177ae05f64da",
   "metadata": {
    "tags": []
   },
   "outputs": [
    {
     "data": {
      "text/plain": [
       "array([0, 0, 0, 0, 0, 0, 1, 0, 0, 0, 0, 1])"
      ]
     },
     "execution_count": 37,
     "metadata": {},
     "output_type": "execute_result"
    }
   ],
   "source": [
    "y_test_array[1]"
   ]
  },
  {
   "cell_type": "code",
   "execution_count": 38,
   "id": "6d0a893c-f1c2-47de-93a6-947ede84b0c3",
   "metadata": {
    "tags": []
   },
   "outputs": [
    {
     "data": {
      "text/plain": [
       "array([0, 0, 0, 0, 0, 0, 0, 0, 0, 0, 0, 0])"
      ]
     },
     "execution_count": 38,
     "metadata": {},
     "output_type": "execute_result"
    }
   ],
   "source": [
    "predictions_array[1]"
   ]
  },
  {
   "cell_type": "code",
   "execution_count": 39,
   "id": "266eb493-1933-428f-a4e6-783b7a3a411a",
   "metadata": {
    "tags": []
   },
   "outputs": [
    {
     "data": {
      "text/plain": [
       "Unnamed: 0                                                    510\n",
       "ID                                           1355176268879306752t\n",
       "tweet            vaccinating young people 40 with 0005 risk fr...\n",
       "labels                                         pharma unnecessary\n",
       "label_list                              ['pharma', 'unnecessary']\n",
       "label_len                                                       2\n",
       "tweet_len                                                      45\n",
       "clean_tweets    bbcbreaking vaccinating young people 40 with 0...\n",
       "tokens          ['bbcbreaking', 'vaccinating', 'young', 'peopl...\n",
       "neg                                                         0.214\n",
       "neu                                                         0.722\n",
       "pos                                                         0.064\n",
       "compound                                                   -0.759\n",
       "Name: 510, dtype: object"
      ]
     },
     "execution_count": 39,
     "metadata": {},
     "output_type": "execute_result"
    }
   ],
   "source": [
    "val_df.iloc[1]"
   ]
  },
  {
   "cell_type": "markdown",
   "id": "8770e06e-f45e-4265-8a87-ef3ad17e4ce8",
   "metadata": {},
   "source": [
    "## DNN + tfidf"
   ]
  },
  {
   "cell_type": "code",
   "execution_count": 61,
   "id": "5576c6af-0a82-434d-80fd-3e28139c2e43",
   "metadata": {
    "collapsed": true,
    "jupyter": {
     "outputs_hidden": true
    },
    "tags": []
   },
   "outputs": [
    {
     "name": "stdout",
     "output_type": "stream",
     "text": [
      "Collecting tensorflow\n",
      "  Using cached tensorflow-2.11.0-cp37-cp37m-manylinux_2_17_x86_64.manylinux2014_x86_64.whl (588.3 MB)\n",
      "Collecting absl-py>=1.0.0 (from tensorflow)\n",
      "  Using cached absl_py-1.4.0-py3-none-any.whl (126 kB)\n",
      "Collecting astunparse>=1.6.0 (from tensorflow)\n",
      "  Using cached astunparse-1.6.3-py2.py3-none-any.whl (12 kB)\n",
      "Collecting flatbuffers>=2.0 (from tensorflow)\n",
      "  Using cached flatbuffers-23.5.26-py2.py3-none-any.whl (26 kB)\n",
      "Collecting gast<=0.4.0,>=0.2.1 (from tensorflow)\n",
      "  Using cached gast-0.4.0-py3-none-any.whl (9.8 kB)\n",
      "Requirement already satisfied: google-pasta>=0.1.1 in /opt/conda/lib/python3.7/site-packages (from tensorflow) (0.2.0)\n",
      "Collecting grpcio<2.0,>=1.24.3 (from tensorflow)\n",
      "  Using cached grpcio-1.56.2-cp37-cp37m-manylinux_2_17_x86_64.manylinux2014_x86_64.whl (5.2 MB)\n",
      "Requirement already satisfied: h5py>=2.9.0 in /opt/conda/lib/python3.7/site-packages (from tensorflow) (2.10.0)\n",
      "Collecting keras<2.12,>=2.11.0 (from tensorflow)\n",
      "  Using cached keras-2.11.0-py2.py3-none-any.whl (1.7 MB)\n",
      "Collecting libclang>=13.0.0 (from tensorflow)\n",
      "  Using cached libclang-16.0.6-py2.py3-none-manylinux2010_x86_64.whl (22.9 MB)\n",
      "Requirement already satisfied: numpy>=1.20 in /opt/conda/lib/python3.7/site-packages (from tensorflow) (1.21.6)\n",
      "Collecting opt-einsum>=2.3.2 (from tensorflow)\n",
      "  Using cached opt_einsum-3.3.0-py3-none-any.whl (65 kB)\n",
      "Requirement already satisfied: packaging in /opt/conda/lib/python3.7/site-packages (from tensorflow) (20.1)\n",
      "Collecting protobuf<3.20,>=3.9.2 (from tensorflow)\n",
      "  Using cached protobuf-3.19.6-cp37-cp37m-manylinux_2_17_x86_64.manylinux2014_x86_64.whl (1.1 MB)\n",
      "Requirement already satisfied: setuptools in /opt/conda/lib/python3.7/site-packages (from tensorflow) (65.5.1)\n",
      "Requirement already satisfied: six>=1.12.0 in /opt/conda/lib/python3.7/site-packages (from tensorflow) (1.14.0)\n",
      "Collecting tensorboard<2.12,>=2.11 (from tensorflow)\n",
      "  Using cached tensorboard-2.11.2-py3-none-any.whl (6.0 MB)\n",
      "Collecting tensorflow-estimator<2.12,>=2.11.0 (from tensorflow)\n",
      "  Using cached tensorflow_estimator-2.11.0-py2.py3-none-any.whl (439 kB)\n",
      "Collecting termcolor>=1.1.0 (from tensorflow)\n",
      "  Using cached termcolor-2.3.0-py3-none-any.whl (6.9 kB)\n",
      "Requirement already satisfied: typing-extensions>=3.6.6 in /opt/conda/lib/python3.7/site-packages (from tensorflow) (4.6.3)\n",
      "Requirement already satisfied: wrapt>=1.11.0 in /opt/conda/lib/python3.7/site-packages (from tensorflow) (1.11.2)\n",
      "Collecting tensorflow-io-gcs-filesystem>=0.23.1 (from tensorflow)\n",
      "  Using cached tensorflow_io_gcs_filesystem-0.32.0-cp37-cp37m-manylinux_2_12_x86_64.manylinux2010_x86_64.whl (2.4 MB)\n",
      "Requirement already satisfied: wheel<1.0,>=0.23.0 in /opt/conda/lib/python3.7/site-packages (from astunparse>=1.6.0->tensorflow) (0.40.0)\n",
      "Collecting google-auth<3,>=1.6.3 (from tensorboard<2.12,>=2.11->tensorflow)\n",
      "  Using cached google_auth-2.22.0-py2.py3-none-any.whl (181 kB)\n",
      "Collecting google-auth-oauthlib<0.5,>=0.4.1 (from tensorboard<2.12,>=2.11->tensorflow)\n",
      "  Using cached google_auth_oauthlib-0.4.6-py2.py3-none-any.whl (18 kB)\n",
      "Collecting markdown>=2.6.8 (from tensorboard<2.12,>=2.11->tensorflow)\n",
      "  Downloading Markdown-3.4.4-py3-none-any.whl (94 kB)\n",
      "\u001b[2K     \u001b[90m━━━━━━━━━━━━━━━━━━━━━━━━━━━━━━━━━━━━━━━━\u001b[0m \u001b[32m94.2/94.2 kB\u001b[0m \u001b[31m1.7 MB/s\u001b[0m eta \u001b[36m0:00:00\u001b[0m:00:01\u001b[0m\n",
      "\u001b[?25hRequirement already satisfied: requests<3,>=2.21.0 in /opt/conda/lib/python3.7/site-packages (from tensorboard<2.12,>=2.11->tensorflow) (2.31.0)\n",
      "Collecting tensorboard-data-server<0.7.0,>=0.6.0 (from tensorboard<2.12,>=2.11->tensorflow)\n",
      "  Using cached tensorboard_data_server-0.6.1-py3-none-manylinux2010_x86_64.whl (4.9 MB)\n",
      "Collecting tensorboard-plugin-wit>=1.6.0 (from tensorboard<2.12,>=2.11->tensorflow)\n",
      "  Using cached tensorboard_plugin_wit-1.8.1-py3-none-any.whl (781 kB)\n",
      "Requirement already satisfied: werkzeug>=1.0.1 in /opt/conda/lib/python3.7/site-packages (from tensorboard<2.12,>=2.11->tensorflow) (2.2.3)\n",
      "Requirement already satisfied: pyparsing>=2.0.2 in /opt/conda/lib/python3.7/site-packages (from packaging->tensorflow) (2.4.6)\n",
      "Collecting cachetools<6.0,>=2.0.0 (from google-auth<3,>=1.6.3->tensorboard<2.12,>=2.11->tensorflow)\n",
      "  Using cached cachetools-5.3.1-py3-none-any.whl (9.3 kB)\n",
      "Collecting pyasn1-modules>=0.2.1 (from google-auth<3,>=1.6.3->tensorboard<2.12,>=2.11->tensorflow)\n",
      "  Using cached pyasn1_modules-0.3.0-py2.py3-none-any.whl (181 kB)\n",
      "Requirement already satisfied: rsa<5,>=3.1.4 in /opt/conda/lib/python3.7/site-packages (from google-auth<3,>=1.6.3->tensorboard<2.12,>=2.11->tensorflow) (4.9)\n",
      "Collecting urllib3<2.0 (from google-auth<3,>=1.6.3->tensorboard<2.12,>=2.11->tensorflow)\n",
      "  Using cached urllib3-1.26.16-py2.py3-none-any.whl (143 kB)\n",
      "Collecting requests-oauthlib>=0.7.0 (from google-auth-oauthlib<0.5,>=0.4.1->tensorboard<2.12,>=2.11->tensorflow)\n",
      "  Using cached requests_oauthlib-1.3.1-py2.py3-none-any.whl (23 kB)\n",
      "Requirement already satisfied: importlib-metadata>=4.4 in /opt/conda/lib/python3.7/site-packages (from markdown>=2.6.8->tensorboard<2.12,>=2.11->tensorflow) (6.6.0)\n",
      "Requirement already satisfied: charset-normalizer<4,>=2 in /opt/conda/lib/python3.7/site-packages (from requests<3,>=2.21.0->tensorboard<2.12,>=2.11->tensorflow) (2.0.4)\n",
      "Requirement already satisfied: idna<4,>=2.5 in /opt/conda/lib/python3.7/site-packages (from requests<3,>=2.21.0->tensorboard<2.12,>=2.11->tensorflow) (2.8)\n",
      "Requirement already satisfied: certifi>=2017.4.17 in /opt/conda/lib/python3.7/site-packages (from requests<3,>=2.21.0->tensorboard<2.12,>=2.11->tensorflow) (2023.5.7)\n",
      "Requirement already satisfied: MarkupSafe>=2.1.1 in /opt/conda/lib/python3.7/site-packages (from werkzeug>=1.0.1->tensorboard<2.12,>=2.11->tensorflow) (2.1.3)\n",
      "Requirement already satisfied: zipp>=0.5 in /opt/conda/lib/python3.7/site-packages (from importlib-metadata>=4.4->markdown>=2.6.8->tensorboard<2.12,>=2.11->tensorflow) (2.2.0)\n",
      "Requirement already satisfied: pyasn1<0.6.0,>=0.4.6 in /opt/conda/lib/python3.7/site-packages (from pyasn1-modules>=0.2.1->google-auth<3,>=1.6.3->tensorboard<2.12,>=2.11->tensorflow) (0.5.0)\n",
      "Collecting oauthlib>=3.0.0 (from requests-oauthlib>=0.7.0->google-auth-oauthlib<0.5,>=0.4.1->tensorboard<2.12,>=2.11->tensorflow)\n",
      "  Using cached oauthlib-3.2.2-py3-none-any.whl (151 kB)\n",
      "Installing collected packages: tensorboard-plugin-wit, libclang, flatbuffers, urllib3, termcolor, tensorflow-io-gcs-filesystem, tensorflow-estimator, tensorboard-data-server, pyasn1-modules, protobuf, opt-einsum, oauthlib, keras, grpcio, gast, cachetools, astunparse, absl-py, markdown, google-auth, requests-oauthlib, google-auth-oauthlib, tensorboard, tensorflow\n",
      "  Attempting uninstall: urllib3\n",
      "    Found existing installation: urllib3 2.0.3\n",
      "    Uninstalling urllib3-2.0.3:\n",
      "      Successfully uninstalled urllib3-2.0.3\n",
      "  Attempting uninstall: protobuf\n",
      "    Found existing installation: protobuf 3.20.3\n",
      "    Uninstalling protobuf-3.20.3:\n",
      "      Successfully uninstalled protobuf-3.20.3\n",
      "\u001b[31mERROR: pip's dependency resolver does not currently take into account all the packages that are installed. This behaviour is the source of the following dependency conflicts.\n",
      "sagemaker 2.165.0 requires importlib-metadata<5.0,>=1.4.0, but you have importlib-metadata 6.6.0 which is incompatible.\n",
      "sparkmagic 0.20.4 requires nest-asyncio==1.5.5, but you have nest-asyncio 1.5.6 which is incompatible.\u001b[0m\u001b[31m\n",
      "\u001b[0mSuccessfully installed absl-py-1.4.0 astunparse-1.6.3 cachetools-5.3.1 flatbuffers-23.5.26 gast-0.4.0 google-auth-2.22.0 google-auth-oauthlib-0.4.6 grpcio-1.56.2 keras-2.11.0 libclang-16.0.6 markdown-3.4.4 oauthlib-3.2.2 opt-einsum-3.3.0 protobuf-3.19.6 pyasn1-modules-0.3.0 requests-oauthlib-1.3.1 tensorboard-2.11.2 tensorboard-data-server-0.6.1 tensorboard-plugin-wit-1.8.1 tensorflow-2.11.0 tensorflow-estimator-2.11.0 tensorflow-io-gcs-filesystem-0.32.0 termcolor-2.3.0 urllib3-1.26.16\n",
      "\u001b[33mWARNING: Running pip as the 'root' user can result in broken permissions and conflicting behaviour with the system package manager. It is recommended to use a virtual environment instead: https://pip.pypa.io/warnings/venv\u001b[0m\u001b[33m\n",
      "\u001b[0m\n",
      "\u001b[1m[\u001b[0m\u001b[34;49mnotice\u001b[0m\u001b[1;39;49m]\u001b[0m\u001b[39;49m A new release of pip is available: \u001b[0m\u001b[31;49m23.1.2\u001b[0m\u001b[39;49m -> \u001b[0m\u001b[32;49m23.2.1\u001b[0m\n",
      "\u001b[1m[\u001b[0m\u001b[34;49mnotice\u001b[0m\u001b[1;39;49m]\u001b[0m\u001b[39;49m To update, run: \u001b[0m\u001b[32;49mpip install --upgrade pip\u001b[0m\n"
     ]
    }
   ],
   "source": [
    "!pip install tensorflow"
   ]
  },
  {
   "cell_type": "code",
   "execution_count": 64,
   "id": "d5d7b537-4127-4e1c-b76c-bac8f988422a",
   "metadata": {
    "tags": []
   },
   "outputs": [
    {
     "name": "stdout",
     "output_type": "stream",
     "text": [
      "Epoch 1/5\n",
      "248/248 [==============================] - 6s 20ms/step - loss: 0.3341 - categorical_accuracy: 0.2713 - val_loss: 0.2554 - val_categorical_accuracy: 0.3824\n",
      "Epoch 2/5\n",
      "248/248 [==============================] - 5s 20ms/step - loss: 0.2234 - categorical_accuracy: 0.4723 - val_loss: 0.2097 - val_categorical_accuracy: 0.5053\n",
      "Epoch 3/5\n",
      "248/248 [==============================] - 5s 19ms/step - loss: 0.1529 - categorical_accuracy: 0.6528 - val_loss: 0.1937 - val_categorical_accuracy: 0.5506\n",
      "Epoch 4/5\n",
      "248/248 [==============================] - 5s 20ms/step - loss: 0.0988 - categorical_accuracy: 0.7693 - val_loss: 0.2023 - val_categorical_accuracy: 0.5617\n",
      "Epoch 5/5\n",
      "248/248 [==============================] - 5s 19ms/step - loss: 0.0638 - categorical_accuracy: 0.8309 - val_loss: 0.2191 - val_categorical_accuracy: 0.5662\n"
     ]
    }
   ],
   "source": [
    "from tensorflow.keras.models import Sequential\n",
    "from tensorflow.keras.layers import Dense, Dropout\n",
    "\n",
    "# Define model parameters\n",
    "input_dim = tfidf_train.shape[1]  # Number of features\n",
    "num_classes = y_train_binarized.shape[1]  # Number of classes\n",
    "\n",
    "# Define your model architecture\n",
    "model = Sequential()\n",
    "model.add(Dense(128, input_dim=input_dim, activation='relu'))\n",
    "model.add(Dropout(0.2))\n",
    "model.add(Dense(64, activation='relu'))\n",
    "model.add(Dropout(0.2))\n",
    "model.add(Dense(num_classes, activation='sigmoid'))  # For multi-label classification, we use a sigmoid activation function in the output layer\n",
    "\n",
    "# Compile your model with loss, optimizer and metrics\n",
    "model.compile(loss='binary_crossentropy', optimizer='adam', metrics=['categorical_accuracy'])\n",
    "\n",
    "# Train your model\n",
    "#history = model.fit(tfidf_train, y_train_binarized, epochs=10, verbose=1, validation_data=(tfidf_test, y_test_binarized))\n",
    "\n",
    "history = model.fit(tfidf_train.toarray(), y_train_binarized, epochs=5, verbose=1, validation_data=(tfidf_test.toarray(), y_test_binarized))"
   ]
  },
  {
   "cell_type": "code",
   "execution_count": 65,
   "id": "2ad48b83-87b1-494a-a0b8-b670324c9b1c",
   "metadata": {
    "tags": []
   },
   "outputs": [
    {
     "name": "stdout",
     "output_type": "stream",
     "text": [
      "Testing Accuracy:  0.5662468671798706\n"
     ]
    }
   ],
   "source": [
    "# Evaluate the model\n",
    "loss, accuracy = model.evaluate(tfidf_test.toarray(), y_test_binarized, verbose=False)\n",
    "print(f'Testing Accuracy:  {accuracy}')"
   ]
  },
  {
   "cell_type": "code",
   "execution_count": 66,
   "id": "ae6488d5-1f11-4b38-8ac9-0e75b146340d",
   "metadata": {
    "tags": []
   },
   "outputs": [],
   "source": [
    "y_pred = model.predict(tfidf_test.toarray(), verbose=False)"
   ]
  },
  {
   "cell_type": "code",
   "execution_count": 67,
   "id": "1e90d1d8-a544-4774-a65a-c3606d1b120b",
   "metadata": {
    "tags": []
   },
   "outputs": [
    {
     "data": {
      "text/plain": [
       "array([5.3131701e-03, 6.2131113e-04, 4.0739346e-02, 1.5356428e-02,\n",
       "       3.9116040e-04, 2.6804963e-03, 3.4128907e-01, 4.5793105e-04,\n",
       "       6.1718043e-04, 2.7871949e-03, 7.3996210e-01, 1.0311567e-01],\n",
       "      dtype=float32)"
      ]
     },
     "execution_count": 67,
     "metadata": {},
     "output_type": "execute_result"
    }
   ],
   "source": [
    "y_pred[0]"
   ]
  },
  {
   "cell_type": "code",
   "execution_count": 68,
   "id": "90361871-e219-4478-9429-8046379e5f06",
   "metadata": {
    "tags": []
   },
   "outputs": [
    {
     "data": {
      "text/plain": [
       "array([0, 0, 0, 0, 0, 0, 0, 0, 0, 0, 1, 0])"
      ]
     },
     "execution_count": 68,
     "metadata": {},
     "output_type": "execute_result"
    }
   ],
   "source": [
    "y_test_binarized[0]"
   ]
  },
  {
   "cell_type": "code",
   "execution_count": 83,
   "id": "575401df-6c3b-4223-8d41-69f98475bbff",
   "metadata": {
    "tags": []
   },
   "outputs": [],
   "source": [
    "predictions = (y_pred > 0.2).astype(int)"
   ]
  },
  {
   "cell_type": "code",
   "execution_count": 84,
   "id": "3f6d0075-c9cb-4cbc-a2db-e3efd552ef56",
   "metadata": {
    "tags": []
   },
   "outputs": [
    {
     "data": {
      "text/plain": [
       "array([0, 0, 0, 0, 0, 0, 1, 0, 0, 0, 1, 0])"
      ]
     },
     "execution_count": 84,
     "metadata": {},
     "output_type": "execute_result"
    }
   ],
   "source": [
    "predictions[0]"
   ]
  },
  {
   "cell_type": "code",
   "execution_count": 73,
   "id": "c795e057-818e-4cb7-97bb-ce679f63780a",
   "metadata": {
    "tags": []
   },
   "outputs": [
    {
     "name": "stdout",
     "output_type": "stream",
     "text": [
      "              precision    recall  f1-score   support\n",
      "\n",
      "  conspiracy       0.55      0.24      0.34        91\n",
      "     country       0.62      0.13      0.21        39\n",
      " ineffective       0.66      0.56      0.61       342\n",
      " ingredients       0.80      0.29      0.43       114\n",
      "   mandatory       0.74      0.50      0.59       155\n",
      "        none       0.34      0.17      0.23       115\n",
      "      pharma       0.61      0.52      0.56       258\n",
      "   political       0.53      0.17      0.26       110\n",
      "   religious       1.00      0.23      0.38        13\n",
      "      rushed       0.74      0.59      0.65       298\n",
      " side-effect       0.74      0.80      0.77       764\n",
      " unnecessary       0.69      0.39      0.50       160\n",
      "\n",
      "   micro avg       0.69      0.55      0.61      2459\n",
      "   macro avg       0.67      0.38      0.46      2459\n",
      "weighted avg       0.68      0.55      0.59      2459\n",
      " samples avg       0.60      0.58      0.57      2459\n",
      "\n"
     ]
    },
    {
     "name": "stderr",
     "output_type": "stream",
     "text": [
      "/opt/conda/lib/python3.7/site-packages/sklearn/metrics/_classification.py:1272: UndefinedMetricWarning: Precision and F-score are ill-defined and being set to 0.0 in samples with no predicted labels. Use `zero_division` parameter to control this behavior.\n",
      "  _warn_prf(average, modifier, msg_start, len(result))\n"
     ]
    }
   ],
   "source": [
    "print(classification_report(y_test_binarized, predictions, target_names=mlb.classes_)) #threshold 0.4"
   ]
  },
  {
   "cell_type": "code",
   "execution_count": 76,
   "id": "abe5e3c6-1da8-415d-b23e-43ea9f8df8ff",
   "metadata": {
    "tags": []
   },
   "outputs": [
    {
     "name": "stdout",
     "output_type": "stream",
     "text": [
      "              precision    recall  f1-score   support\n",
      "\n",
      "  conspiracy       0.47      0.29      0.36        91\n",
      "     country       0.73      0.21      0.32        39\n",
      " ineffective       0.63      0.61      0.62       342\n",
      " ingredients       0.78      0.38      0.51       114\n",
      "   mandatory       0.69      0.52      0.59       155\n",
      "        none       0.31      0.23      0.26       115\n",
      "      pharma       0.59      0.55      0.57       258\n",
      "   political       0.49      0.24      0.32       110\n",
      "   religious       0.60      0.23      0.33        13\n",
      "      rushed       0.69      0.63      0.66       298\n",
      " side-effect       0.72      0.83      0.77       764\n",
      " unnecessary       0.65      0.44      0.52       160\n",
      "\n",
      "   micro avg       0.66      0.59      0.62      2459\n",
      "   macro avg       0.61      0.43      0.49      2459\n",
      "weighted avg       0.65      0.59      0.61      2459\n",
      " samples avg       0.61      0.62      0.60      2459\n",
      "\n"
     ]
    }
   ],
   "source": [
    "print(classification_report(y_test_binarized, predictions, target_names=mlb.classes_)) #threshold 0.3"
   ]
  },
  {
   "cell_type": "code",
   "execution_count": 79,
   "id": "60feef84-272c-4a5f-95c7-d76649305dec",
   "metadata": {
    "tags": []
   },
   "outputs": [
    {
     "name": "stdout",
     "output_type": "stream",
     "text": [
      "              precision    recall  f1-score   support\n",
      "\n",
      "  conspiracy       0.39      0.36      0.38        91\n",
      "     country       0.69      0.28      0.40        39\n",
      " ineffective       0.59      0.66      0.63       342\n",
      " ingredients       0.68      0.47      0.56       114\n",
      "   mandatory       0.61      0.57      0.59       155\n",
      "        none       0.30      0.32      0.31       115\n",
      "      pharma       0.55      0.62      0.58       258\n",
      "   political       0.40      0.33      0.36       110\n",
      "   religious       0.60      0.23      0.33        13\n",
      "      rushed       0.62      0.69      0.66       298\n",
      " side-effect       0.69      0.86      0.76       764\n",
      " unnecessary       0.56      0.49      0.52       160\n",
      "\n",
      "   micro avg       0.60      0.65      0.62      2459\n",
      "   macro avg       0.56      0.49      0.51      2459\n",
      "weighted avg       0.60      0.65      0.62      2459\n",
      " samples avg       0.62      0.67      0.62      2459\n",
      "\n"
     ]
    }
   ],
   "source": [
    "print(classification_report(y_test_binarized, predictions, target_names=mlb.classes_)) #threshold 0.2"
   ]
  },
  {
   "cell_type": "markdown",
   "id": "85976eb6-92f6-4d74-a4d9-906db2c6d501",
   "metadata": {},
   "source": [
    "## Error Analysis"
   ]
  },
  {
   "cell_type": "code",
   "execution_count": 44,
   "id": "741930dc-e5f4-4aa8-9e46-5cecf41c73c0",
   "metadata": {},
   "outputs": [
    {
     "name": "stdout",
     "output_type": "stream",
     "text": [
      "63/63 [==============================] - 0s 4ms/step\n"
     ]
    },
    {
     "data": {
      "text/html": [
       "<div>\n",
       "<style scoped>\n",
       "    .dataframe tbody tr th:only-of-type {\n",
       "        vertical-align: middle;\n",
       "    }\n",
       "\n",
       "    .dataframe tbody tr th {\n",
       "        vertical-align: top;\n",
       "    }\n",
       "\n",
       "    .dataframe thead th {\n",
       "        text-align: right;\n",
       "    }\n",
       "</style>\n",
       "<table border=\"1\" class=\"dataframe\">\n",
       "  <thead>\n",
       "    <tr style=\"text-align: right;\">\n",
       "      <th></th>\n",
       "      <th>tweet</th>\n",
       "      <th>actual_labels</th>\n",
       "      <th>predicted_labels</th>\n",
       "    </tr>\n",
       "  </thead>\n",
       "  <tbody>\n",
       "    <tr>\n",
       "      <th>4328</th>\n",
       "      <td>this is about been forced to take a hurried ...</td>\n",
       "      <td>(mandatory, rushed)</td>\n",
       "      <td>(rushed,)</td>\n",
       "    </tr>\n",
       "    <tr>\n",
       "      <th>9033</th>\n",
       "      <td>they tested kids in the trials my daughter ...</td>\n",
       "      <td>(unnecessary,)</td>\n",
       "      <td>(none,)</td>\n",
       "    </tr>\n",
       "    <tr>\n",
       "      <th>8642</th>\n",
       "      <td>i was not aware when i was a nurse assistin...</td>\n",
       "      <td>(ingredients,)</td>\n",
       "      <td>(side-effect,)</td>\n",
       "    </tr>\n",
       "    <tr>\n",
       "      <th>7028</th>\n",
       "      <td>the whole truth and nothing but the truth ther...</td>\n",
       "      <td>(conspiracy, unnecessary)</td>\n",
       "      <td>(conspiracy,)</td>\n",
       "    </tr>\n",
       "    <tr>\n",
       "      <th>3971</th>\n",
       "      <td>she hasnt had the vaccine yetlisten to wh...</td>\n",
       "      <td>(none,)</td>\n",
       "      <td>()</td>\n",
       "    </tr>\n",
       "    <tr>\n",
       "      <th>...</th>\n",
       "      <td>...</td>\n",
       "      <td>...</td>\n",
       "      <td>...</td>\n",
       "    </tr>\n",
       "    <tr>\n",
       "      <th>2286</th>\n",
       "      <td>france socialist party senators request mandat...</td>\n",
       "      <td>(mandatory, political)</td>\n",
       "      <td>(mandatory,)</td>\n",
       "    </tr>\n",
       "    <tr>\n",
       "      <th>6191</th>\n",
       "      <td>is anyone stupid enough to have this injected ...</td>\n",
       "      <td>(side-effect,)</td>\n",
       "      <td>(conspiracy, pharma)</td>\n",
       "    </tr>\n",
       "    <tr>\n",
       "      <th>5798</th>\n",
       "      <td>fraud and idiocy discovered at astra zeneca ch...</td>\n",
       "      <td>(pharma,)</td>\n",
       "      <td>(side-effect,)</td>\n",
       "    </tr>\n",
       "    <tr>\n",
       "      <th>3400</th>\n",
       "      <td>look i’m not taking that vaccine especiall...</td>\n",
       "      <td>(side-effect, unnecessary)</td>\n",
       "      <td>(side-effect,)</td>\n",
       "    </tr>\n",
       "    <tr>\n",
       "      <th>3257</th>\n",
       "      <td>it’s possible to have chips which are a nan...</td>\n",
       "      <td>(ingredients, rushed)</td>\n",
       "      <td>(rushed,)</td>\n",
       "    </tr>\n",
       "  </tbody>\n",
       "</table>\n",
       "<p>1123 rows × 3 columns</p>\n",
       "</div>"
      ],
      "text/plain": [
       "                                                  tweet  \\\n",
       "4328    this is about been forced to take a hurried ...   \n",
       "9033     they tested kids in the trials my daughter ...   \n",
       "8642     i was not aware when i was a nurse assistin...   \n",
       "7028  the whole truth and nothing but the truth ther...   \n",
       "3971       she hasnt had the vaccine yetlisten to wh...   \n",
       "...                                                 ...   \n",
       "2286  france socialist party senators request mandat...   \n",
       "6191  is anyone stupid enough to have this injected ...   \n",
       "5798  fraud and idiocy discovered at astra zeneca ch...   \n",
       "3400      look i’m not taking that vaccine especiall...   \n",
       "3257     it’s possible to have chips which are a nan...   \n",
       "\n",
       "                   actual_labels      predicted_labels  \n",
       "4328         (mandatory, rushed)             (rushed,)  \n",
       "9033              (unnecessary,)               (none,)  \n",
       "8642              (ingredients,)        (side-effect,)  \n",
       "7028   (conspiracy, unnecessary)         (conspiracy,)  \n",
       "3971                     (none,)                    ()  \n",
       "...                          ...                   ...  \n",
       "2286      (mandatory, political)          (mandatory,)  \n",
       "6191              (side-effect,)  (conspiracy, pharma)  \n",
       "5798                   (pharma,)        (side-effect,)  \n",
       "3400  (side-effect, unnecessary)        (side-effect,)  \n",
       "3257       (ingredients, rushed)             (rushed,)  \n",
       "\n",
       "[1123 rows x 3 columns]"
      ]
     },
     "execution_count": 44,
     "metadata": {},
     "output_type": "execute_result"
    }
   ],
   "source": [
    "import numpy as np\n",
    "\n",
    "# get model predictions\n",
    "y_pred = model.predict(tfidf_test.toarray())\n",
    "\n",
    "# convert predictions from probabilities to binary 0/1\n",
    "y_pred_binarized = np.where(y_pred > 0.5, 1, 0)  \n",
    "\n",
    "# convert binary results back to original class labels\n",
    "y_pred_labels = mlb.inverse_transform(y_pred_binarized)\n",
    "y_test_labels = mlb.inverse_transform(y_test_binarized)\n",
    "\n",
    "# create a new dataframe to compare the actual and predicted labels\n",
    "df_pred = pd.DataFrame({'tweet': val_df['tweet'], 'actual_labels': y_test_labels, 'predicted_labels': y_pred_labels})\n",
    "\n",
    "# look at instances where the actual and predicted labels don't match\n",
    "df_pred[df_pred['actual_labels'] != df_pred['predicted_labels']]"
   ]
  },
  {
   "cell_type": "code",
   "execution_count": 45,
   "id": "4d5f6a32-972f-45df-bb4b-79e58b4f8416",
   "metadata": {},
   "outputs": [
    {
     "data": {
      "text/plain": [
       "(1985, 3)"
      ]
     },
     "execution_count": 45,
     "metadata": {},
     "output_type": "execute_result"
    }
   ],
   "source": [
    "df_pred.shape"
   ]
  },
  {
   "cell_type": "code",
   "execution_count": 46,
   "id": "1e3f1f40-e477-4d57-a9a0-4876da743af2",
   "metadata": {
    "tags": []
   },
   "outputs": [
    {
     "name": "stdout",
     "output_type": "stream",
     "text": [
      "Class: conspiracy\n",
      "Confusion Matrix:\n",
      "[[1883   11]\n",
      " [  76   15]]\n",
      "Classification Report:\n",
      "              precision    recall  f1-score   support\n",
      "\n",
      "           0       0.96      0.99      0.98      1894\n",
      "           1       0.58      0.16      0.26        91\n",
      "\n",
      "    accuracy                           0.96      1985\n",
      "   macro avg       0.77      0.58      0.62      1985\n",
      "weighted avg       0.94      0.96      0.94      1985\n",
      "\n",
      "Class: country\n",
      "Confusion Matrix:\n",
      "[[1945    1]\n",
      " [  37    2]]\n",
      "Classification Report:\n",
      "              precision    recall  f1-score   support\n",
      "\n",
      "           0       0.98      1.00      0.99      1946\n",
      "           1       0.67      0.05      0.10        39\n",
      "\n",
      "    accuracy                           0.98      1985\n",
      "   macro avg       0.82      0.53      0.54      1985\n",
      "weighted avg       0.98      0.98      0.97      1985\n",
      "\n",
      "Class: ineffective\n",
      "Confusion Matrix:\n",
      "[[1551   92]\n",
      " [ 161  181]]\n",
      "Classification Report:\n",
      "              precision    recall  f1-score   support\n",
      "\n",
      "           0       0.91      0.94      0.92      1643\n",
      "           1       0.66      0.53      0.59       342\n",
      "\n",
      "    accuracy                           0.87      1985\n",
      "   macro avg       0.78      0.74      0.76      1985\n",
      "weighted avg       0.86      0.87      0.87      1985\n",
      "\n",
      "Class: ingredients\n",
      "Confusion Matrix:\n",
      "[[1866    5]\n",
      " [  80   34]]\n",
      "Classification Report:\n",
      "              precision    recall  f1-score   support\n",
      "\n",
      "           0       0.96      1.00      0.98      1871\n",
      "           1       0.87      0.30      0.44       114\n",
      "\n",
      "    accuracy                           0.96      1985\n",
      "   macro avg       0.92      0.65      0.71      1985\n",
      "weighted avg       0.95      0.96      0.95      1985\n",
      "\n",
      "Class: mandatory\n",
      "Confusion Matrix:\n",
      "[[1812   18]\n",
      " [  87   68]]\n",
      "Classification Report:\n",
      "              precision    recall  f1-score   support\n",
      "\n",
      "           0       0.95      0.99      0.97      1830\n",
      "           1       0.79      0.44      0.56       155\n",
      "\n",
      "    accuracy                           0.95      1985\n",
      "   macro avg       0.87      0.71      0.77      1985\n",
      "weighted avg       0.94      0.95      0.94      1985\n",
      "\n",
      "Class: none\n",
      "Confusion Matrix:\n",
      "[[1861    9]\n",
      " [ 106    9]]\n",
      "Classification Report:\n",
      "              precision    recall  f1-score   support\n",
      "\n",
      "           0       0.95      1.00      0.97      1870\n",
      "           1       0.50      0.08      0.14       115\n",
      "\n",
      "    accuracy                           0.94      1985\n",
      "   macro avg       0.72      0.54      0.55      1985\n",
      "weighted avg       0.92      0.94      0.92      1985\n",
      "\n",
      "Class: pharma\n",
      "Confusion Matrix:\n",
      "[[1664   63]\n",
      " [ 140  118]]\n",
      "Classification Report:\n",
      "              precision    recall  f1-score   support\n",
      "\n",
      "           0       0.92      0.96      0.94      1727\n",
      "           1       0.65      0.46      0.54       258\n",
      "\n",
      "    accuracy                           0.90      1985\n",
      "   macro avg       0.79      0.71      0.74      1985\n",
      "weighted avg       0.89      0.90      0.89      1985\n",
      "\n",
      "Class: political\n",
      "Confusion Matrix:\n",
      "[[1865   10]\n",
      " [  99   11]]\n",
      "Classification Report:\n",
      "              precision    recall  f1-score   support\n",
      "\n",
      "           0       0.95      0.99      0.97      1875\n",
      "           1       0.52      0.10      0.17       110\n",
      "\n",
      "    accuracy                           0.95      1985\n",
      "   macro avg       0.74      0.55      0.57      1985\n",
      "weighted avg       0.93      0.95      0.93      1985\n",
      "\n",
      "Class: religious\n",
      "Confusion Matrix:\n",
      "[[1972    0]\n",
      " [  13    0]]\n",
      "Classification Report:\n",
      "              precision    recall  f1-score   support\n",
      "\n",
      "           0       0.99      1.00      1.00      1972\n",
      "           1       0.00      0.00      0.00        13\n",
      "\n",
      "    accuracy                           0.99      1985\n",
      "   macro avg       0.50      0.50      0.50      1985\n",
      "weighted avg       0.99      0.99      0.99      1985\n",
      "\n",
      "Class: rushed\n",
      "Confusion Matrix:\n",
      "[[1626   61]\n",
      " [ 127  171]]\n",
      "Classification Report:\n",
      "              precision    recall  f1-score   support\n",
      "\n",
      "           0       0.93      0.96      0.95      1687\n",
      "           1       0.74      0.57      0.65       298\n",
      "\n",
      "    accuracy                           0.91      1985\n",
      "   macro avg       0.83      0.77      0.80      1985\n",
      "weighted avg       0.90      0.91      0.90      1985\n",
      "\n",
      "Class: side-effect\n",
      "Confusion Matrix:\n",
      "[[1058  163]\n",
      " [ 180  584]]\n",
      "Classification Report:\n",
      "              precision    recall  f1-score   support\n",
      "\n",
      "           0       0.85      0.87      0.86      1221\n",
      "           1       0.78      0.76      0.77       764\n",
      "\n",
      "    accuracy                           0.83      1985\n",
      "   macro avg       0.82      0.82      0.82      1985\n",
      "weighted avg       0.83      0.83      0.83      1985\n",
      "\n",
      "Class: unnecessary\n",
      "Confusion Matrix:\n",
      "[[1805   20]\n",
      " [ 102   58]]\n",
      "Classification Report:\n",
      "              precision    recall  f1-score   support\n",
      "\n",
      "           0       0.95      0.99      0.97      1825\n",
      "           1       0.74      0.36      0.49       160\n",
      "\n",
      "    accuracy                           0.94      1985\n",
      "   macro avg       0.85      0.68      0.73      1985\n",
      "weighted avg       0.93      0.94      0.93      1985\n",
      "\n"
     ]
    },
    {
     "name": "stderr",
     "output_type": "stream",
     "text": [
      "/opt/conda/lib/python3.7/site-packages/sklearn/metrics/_classification.py:1272: UndefinedMetricWarning: Precision and F-score are ill-defined and being set to 0.0 in labels with no predicted samples. Use `zero_division` parameter to control this behavior.\n",
      "  _warn_prf(average, modifier, msg_start, len(result))\n"
     ]
    }
   ],
   "source": [
    "from sklearn.metrics import confusion_matrix, classification_report\n",
    "\n",
    "# For each class, print confusion matrix and classification report\n",
    "for i, class_label in enumerate(mlb.classes_):\n",
    "    print(f\"Class: {class_label}\")\n",
    "    print(\"Confusion Matrix:\")\n",
    "    print(confusion_matrix(y_test_binarized[:, i], y_pred_binarized[:, i]))\n",
    "    print(\"Classification Report:\")\n",
    "    print(classification_report(y_test_binarized[:, i], y_pred_binarized[:, i]))"
   ]
  },
  {
   "cell_type": "code",
   "execution_count": null,
   "id": "26254a1c-73c4-4fb6-be17-98d9eea943d4",
   "metadata": {},
   "outputs": [],
   "source": []
  },
  {
   "cell_type": "code",
   "execution_count": 47,
   "id": "b207ed92-2a5f-439e-8ee1-51ef140764c8",
   "metadata": {
    "tags": []
   },
   "outputs": [
    {
     "name": "stdout",
     "output_type": "stream",
     "text": [
      "                                                  tweet  \\\n",
      "5841  catholic leaders in new orleans and st louis a...   \n",
      "2183  funny how things allowed when it suits 🙄 “mora...   \n",
      "2473    i agree cj is abusing his oath of office as ...   \n",
      "103   vaccine would be against my religion which is ...   \n",
      "4522   11162020 it’s simply a matter of demonic cont...   \n",
      "3526  yes we know and just like the vaccine for covi...   \n",
      "6831   antiechrist threw media making shureeveryone ...   \n",
      "747   biontech wont be entering into my body my body...   \n",
      "8216  religious leaders question ethics of oxford un...   \n",
      "1162  the moderna one also has the nano bots that te...   \n",
      "7963  johnson  johnson covid vaccine morally wrong c...   \n",
      "8740   ohhhhh aahhhhhh ohhhhhh antiscience within sc...   \n",
      "3002  some roman catholic leaders in us call johnson...   \n",
      "\n",
      "                             actual_labels predicted_labels  \n",
      "5841              (ingredients, religious)   (ingredients,)  \n",
      "2183              (ingredients, religious)   (ingredients,)  \n",
      "2473                   (religious, rushed)               ()  \n",
      "103                           (religious,)   (ineffective,)  \n",
      "4522     (mandatory, political, religious)               ()  \n",
      "3526               (conspiracy, religious)               ()  \n",
      "6831     (mandatory, political, religious)               ()  \n",
      "747                    (pharma, religious)               ()  \n",
      "8216              (ingredients, religious)   (ingredients,)  \n",
      "1162  (conspiracy, ingredients, religious)               ()  \n",
      "7963                          (religious,)               ()  \n",
      "8740                   (pharma, religious)               ()  \n",
      "3002              (ingredients, religious)   (ingredients,)  \n",
      "Empty DataFrame\n",
      "Columns: [tweet, actual_labels, predicted_labels]\n",
      "Index: []\n"
     ]
    }
   ],
   "source": [
    "# Let's say you're interested in the class labeled 'class_X'\n",
    "interested_class = 'religious'\n",
    "\n",
    "# Create a DataFrame that contains the tweet text, true labels, and predicted labels\n",
    "df_errors = df_pred[df_pred['actual_labels'] != df_pred['predicted_labels']]\n",
    "\n",
    "# Check instances where 'class_X' was the true label but the model predicted otherwise\n",
    "errors_classX_as_true = df_errors[df_errors['actual_labels'].apply(lambda x: interested_class in x)]\n",
    "print(errors_classX_as_true)\n",
    "\n",
    "# Check instances where 'class_X' was the predicted label but not the true label\n",
    "errors_classX_as_predicted = df_errors[df_errors['predicted_labels'].apply(lambda x: interested_class in x)]\n",
    "print(errors_classX_as_predicted)\n"
   ]
  },
  {
   "cell_type": "code",
   "execution_count": null,
   "id": "f6fd6076-e46e-47f0-a385-d107cad02420",
   "metadata": {},
   "outputs": [],
   "source": []
  },
  {
   "cell_type": "markdown",
   "id": "f4e29a17-1aa3-496e-a8eb-ed61ef69c082",
   "metadata": {},
   "source": [
    "# GPT-4"
   ]
  },
  {
   "cell_type": "code",
   "execution_count": 4,
   "id": "c48efd33-f844-4f72-bce2-244e590b542a",
   "metadata": {
    "collapsed": true,
    "jupyter": {
     "outputs_hidden": true
    },
    "tags": []
   },
   "outputs": [
    {
     "name": "stdout",
     "output_type": "stream",
     "text": [
      "Collecting openai\n",
      "  Using cached openai-0.27.8-py3-none-any.whl (73 kB)\n",
      "Requirement already satisfied: requests>=2.20 in /opt/conda/lib/python3.7/site-packages (from openai) (2.31.0)\n",
      "Requirement already satisfied: tqdm in /opt/conda/lib/python3.7/site-packages (from openai) (4.42.1)\n",
      "Requirement already satisfied: aiohttp in /opt/conda/lib/python3.7/site-packages (from openai) (3.8.4)\n",
      "Requirement already satisfied: typing-extensions in /opt/conda/lib/python3.7/site-packages (from openai) (4.6.3)\n",
      "Requirement already satisfied: charset-normalizer<4,>=2 in /opt/conda/lib/python3.7/site-packages (from requests>=2.20->openai) (2.0.4)\n",
      "Requirement already satisfied: idna<4,>=2.5 in /opt/conda/lib/python3.7/site-packages (from requests>=2.20->openai) (2.8)\n",
      "Requirement already satisfied: urllib3<3,>=1.21.1 in /opt/conda/lib/python3.7/site-packages (from requests>=2.20->openai) (2.0.3)\n",
      "Requirement already satisfied: certifi>=2017.4.17 in /opt/conda/lib/python3.7/site-packages (from requests>=2.20->openai) (2023.5.7)\n",
      "Requirement already satisfied: attrs>=17.3.0 in /opt/conda/lib/python3.7/site-packages (from aiohttp->openai) (23.1.0)\n",
      "Requirement already satisfied: multidict<7.0,>=4.5 in /opt/conda/lib/python3.7/site-packages (from aiohttp->openai) (6.0.4)\n",
      "Requirement already satisfied: async-timeout<5.0,>=4.0.0a3 in /opt/conda/lib/python3.7/site-packages (from aiohttp->openai) (4.0.2)\n",
      "Requirement already satisfied: yarl<2.0,>=1.0 in /opt/conda/lib/python3.7/site-packages (from aiohttp->openai) (1.9.2)\n",
      "Requirement already satisfied: frozenlist>=1.1.1 in /opt/conda/lib/python3.7/site-packages (from aiohttp->openai) (1.3.3)\n",
      "Requirement already satisfied: aiosignal>=1.1.2 in /opt/conda/lib/python3.7/site-packages (from aiohttp->openai) (1.3.1)\n",
      "Requirement already satisfied: asynctest==0.13.0 in /opt/conda/lib/python3.7/site-packages (from aiohttp->openai) (0.13.0)\n",
      "Requirement already satisfied: importlib-metadata in /opt/conda/lib/python3.7/site-packages (from attrs>=17.3.0->aiohttp->openai) (6.6.0)\n",
      "Requirement already satisfied: zipp>=0.5 in /opt/conda/lib/python3.7/site-packages (from importlib-metadata->attrs>=17.3.0->aiohttp->openai) (2.2.0)\n",
      "Installing collected packages: openai\n",
      "Successfully installed openai-0.27.8\n",
      "\u001b[33mWARNING: Running pip as the 'root' user can result in broken permissions and conflicting behaviour with the system package manager. It is recommended to use a virtual environment instead: https://pip.pypa.io/warnings/venv\u001b[0m\u001b[33m\n",
      "\u001b[0m\n",
      "\u001b[1m[\u001b[0m\u001b[34;49mnotice\u001b[0m\u001b[1;39;49m]\u001b[0m\u001b[39;49m A new release of pip is available: \u001b[0m\u001b[31;49m23.1.2\u001b[0m\u001b[39;49m -> \u001b[0m\u001b[32;49m23.2\u001b[0m\n",
      "\u001b[1m[\u001b[0m\u001b[34;49mnotice\u001b[0m\u001b[1;39;49m]\u001b[0m\u001b[39;49m To update, run: \u001b[0m\u001b[32;49mpip install --upgrade pip\u001b[0m\n",
      "Collecting azure-identity\n",
      "  Using cached azure_identity-1.13.0-py3-none-any.whl (151 kB)\n",
      "Collecting azure-core<2.0.0,>=1.11.0 (from azure-identity)\n",
      "  Using cached azure_core-1.28.0-py3-none-any.whl (185 kB)\n",
      "Requirement already satisfied: cryptography>=2.5 in /opt/conda/lib/python3.7/site-packages (from azure-identity) (41.0.1)\n",
      "Collecting msal<2.0.0,>=1.20.0 (from azure-identity)\n",
      "  Downloading msal-1.23.0-py2.py3-none-any.whl (90 kB)\n",
      "\u001b[2K     \u001b[90m━━━━━━━━━━━━━━━━━━━━━━━━━━━━━━━━━━━━━━━━\u001b[0m \u001b[32m90.8/90.8 kB\u001b[0m \u001b[31m1.5 MB/s\u001b[0m eta \u001b[36m0:00:00\u001b[0mta \u001b[36m0:00:01\u001b[0m\n",
      "\u001b[?25hCollecting msal-extensions<2.0.0,>=0.3.0 (from azure-identity)\n",
      "  Using cached msal_extensions-1.0.0-py2.py3-none-any.whl (19 kB)\n",
      "Requirement already satisfied: six>=1.12.0 in /opt/conda/lib/python3.7/site-packages (from azure-identity) (1.14.0)\n",
      "Requirement already satisfied: requests>=2.18.4 in /opt/conda/lib/python3.7/site-packages (from azure-core<2.0.0,>=1.11.0->azure-identity) (2.31.0)\n",
      "Requirement already satisfied: typing-extensions>=4.3.0 in /opt/conda/lib/python3.7/site-packages (from azure-core<2.0.0,>=1.11.0->azure-identity) (4.6.3)\n",
      "Requirement already satisfied: cffi>=1.12 in /opt/conda/lib/python3.7/site-packages (from cryptography>=2.5->azure-identity) (1.15.0)\n",
      "Collecting PyJWT[crypto]<3,>=1.0.0 (from msal<2.0.0,>=1.20.0->azure-identity)\n",
      "  Using cached PyJWT-2.8.0-py3-none-any.whl (22 kB)\n",
      "Collecting portalocker<3,>=1.0 (from msal-extensions<2.0.0,>=0.3.0->azure-identity)\n",
      "  Using cached portalocker-2.7.0-py2.py3-none-any.whl (15 kB)\n",
      "Requirement already satisfied: pycparser in /opt/conda/lib/python3.7/site-packages (from cffi>=1.12->cryptography>=2.5->azure-identity) (2.19)\n",
      "Requirement already satisfied: charset-normalizer<4,>=2 in /opt/conda/lib/python3.7/site-packages (from requests>=2.18.4->azure-core<2.0.0,>=1.11.0->azure-identity) (2.0.4)\n",
      "Requirement already satisfied: idna<4,>=2.5 in /opt/conda/lib/python3.7/site-packages (from requests>=2.18.4->azure-core<2.0.0,>=1.11.0->azure-identity) (2.8)\n",
      "Requirement already satisfied: urllib3<3,>=1.21.1 in /opt/conda/lib/python3.7/site-packages (from requests>=2.18.4->azure-core<2.0.0,>=1.11.0->azure-identity) (2.0.3)\n",
      "Requirement already satisfied: certifi>=2017.4.17 in /opt/conda/lib/python3.7/site-packages (from requests>=2.18.4->azure-core<2.0.0,>=1.11.0->azure-identity) (2023.5.7)\n",
      "Installing collected packages: PyJWT, portalocker, azure-core, msal, msal-extensions, azure-identity\n",
      "Successfully installed PyJWT-2.8.0 azure-core-1.28.0 azure-identity-1.13.0 msal-1.23.0 msal-extensions-1.0.0 portalocker-2.7.0\n",
      "\u001b[33mWARNING: Running pip as the 'root' user can result in broken permissions and conflicting behaviour with the system package manager. It is recommended to use a virtual environment instead: https://pip.pypa.io/warnings/venv\u001b[0m\u001b[33m\n",
      "\u001b[0m\n",
      "\u001b[1m[\u001b[0m\u001b[34;49mnotice\u001b[0m\u001b[1;39;49m]\u001b[0m\u001b[39;49m A new release of pip is available: \u001b[0m\u001b[31;49m23.1.2\u001b[0m\u001b[39;49m -> \u001b[0m\u001b[32;49m23.2\u001b[0m\n",
      "\u001b[1m[\u001b[0m\u001b[34;49mnotice\u001b[0m\u001b[1;39;49m]\u001b[0m\u001b[39;49m To update, run: \u001b[0m\u001b[32;49mpip install --upgrade pip\u001b[0m\n"
     ]
    }
   ],
   "source": [
    "!pip install openai\n",
    "!pip install azure-identity"
   ]
  },
  {
   "cell_type": "code",
   "execution_count": 5,
   "id": "140be38b-7d67-4318-9cc6-663e3be8de29",
   "metadata": {
    "tags": []
   },
   "outputs": [],
   "source": [
    "import openai\n",
    "#import tqdm\n",
    "from openai import openai_object\n",
    "from azure.identity import ClientSecretCredential\n",
    "import requests"
   ]
  },
  {
   "cell_type": "code",
   "execution_count": 24,
   "id": "115715d7-81b3-431e-b10b-b85b44873bf4",
   "metadata": {
    "tags": []
   },
   "outputs": [],
   "source": [
    "import time"
   ]
  },
  {
   "cell_type": "code",
   "execution_count": 6,
   "id": "a29711ed-b8dd-48f5-84ae-47bca867640c",
   "metadata": {
    "tags": []
   },
   "outputs": [],
   "source": [
    "openai.api_base = \"https://labsopenarena.openai.azure.com/\"\n",
    "openai.api_version = '2023-03-15-preview'\n",
    "openai.api_type = 'azure_ad'\n",
    "deployment = \"gpt-4\""
   ]
  },
  {
   "cell_type": "code",
   "execution_count": 154,
   "id": "fa5ba2b8-d20c-4587-84fa-802d0f6b04c7",
   "metadata": {
    "tags": []
   },
   "outputs": [],
   "source": [
    "tenant_id = ''\n",
    "client_id = ''\n",
    "client_secret = ''\n",
    "credential = ClientSecretCredential(tenant_id, client_id, client_secret)"
   ]
  },
  {
   "cell_type": "code",
   "execution_count": 155,
   "id": "a805fd49-91ac-4012-b07f-06fd9e69b5d4",
   "metadata": {
    "tags": []
   },
   "outputs": [
    {
     "name": "stderr",
     "output_type": "stream",
     "text": [
      "Region configured (None) != region detected ('us-east-1')\n"
     ]
    }
   ],
   "source": [
    "response = credential.get_token(\"https://cognitiveservices.azure.com/.default\")\n",
    "openai.api_key = response.token"
   ]
  },
  {
   "cell_type": "code",
   "execution_count": 172,
   "id": "652fc36f-3791-4259-8eb5-f2bd5102fa32",
   "metadata": {},
   "outputs": [],
   "source": [
    "def gpt_response(row):\n",
    "\n",
    "    text = row['tweet']\n",
    "        \n",
    "    t1 = time.time()\n",
    "    max_retries = 10\n",
    "    retries = 0\n",
    "    \n",
    "    while retries < max_retries:\n",
    "        \n",
    "        try:\n",
    "            prompt = f'''\n",
    "            Assign most relevant labels to a social media post (particularly, a tweet) according to the specific concern(s) towards vaccines as expressed by the author of the post.\n",
    "            Note that a tweet can have more than one label (concern), e.g., a tweet expressing more than 1 different concerns towards vaccines will have more labels.\n",
    "            \n",
    "            We consider the following concerns towards vaccines as the labels for this classification task:\n",
    "\n",
    "            Unnecessary: The tweet indicates vaccines are unnecessary, or that alternate cures are better.\n",
    "\n",
    "            Mandatory: Against mandatory vaccination — The tweet suggests that vaccines should not be made mandatory.\n",
    "\n",
    "            Pharma: Against Big Pharma — The tweet indicates that the Big Pharmaceutical companies are just trying to earn money, or the tweet is against such companies in general because of their history.\n",
    "\n",
    "            Conspiracy: Deeper Conspiracy — The tweet suggests some deeper conspiracy, and not just that the Big Pharma want to make money (e.g., vaccines are being used to track people, COVID is a hoax)\n",
    "\n",
    "            Political: Political side of vaccines — The tweet expresses concerns that the governments / politicians are pushing their own agenda though the vaccines.\n",
    "\n",
    "            Country: Country of origin — The tweet is against some vaccine because of the country where it was developed / manufactured\n",
    "\n",
    "            Rushed: Untested / Rushed Process — The tweet expresses concerns that the vaccines have not been tested properly or that the published data is not accurate.\n",
    "\n",
    "            Ingredients: Vaccine Ingredients / technology — The tweet expresses concerns about the ingredients present in the vaccines (eg. fetal cells, chemicals) or the technology used (e.g., mRNA vaccines can change your DNA)\n",
    "\n",
    "            Side-effect: Side Effects / Deaths — The tweet expresses concerns about the side effects of the vaccines, including deaths caused.\n",
    "\n",
    "            Ineffective: Vaccine is ineffective — The tweet expresses concerns that the vaccines are not effective enough and are useless.\n",
    "\n",
    "            Religious: Religious Reasons — The tweet is against vaccines because of religious reasons\n",
    "\n",
    "            None: No specific reason stated in the tweet, or some reason other than the given ones.\n",
    "            \n",
    "            tweet text: {text}\n",
    "            \n",
    "            Response: list of labels separated by space\n",
    "            '''\n",
    "            \n",
    "            \n",
    "            response = openai.ChatCompletion.create(\n",
    "                    engine=\"gpt-4\",\n",
    "                    messages=[\n",
    "      {\"role\": \"system\", \"content\": \"You are a helpful assitant that will help in providing most relevant labels to a social media post from a list of labels that express significant concern towards the vaccine.\"},    # write about precision\n",
    "\n",
    "                        {\n",
    "        \"role\": \"system\",\n",
    "        \"name\": \"example_user\",\n",
    "        \"content\":\"@LikeTheMountain @kassiekitson Not at all. Honestly. It is a made up invisible enemy. Herd immunity is worldwide, without the vaccine. I am much more afraid of the vaccine imo.\",\n",
    "                        },\n",
    "                        {\n",
    "        \"role\": \"system\",\n",
    "        \"name\": \"example_assistant\",\n",
    "        \"content\": 'Side-effect',\n",
    "                        },\n",
    "     {\n",
    "        \"role\": \"system\",\n",
    "        \"name\": \"example_user\",\n",
    "        \"content\": '@JustinTrudeau ,@cathmckenna ,@cafreeland ,@erinotoole ,@theJagmeetSingh ,@fordnation , we will not let you play Covid-19 Russian Roulette with a risky and rushed vaccine.',\n",
    "     },\n",
    "                        {\n",
    "        \"role\": \"system\",\n",
    "        \"name\": \"example_assistant\",\n",
    "        \"content\": 'Side-effect',\n",
    "                        },\n",
    "                                               {\n",
    "        \"role\": \"system\",\n",
    "        \"name\": \"example_user\",\n",
    "        \"content\": '@pfizer Lol by injecting people with RNA \"activators\". ðŸ˜‚ðŸ˜‚ðŸ˜‚ðŸ¤¡ðŸ¤¡ðŸ¤¡',\n",
    "                                               },\n",
    "                        {\n",
    "        \"role\": \"system\",\n",
    "        \"name\": \"example_assistant\",\n",
    "        \"content\":    'Ingredients',\n",
    "                        },\n",
    "                                                                    {\n",
    "        \"role\": \"system\",\n",
    "        \"name\": \"example_user\",\n",
    "        \"content\": 'Informed consent impossible with the mysterious ingredient in a Pfizer vaccine vial https://t.co/9yQ174zxZ3',\n",
    "                                               },\n",
    "                        {\n",
    "        \"role\": \"system\",\n",
    "        \"name\": \"example_assistant\",\n",
    "        \"content\":    'Ingredients',\n",
    "                        },\n",
    "                        \n",
    "                                                                {\n",
    "        \"role\": \"system\",\n",
    "        \"name\": \"example_user\",\n",
    "        \"content\": 'Big Pharma spent close to 7 Billion euros on lobbying in France...which as we know is utterly corrupted in terms of Covid response: blocked hydroxychloroquine - like all other Western countries - and embraced remdesivir and vaccines. ðŸ¤',\n",
    "                                               },\n",
    "                        {\n",
    "        \"role\": \"system\",\n",
    "        \"name\": \"example_assistant\",\n",
    "        \"content\":    'Pharma',\n",
    "                        },\n",
    "                                                                    {\n",
    "        \"role\": \"system\",\n",
    "        \"name\": \"example_user\",\n",
    "        \"content\": 'Just as Moderna was counting itâ€™s profitsâ€¦people still wonâ€™t care. They are convinced vaccine injuries donâ€™t exist..https://t.co/vyAnlHFVJq',\n",
    "                                               },\n",
    "                        {\n",
    "        \"role\": \"system\",\n",
    "        \"name\": \"example_assistant\",\n",
    "        \"content\":    'Pharma',\n",
    "                        },\n",
    "                                                                    {\n",
    "        \"role\": \"system\",\n",
    "        \"name\": \"example_user\",\n",
    "        \"content\": '''@davis_bradley1 @andyfurniss @and_kell Probably why the original SARS vaccine, that at least one COVID vaccine is based on, never really worked, as far as I've heard. ðŸ¤·â€â™€ï¸''',\n",
    "                                               },\n",
    "                        {\n",
    "        \"role\": \"system\",\n",
    "        \"name\": \"example_assistant\",\n",
    "        \"content\":    'Ineffective',\n",
    "                        },\n",
    "                                                                                            {\n",
    "        \"role\": \"system\",\n",
    "        \"name\": \"example_user\",\n",
    "        \"content\": '''@ProfPCDoherty This doesn't solve the problem of #LongCovid though. We've fallen a long way from COVID-19 vaccines being protective against disease (recall the 95% efficacy of #Pfizer), to now basically conceding that they're pretty much useless for anything except to keep you from dying â˜ ï¸''',                         },\n",
    "                        {\n",
    "        \"role\": \"system\",\n",
    "        \"name\": \"example_assistant\",\n",
    "        \"content\":    'Ineffective',\n",
    "                        },\n",
    "                                                                                                              {\n",
    "        \"role\": \"system\",\n",
    "        \"name\": \"example_user\",\n",
    "        \"content\": '''@kentlivenews Let's hope Boris Johnson isn't one of those new trainees to stick people with the vaccine. Not a good picture to use.''',\n",
    "                                                                                                                  },\n",
    "                        {\n",
    "        \"role\": \"system\",\n",
    "        \"name\": \"example_assistant\",\n",
    "        \"content\":    'Political',\n",
    "                        },\n",
    "                                                                                                                                 {\n",
    "        \"role\": \"system\",\n",
    "        \"name\": \"example_user\",\n",
    "        \"content\": '''@LadyJ_o__0 @viewspotnz A condition of the Pfizer sale, as reported by Clive Palmer an Australian MP, was that before the sale of their vaccine was completed, Pfizer receives full indemnity if anyone is killed or maimed as a result. The govt of the purchasing country would assume full responsibility.''',\n",
    "                                                                                                                                 },\n",
    "                        {\n",
    "        \"role\": \"system\",\n",
    "        \"name\": \"example_assistant\",\n",
    "        \"content\":    'Political',\n",
    "                        },\n",
    "                                                                                                                                                   {\n",
    "        \"role\": \"system\",\n",
    "        \"name\": \"example_user\",\n",
    "        \"content\": '''@SimonHamilton @JimAllister WHY is ANYBODY listening to Ian Young ? He sits on the advisory board at AstraZeneca . Conflict of interest as they want to vaccinate EVERYONE. Also look at who owns AstraZeneca , good old kill Bill Gates. Time for him to go.''',\n",
    "                                                                                                                                                   },\n",
    "                        {\n",
    "        \"role\": \"system\",\n",
    "        \"name\": \"example_assistant\",\n",
    "        \"content\":    'Mandatory',\n",
    "                        },\n",
    "                                                                                                                                                                     {\n",
    "        \"role\": \"system\",\n",
    "        \"name\": \"example_user\",\n",
    "        \"content\": '''Let me get this Straight? Vaccine Passports while We allow Illegal Aliens to Cross the Border Unvaccinated? @JoeBiden @SpeakerPelosi U are All a Joke. Like it or Not? Americans? Are REBELS''',\n",
    "        },\n",
    "                        {\n",
    "        \"role\": \"system\",\n",
    "        \"name\": \"example_assistant\",\n",
    "        \"content\":    'Mandatory',\n",
    "                        },\n",
    "                                                                                                                                                    {\n",
    "        \"role\": \"system\",\n",
    "        \"name\": \"example_user\",\n",
    "        \"content\": '''on jesus they can keep the covid vaccine far away from me ðŸ˜''',\n",
    "                                                                                                                                                    },\n",
    "                        {\n",
    "        \"role\": \"system\",\n",
    "        \"name\": \"example_assistant\",\n",
    "        \"content\":    'None',\n",
    "                        },\n",
    "                                                                                                                                {\n",
    "        \"role\": \"system\",\n",
    "        \"name\": \"example_user\",\n",
    "        \"content\": '''@jo___bot @Birdpoof @1fellswoop7 @HoarseWisperer He received enough doses of vaccine that he likely has sufficient immunity.  My point is that it is not irrational or anti-science to have concerns about vaccines. There is beginning to be a mob mentality against anyone who has such concerns. I wish we could all talk rationally.''',\n",
    "                                                                                                                                                    },\n",
    "                        {\n",
    "        \"role\": \"system\",\n",
    "        \"name\": \"example_assistant\",\n",
    "        \"content\":    'None',\n",
    "                        },\n",
    "                                                                                                                                                  {\n",
    "        \"role\": \"system\",\n",
    "        \"name\": \"example_user\",\n",
    "        \"content\": '@CureVacRNA @GOVUK We not have even your first vaccine and your busy on boosters and vacc2.0 😏 https://t.co/ldsvtHNe43',\n",
    "                                                                                                                                                  },\n",
    "                        {\n",
    "        \"role\": \"system\",\n",
    "        \"name\": \"example_assistant\",\n",
    "        \"content\":    'None',\n",
    "                        },\n",
    "                                                                                                                                                  {\n",
    "        \"role\": \"system\",\n",
    "        \"name\": \"example_user\",\n",
    "        \"content\": \"//That's a complete no for now on the Oxford/AstraZeneca vaccine, from Swissmedic (Switzerland's drug regulator).// [HT Hilda]\",\n",
    "                                                                                                                                                  },\n",
    "                        {\n",
    "        \"role\": \"system\",\n",
    "        \"name\": \"example_assistant\",\n",
    "        \"content\":    'None',\n",
    "                        },\n",
    "                                                                                                                                                  {\n",
    "        \"role\": \"system\",\n",
    "        \"name\": \"example_user\",\n",
    "        \"content\": '@PetenyiSandor @katka_cseh Your choice, go and get a Chinese vaccine. I will wait for vaccines which are approved by the EU. We will have enough by the summer. Let’s see how much the Chinese actually will deliver, how many people willing to accept it and if Orban can organize mass vaccination. I doubt it.',\n",
    "                                                                                                                                                  },\n",
    "                        {\n",
    "        \"role\": \"system\",\n",
    "        \"name\": \"example_assistant\",\n",
    "        \"content\":    'Country',\n",
    "                        },\n",
    "                                                                                                                                                  {\n",
    "        \"role\": \"system\",\n",
    "        \"name\": \"example_user\",\n",
    "        \"content\": \"When someone finally makes a vaccine for Covid-19, I hope to goddamn hell it's developed anywhere but in US or in China, because I won't trust it from either source\",\n",
    "                                                                                                                                                  },\n",
    "                        {\n",
    "        \"role\": \"system\",\n",
    "        \"name\": \"example_assistant\",\n",
    "        \"content\":    'Country',\n",
    "                        },\n",
    "                                                                                                                                                           {\n",
    "        \"role\": \"system\",\n",
    "        \"name\": \"example_user\",\n",
    "        \"content\": \"Oxford University coronavirus vaccine has 'ethical concerns', Sydney Archbishops warn followers - ABC News https://t.co/BFnKmznFx9. Here we go again, religion be totally against humanity again. Stuff the backward bastards. Morrison is a cult follower so he will agree\",\n",
    "        },\n",
    "                        {\n",
    "        \"role\": \"system\",\n",
    "        \"name\": \"example_assistant\",\n",
    "        \"content\":    'Religious',\n",
    "                        },\n",
    "                                                                                                                          {\n",
    "        \"role\": \"system\",\n",
    "        \"name\": \"example_user\",\n",
    "        \"content\": \"@JerryAdeyeri Before it was monster energy drink now its Corona vaccine..... i pray that no one close to you will contact it..... but if anyone does, they shouldn't take a vaccine since it is from the devil\",\n",
    "                                                                                                                          },\n",
    "                        {\n",
    "        \"role\": \"system\",\n",
    "        \"name\": \"example_assistant\",\n",
    "        \"content\":    'Religious',\n",
    "                        },\n",
    "                                                                                                                                              {\n",
    "        \"role\": \"system\",\n",
    "        \"name\": \"example_user\",\n",
    "        \"content\": \"@ChristianWalk1r Of course it's about power...a lot of us figured this out from the very beginning. I have a friend in Toronto whose sister works as a nurse and she say there are zero cases of Covid at the moment: so why the vaccine? And who else but the power brokers does this serve??\",\n",
    "                                                                                                                                              },\n",
    "                        {\n",
    "        \"role\": \"system\",\n",
    "        \"name\": \"example_assistant\",\n",
    "        \"content\":    'Unnecessary',\n",
    "                        },\n",
    "                                                                                                                                                                {\n",
    "        \"role\": \"system\",\n",
    "        \"name\": \"example_user\",\n",
    "        \"content\": '100 PERCENT Ignorant. What the hell.. \"It can also be that if they tested positive, they have to wait 90 days so they will have declined during that time,\"  Nearly 200 San Diego Fire-Rescue personnel decline COVID-19 vaccine  https://t.co/Nab5T1gIk4',\n",
    "        },\n",
    "                        {\n",
    "        \"role\": \"system\",\n",
    "        \"name\": \"example_assistant\",\n",
    "        \"content\":    'Unnecessary',\n",
    "                        },\n",
    "                                                                                                                                                                                      {\n",
    "        \"role\": \"system\",\n",
    "        \"name\": \"example_user\",\n",
    "        \"content\": '@WarTimeGirl To have 90%+ corona virus efficacy rate. It had to be an advanced vaccine (Nobel prize level). mRNA has me concerned, bc tells cells what DNA to make (or not). I want to read the full published phase 3 study paper with pharmacology, methodology & stats before considering it.',\n",
    "        },\n",
    "                        {\n",
    "        \"role\": \"system\",\n",
    "        \"name\": \"example_assistant\",\n",
    "        \"content\":    'Rushed',\n",
    "                        },\n",
    "                                                                                                                                                                                                              {\n",
    "        \"role\": \"system\",\n",
    "        \"name\": \"example_user\",\n",
    "        \"content\": \"#RussianVaccine It's not even a vaccine proper trails ain't even done they used it to boost immunity don't know why people are saying they have got a vaccine even coronil of Patanjali was a immunity booster not a vaccine\",\n",
    "        },\n",
    "                        {\n",
    "        \"role\": \"system\",\n",
    "        \"name\": \"example_assistant\",\n",
    "        \"content\":    'Rushed',\n",
    "                        },\n",
    "                                                                                                                                                                                                                                {\n",
    "        \"role\": \"system\",\n",
    "        \"name\": \"example_user\",\n",
    "        \"content\": '@ConwayRober @BornLondoner @DPJHodges You need to hurry up & wonder a bit quicker & start believing your eyes & ears. Here are Answers: WEF-Great Reset UN Agenda 21/Agenda 2030 Depopulation through mandatory vaccine Kill the old & ill to breed a smaller/stronger population Assess how far people will go (masks)',\n",
    "        },\n",
    "                        {\n",
    "        \"role\": \"system\",\n",
    "        \"name\": \"example_assistant\",\n",
    "        \"content\":    'Conspiracy',\n",
    "                        },\n",
    "                                                                                                                                                                                                                                {\n",
    "        \"role\": \"system\",\n",
    "        \"name\": \"example_user\",\n",
    "        \"content\": 'FORMER GATES FOUNDATION VACCINE SCIENTIST CALLS FOR HALT TO VACCINATIONS, PREDICTS “WIPE OUT” OF POPULATIONS https://t.co/DLIDZ1O532',\n",
    "        },\n",
    "                        {\n",
    "        \"role\": \"system\",\n",
    "        \"name\": \"example_assistant\",\n",
    "        \"content\":    'Conspiracy',\n",
    "                        },\n",
    "                        \n",
    "                                                                                                                                                                                                                                                {\n",
    "        \"role\": \"system\",\n",
    "        \"name\": \"example_user\",\n",
    "        \"content\": 'Canadians who received AstraZeneca vaccine excluded from seeing Bruce Springsteen, as Broadway opens up https://t.co/DODZqD9uXy via @ctvottawa people are against aztrasenaca but Dr. Bonnie Henry stands by all vaccines all are safe seems they have no idea if they are or not folks',\n",
    "        },\n",
    "                        {\n",
    "        \"role\": \"system\",\n",
    "        \"name\": \"example_assistant\",\n",
    "        \"content\":    'Side-effect, Ineffective',\n",
    "                        },\n",
    "                                                \n",
    "                                                                                                                                                                                                                                                {\n",
    "        \"role\": \"system\",\n",
    "        \"name\": \"example_user\",\n",
    "        \"content\": '@DailyMailUK 😕 I\\'m confused: 💉 WITH the vaccine, we\\'re still required to socially distance, wear masks, isolate, as we could still spread Covid. 🙊 HOW is a \\'vaccine passport\\' a solution when even having the vaccine doesn\\'t \"keep you safe\"? 🤡 Why  do people not see through all this?',\n",
    "        },\n",
    "                        {\n",
    "        \"role\": \"system\",\n",
    "        \"name\": \"example_assistant\",\n",
    "        \"content\":    'Mandatory, Ineffective',\n",
    "                        },\n",
    "                                                                                                                                                                                                                                                                {\n",
    "        \"role\": \"system\",\n",
    "        \"name\": \"example_user\",\n",
    "        \"content\": 'She has been trying to speak out: writing letters to government, speaking to Unison. She’s been questioning everything that’s been going on for a long time: “Vaccine rollout, vaccine injury. Realising it’s an experimental agent. It’s going to keep going,”... continue thread....',\n",
    "        },\n",
    "                        {\n",
    "        \"role\": \"system\",\n",
    "        \"name\": \"example_assistant\",\n",
    "        \"content\":    'Side-effect, Rushed',\n",
    "                        },\n",
    "                                                                                                                                                                                                                                                                                 {\n",
    "        \"role\": \"system\",\n",
    "        \"name\": \"example_user\",\n",
    "        \"content\": '@Parker_Kerns @mlee0427 @WKRN All I’m saying is it is a deadend and continues to be proven as such. Maybe after mandatory moderna vaccinations and countless side effects we will finally learn . Dead giveaway when you can’t sue them for damages due to their lame vaccines.',\n",
    "        },\n",
    "                        {\n",
    "        \"role\": \"system\",\n",
    "        \"name\": \"example_assistant\",\n",
    "        \"content\":    'Side-effect, Pharma',\n",
    "                        },\n",
    "                                                                                                                                                                                                                                                                                                      {\n",
    "        \"role\": \"system\",\n",
    "        \"name\": \"example_user\",\n",
    "        \"content\":\"@TraceyLouise @slimschutte @AefreBetty @jon_severs @StevenCross81 Ah yes, that good old fashioned vaccine that was trialled over the correct amount of time, and not forced upon every living being on the planet... Even without this new thing, if you're healthy, you'll still be fine.\"\n",
    "        },\n",
    "                        {\n",
    "        \"role\": \"system\",\n",
    "        \"name\": \"example_assistant\",\n",
    "        \"content\":    'Unnecessary, Rushed, Mandatory',\n",
    "                        },\n",
    "                                                                                                                                                                                                                                                                                                                      {\n",
    "        \"role\": \"system\",\n",
    "        \"name\": \"example_user\",\n",
    "        \"content\":'the @apf put out a tweet - which is sensationalistic - which leave out the important detail: these \"over dozen fully vaccinated doctors\" - it was all with a Chinese vaccine that has provided ==>ZERO<== efficacy data where similar events in other countries prove it is WORTHLESS https://t.co/TWlKMLWRCg' ,\n",
    "        },\n",
    "                        {\n",
    "        \"role\": \"system\",\n",
    "        \"name\": \"example_assistant\",\n",
    "        \"content\":    'Ineffective, Rushed, Country',\n",
    "                        },\n",
    "                        \n",
    "         {\"role\": \"user\", \"content\": f\"{prompt}\"},\n",
    "                    ],\n",
    "                    max_tokens=256, #how many token limit\n",
    "                    temperature=0, #0.75\n",
    "                    n=1,\n",
    "                    top_p=1.0, #0.9\n",
    "                    logit_bias={\"50256\": -100}\n",
    "                        )\n",
    "            result = response[\"choices\"][0][\"message\"][\"content\"]\n",
    "            break\n",
    "        except Exception as e:\n",
    "            print(e)\n",
    "            if \"Unauthorized\" in str(e):\n",
    "                response = credential.get_token(\"https://cognitiveservices.azure.com/.default\")\n",
    "                openai.api_key = response.token\n",
    "            elif \"filtered\" in str(e):\n",
    "                result = 'error'\n",
    "                break\n",
    "            elif retries < max_retries - 1:\n",
    "                retries += 1\n",
    "                time.sleep(15)\n",
    "            else:\n",
    "                time.sleep(15)\n",
    "                #raise e\n",
    "    t2 = time.time()\n",
    "    \n",
    "    return [row['ID'], result]"
   ]
  },
  {
   "cell_type": "code",
   "execution_count": 74,
   "id": "0052b0ed-69ee-4640-bcd1-1c678ec48351",
   "metadata": {
    "collapsed": true,
    "jupyter": {
     "outputs_hidden": true
    },
    "tags": []
   },
   "outputs": [
    {
     "data": {
      "text/html": [
       "<div>\n",
       "<style scoped>\n",
       "    .dataframe tbody tr th:only-of-type {\n",
       "        vertical-align: middle;\n",
       "    }\n",
       "\n",
       "    .dataframe tbody tr th {\n",
       "        vertical-align: top;\n",
       "    }\n",
       "\n",
       "    .dataframe thead th {\n",
       "        text-align: right;\n",
       "    }\n",
       "</style>\n",
       "<table border=\"1\" class=\"dataframe\">\n",
       "  <thead>\n",
       "    <tr style=\"text-align: right;\">\n",
       "      <th></th>\n",
       "      <th>ID</th>\n",
       "      <th>tweet</th>\n",
       "      <th>labels</th>\n",
       "    </tr>\n",
       "  </thead>\n",
       "  <tbody>\n",
       "    <tr>\n",
       "      <th>0</th>\n",
       "      <td>1296010336907038720t</td>\n",
       "      <td>@cath__kath AstraZeneca is made with the kidne...</td>\n",
       "      <td>ingredients</td>\n",
       "    </tr>\n",
       "    <tr>\n",
       "      <th>1</th>\n",
       "      <td>1336808189677940736t</td>\n",
       "      <td>It begins. Please find safe alternatives to th...</td>\n",
       "      <td>side-effect</td>\n",
       "    </tr>\n",
       "    <tr>\n",
       "      <th>2</th>\n",
       "      <td>1329488407307956231t</td>\n",
       "      <td>@PaolaQP1231 Well, I mean congratulations Covi...</td>\n",
       "      <td>side-effect</td>\n",
       "    </tr>\n",
       "    <tr>\n",
       "      <th>3</th>\n",
       "      <td>1364194604459900934t</td>\n",
       "      <td>@BorisJohnson for those of us that do not wish...</td>\n",
       "      <td>mandatory</td>\n",
       "    </tr>\n",
       "    <tr>\n",
       "      <th>4</th>\n",
       "      <td>1375938799247765515t</td>\n",
       "      <td>She has been trying to speak out: writing lett...</td>\n",
       "      <td>side-effect rushed</td>\n",
       "    </tr>\n",
       "    <tr>\n",
       "      <th>5</th>\n",
       "      <td>1361038049556140034t</td>\n",
       "      <td>@DailyMailUK 😕 I'm confused: 💉 WITH the vaccin...</td>\n",
       "      <td>ineffective mandatory</td>\n",
       "    </tr>\n",
       "    <tr>\n",
       "      <th>6</th>\n",
       "      <td>1365287445114322946t</td>\n",
       "      <td>We do not need any crazy twisted politician te...</td>\n",
       "      <td>political</td>\n",
       "    </tr>\n",
       "    <tr>\n",
       "      <th>7</th>\n",
       "      <td>1364157842022891520t</td>\n",
       "      <td>@AgreeT0D1sagree @Matteo30115900 @Femi_Sorry I...</td>\n",
       "      <td>mandatory</td>\n",
       "    </tr>\n",
       "    <tr>\n",
       "      <th>8</th>\n",
       "      <td>1413367208537989123t</td>\n",
       "      <td>Taking One for the Team #TeamCanada New Astra~...</td>\n",
       "      <td>side-effect</td>\n",
       "    </tr>\n",
       "    <tr>\n",
       "      <th>9</th>\n",
       "      <td>1405695355996426240t</td>\n",
       "      <td>Canadians who received AstraZeneca vaccine exc...</td>\n",
       "      <td>side-effect ineffective</td>\n",
       "    </tr>\n",
       "    <tr>\n",
       "      <th>10</th>\n",
       "      <td>1376210451068030978t</td>\n",
       "      <td>My mom want me to take the vaccine so bad &amp; I’...</td>\n",
       "      <td>none</td>\n",
       "    </tr>\n",
       "    <tr>\n",
       "      <th>11</th>\n",
       "      <td>1355090345676201985t</td>\n",
       "      <td>@CarnellAnita @annaberu Yes who are being cull...</td>\n",
       "      <td>conspiracy</td>\n",
       "    </tr>\n",
       "    <tr>\n",
       "      <th>12</th>\n",
       "      <td>1370598530298081282t</td>\n",
       "      <td>Denmark, Norway, Iceland Temporarily Suspend U...</td>\n",
       "      <td>side-effect</td>\n",
       "    </tr>\n",
       "    <tr>\n",
       "      <th>13</th>\n",
       "      <td>1353976833302212608t</td>\n",
       "      <td>@forestforever11 @AndyReidXI It's also blackma...</td>\n",
       "      <td>mandatory</td>\n",
       "    </tr>\n",
       "    <tr>\n",
       "      <th>14</th>\n",
       "      <td>1364401704712757250t</td>\n",
       "      <td>@lara_wong @Matthew82069336 @BorisJohnson I fe...</td>\n",
       "      <td>none</td>\n",
       "    </tr>\n",
       "    <tr>\n",
       "      <th>15</th>\n",
       "      <td>1355280828356558851t</td>\n",
       "      <td>@PetenyiSandor @katka_cseh Your choice, go and...</td>\n",
       "      <td>country</td>\n",
       "    </tr>\n",
       "    <tr>\n",
       "      <th>16</th>\n",
       "      <td>1315806454926905344t</td>\n",
       "      <td>@johncardillo @MaybeAmes They should open an i...</td>\n",
       "      <td>pharma</td>\n",
       "    </tr>\n",
       "    <tr>\n",
       "      <th>17</th>\n",
       "      <td>1309326947693080580t</td>\n",
       "      <td>@MysterySolvent Death people and corona Trump ...</td>\n",
       "      <td>political</td>\n",
       "    </tr>\n",
       "    <tr>\n",
       "      <th>18</th>\n",
       "      <td>1371181661384110082t</td>\n",
       "      <td>@ChristopherHahn @ReallyAmerican1 Where is tra...</td>\n",
       "      <td>ineffective</td>\n",
       "    </tr>\n",
       "    <tr>\n",
       "      <th>19</th>\n",
       "      <td>1316838664815640576t</td>\n",
       "      <td>@edrybicki Given the murky history of the Sput...</td>\n",
       "      <td>pharma ineffective</td>\n",
       "    </tr>\n",
       "  </tbody>\n",
       "</table>\n",
       "</div>"
      ],
      "text/plain": [
       "                      ID                                              tweet  \\\n",
       "0   1296010336907038720t  @cath__kath AstraZeneca is made with the kidne...   \n",
       "1   1336808189677940736t  It begins. Please find safe alternatives to th...   \n",
       "2   1329488407307956231t  @PaolaQP1231 Well, I mean congratulations Covi...   \n",
       "3   1364194604459900934t  @BorisJohnson for those of us that do not wish...   \n",
       "4   1375938799247765515t  She has been trying to speak out: writing lett...   \n",
       "5   1361038049556140034t  @DailyMailUK 😕 I'm confused: 💉 WITH the vaccin...   \n",
       "6   1365287445114322946t  We do not need any crazy twisted politician te...   \n",
       "7   1364157842022891520t  @AgreeT0D1sagree @Matteo30115900 @Femi_Sorry I...   \n",
       "8   1413367208537989123t  Taking One for the Team #TeamCanada New Astra~...   \n",
       "9   1405695355996426240t  Canadians who received AstraZeneca vaccine exc...   \n",
       "10  1376210451068030978t  My mom want me to take the vaccine so bad & I’...   \n",
       "11  1355090345676201985t  @CarnellAnita @annaberu Yes who are being cull...   \n",
       "12  1370598530298081282t  Denmark, Norway, Iceland Temporarily Suspend U...   \n",
       "13  1353976833302212608t  @forestforever11 @AndyReidXI It's also blackma...   \n",
       "14  1364401704712757250t  @lara_wong @Matthew82069336 @BorisJohnson I fe...   \n",
       "15  1355280828356558851t  @PetenyiSandor @katka_cseh Your choice, go and...   \n",
       "16  1315806454926905344t  @johncardillo @MaybeAmes They should open an i...   \n",
       "17  1309326947693080580t  @MysterySolvent Death people and corona Trump ...   \n",
       "18  1371181661384110082t  @ChristopherHahn @ReallyAmerican1 Where is tra...   \n",
       "19  1316838664815640576t  @edrybicki Given the murky history of the Sput...   \n",
       "\n",
       "                     labels  \n",
       "0               ingredients  \n",
       "1               side-effect  \n",
       "2               side-effect  \n",
       "3                 mandatory  \n",
       "4        side-effect rushed  \n",
       "5     ineffective mandatory  \n",
       "6                 political  \n",
       "7                 mandatory  \n",
       "8               side-effect  \n",
       "9   side-effect ineffective  \n",
       "10                     none  \n",
       "11               conspiracy  \n",
       "12              side-effect  \n",
       "13                mandatory  \n",
       "14                     none  \n",
       "15                  country  \n",
       "16                   pharma  \n",
       "17                political  \n",
       "18              ineffective  \n",
       "19       pharma ineffective  "
      ]
     },
     "execution_count": 74,
     "metadata": {},
     "output_type": "execute_result"
    }
   ],
   "source": [
    "train.head(20)"
   ]
  },
  {
   "cell_type": "code",
   "execution_count": 139,
   "id": "be698512-6137-41f6-802a-555298248fec",
   "metadata": {
    "tags": []
   },
   "outputs": [],
   "source": [
    "#train[train['labels']=='none'].tail()"
   ]
  },
  {
   "cell_type": "code",
   "execution_count": 132,
   "id": "f9755eb7-ff26-4227-a77d-3874bf2f1b3c",
   "metadata": {},
   "outputs": [
    {
     "data": {
      "text/plain": [
       "'@CureVacRNA @GOVUK We not have even your first vaccine and your busy on boosters and vacc2.0 😏 https://t.co/ldsvtHNe43'"
      ]
     },
     "execution_count": 132,
     "metadata": {},
     "output_type": "execute_result"
    }
   ],
   "source": [
    "train.iloc[9866]['tweet']"
   ]
  },
  {
   "cell_type": "code",
   "execution_count": 163,
   "id": "7de0f3b8-9b50-4c1a-998a-6d4ab2c8a2b0",
   "metadata": {},
   "outputs": [
    {
     "data": {
      "text/plain": [
       "['1370183450964135937t', 'Rushed Side-effect']"
      ]
     },
     "execution_count": 163,
     "metadata": {},
     "output_type": "execute_result"
    }
   ],
   "source": [
    "row = train.iloc[24]\n",
    "gpt_response(row)"
   ]
  },
  {
   "cell_type": "code",
   "execution_count": 140,
   "id": "71e9ae37-a8d7-4bef-9a83-be100f48738d",
   "metadata": {},
   "outputs": [],
   "source": [
    "val_df = pd.read_csv('val_df.csv')"
   ]
  },
  {
   "cell_type": "code",
   "execution_count": 142,
   "id": "53415c03-ed94-4030-aa7f-9e47888aa117",
   "metadata": {
    "tags": []
   },
   "outputs": [
    {
     "data": {
      "text/html": [
       "<div>\n",
       "<style scoped>\n",
       "    .dataframe tbody tr th:only-of-type {\n",
       "        vertical-align: middle;\n",
       "    }\n",
       "\n",
       "    .dataframe tbody tr th {\n",
       "        vertical-align: top;\n",
       "    }\n",
       "\n",
       "    .dataframe thead th {\n",
       "        text-align: right;\n",
       "    }\n",
       "</style>\n",
       "<table border=\"1\" class=\"dataframe\">\n",
       "  <thead>\n",
       "    <tr style=\"text-align: right;\">\n",
       "      <th></th>\n",
       "      <th>Unnamed: 0</th>\n",
       "      <th>Unnamed: 0.1</th>\n",
       "      <th>ID</th>\n",
       "      <th>tweet</th>\n",
       "      <th>labels</th>\n",
       "      <th>label_list</th>\n",
       "      <th>label_len</th>\n",
       "      <th>tweet_len</th>\n",
       "      <th>clean_tweets</th>\n",
       "      <th>tokens</th>\n",
       "      <th>neg</th>\n",
       "      <th>neu</th>\n",
       "      <th>pos</th>\n",
       "      <th>compound</th>\n",
       "    </tr>\n",
       "  </thead>\n",
       "  <tbody>\n",
       "    <tr>\n",
       "      <th>0</th>\n",
       "      <td>5268</td>\n",
       "      <td>5268</td>\n",
       "      <td>1337160614884552705t</td>\n",
       "      <td>Did you know that the new Pfizer COVID-19 vacc...</td>\n",
       "      <td>side-effect</td>\n",
       "      <td>['side-effect']</td>\n",
       "      <td>1</td>\n",
       "      <td>19</td>\n",
       "      <td>did you know that the new pfizer covid19 vacci...</td>\n",
       "      <td>['know', 'new', 'pfizer', 'covid19', 'vaccine'...</td>\n",
       "      <td>0.0</td>\n",
       "      <td>0.887</td>\n",
       "      <td>0.113</td>\n",
       "      <td>0.2869</td>\n",
       "    </tr>\n",
       "  </tbody>\n",
       "</table>\n",
       "</div>"
      ],
      "text/plain": [
       "   Unnamed: 0  Unnamed: 0.1                    ID  \\\n",
       "0        5268          5268  1337160614884552705t   \n",
       "\n",
       "                                               tweet       labels  \\\n",
       "0  Did you know that the new Pfizer COVID-19 vacc...  side-effect   \n",
       "\n",
       "        label_list  label_len  tweet_len  \\\n",
       "0  ['side-effect']          1         19   \n",
       "\n",
       "                                        clean_tweets  \\\n",
       "0  did you know that the new pfizer covid19 vacci...   \n",
       "\n",
       "                                              tokens  neg    neu    pos  \\\n",
       "0  ['know', 'new', 'pfizer', 'covid19', 'vaccine'...  0.0  0.887  0.113   \n",
       "\n",
       "   compound  \n",
       "0    0.2869  "
      ]
     },
     "execution_count": 142,
     "metadata": {},
     "output_type": "execute_result"
    }
   ],
   "source": [
    "val_df.head(1)"
   ]
  },
  {
   "cell_type": "code",
   "execution_count": 173,
   "id": "e5eecabb-62fe-4c4c-b7b7-d01e5d85d94c",
   "metadata": {
    "tags": []
   },
   "outputs": [
    {
     "name": "stdout",
     "output_type": "stream",
     "text": [
      "The response was filtered due to the prompt triggering Azure OpenAI’s content management policy. Please modify your prompt and retry. To learn more about our content filtering policies please read our documentation: https://go.microsoft.com/fwlink/?linkid=2198766\n"
     ]
    },
    {
     "data": {
      "text/plain": [
       "['1218958578461048832t', 'error']"
      ]
     },
     "execution_count": 173,
     "metadata": {},
     "output_type": "execute_result"
    }
   ],
   "source": [
    "row = val_df.iloc[24]\n",
    "gpt_response(row)"
   ]
  },
  {
   "cell_type": "code",
   "execution_count": 166,
   "id": "bd8f3a05-f5e2-44f9-b4bb-1aec557fc285",
   "metadata": {
    "tags": []
   },
   "outputs": [
    {
     "data": {
      "text/plain": [
       "\"@DocEmRu @ChrisJohnsonMD Not the Holocaust, it's the rape/vaccine-induced viral apocalypse via the coronavirus from #Wuhan. See: https://t.co/xFVEtMUdOl\""
      ]
     },
     "execution_count": 166,
     "metadata": {},
     "output_type": "execute_result"
    }
   ],
   "source": [
    "val_df.iloc[24]['tweet']"
   ]
  },
  {
   "cell_type": "code",
   "execution_count": 159,
   "id": "6b308286-fb41-439a-8e4a-a072d76da671",
   "metadata": {
    "tags": []
   },
   "outputs": [
    {
     "data": {
      "text/plain": [
       "(1985, 14)"
      ]
     },
     "execution_count": 159,
     "metadata": {},
     "output_type": "execute_result"
    }
   ],
   "source": [
    "val_df.shape"
   ]
  },
  {
   "cell_type": "code",
   "execution_count": null,
   "id": "b3aa4db9-aaae-4e8e-86a4-145ffce0a3cb",
   "metadata": {
    "tags": []
   },
   "outputs": [
    {
     "name": "stdout",
     "output_type": "stream",
     "text": [
      "The response was filtered due to the prompt triggering Azure OpenAI’s content management policy. Please modify your prompt and retry. To learn more about our content filtering policies please read our documentation: https://go.microsoft.com/fwlink/?linkid=2198766\n",
      "Rate limit is exceeded. Try again in 2 seconds.\n",
      "The response was filtered due to the prompt triggering Azure OpenAI’s content management policy. Please modify your prompt and retry. To learn more about our content filtering policies please read our documentation: https://go.microsoft.com/fwlink/?linkid=2198766\n",
      "The response was filtered due to the prompt triggering Azure OpenAI’s content management policy. Please modify your prompt and retry. To learn more about our content filtering policies please read our documentation: https://go.microsoft.com/fwlink/?linkid=2198766\n",
      "The response was filtered due to the prompt triggering Azure OpenAI’s content management policy. Please modify your prompt and retry. To learn more about our content filtering policies please read our documentation: https://go.microsoft.com/fwlink/?linkid=2198766\n",
      "Rate limit is exceeded. Try again in 1 seconds.\n",
      "The response was filtered due to the prompt triggering Azure OpenAI’s content management policy. Please modify your prompt and retry. To learn more about our content filtering policies please read our documentation: https://go.microsoft.com/fwlink/?linkid=2198766\n"
     ]
    }
   ],
   "source": [
    "# responses = []\n",
    "# error_i = []\n",
    "\n",
    "for i in range(26, 1985):  \n",
    "    try:\n",
    "        row = val_df.iloc[i]\n",
    "        resp = gpt_response(row)\n",
    "        responses.append(resp)\n",
    "    except Exception as e:\n",
    "        print(f\"Error at index {i}: {e}\")\n",
    "        error_i.append(i)"
   ]
  },
  {
   "cell_type": "code",
   "execution_count": 180,
   "id": "38d5c3e5-1250-4212-93c5-5a31073d2026",
   "metadata": {
    "tags": []
   },
   "outputs": [
    {
     "data": {
      "text/plain": [
       "1985"
      ]
     },
     "execution_count": 180,
     "metadata": {},
     "output_type": "execute_result"
    }
   ],
   "source": [
    "len(responses)"
   ]
  },
  {
   "cell_type": "code",
   "execution_count": 182,
   "id": "b94152fd-3871-4d4f-97c2-ae755f5dfa5d",
   "metadata": {
    "tags": []
   },
   "outputs": [
    {
     "data": {
      "text/plain": [
       "['1264128729611042816t', 'Pharma Ineffective']"
      ]
     },
     "execution_count": 182,
     "metadata": {},
     "output_type": "execute_result"
    }
   ],
   "source": [
    "responses[1984]"
   ]
  },
  {
   "cell_type": "code",
   "execution_count": 183,
   "id": "7892ad35-aa8e-4368-bff0-f53c32ce4e70",
   "metadata": {},
   "outputs": [],
   "source": [
    "response_tuples = [tuple(x) for x in responses]\n",
    "df1 = pd.DataFrame(response_tuples, columns=['ID', 'pred_label'])"
   ]
  },
  {
   "cell_type": "code",
   "execution_count": 184,
   "id": "34cbf8e1-f919-4d5e-ad38-5bf25ff01cca",
   "metadata": {
    "tags": []
   },
   "outputs": [
    {
     "data": {
      "text/plain": [
       "(1985, 2)"
      ]
     },
     "execution_count": 184,
     "metadata": {},
     "output_type": "execute_result"
    }
   ],
   "source": [
    "df1.shape"
   ]
  },
  {
   "cell_type": "code",
   "execution_count": 185,
   "id": "0e8a9fe6-90c1-4c26-955b-0f528a1c7caf",
   "metadata": {
    "tags": []
   },
   "outputs": [
    {
     "data": {
      "text/html": [
       "<div>\n",
       "<style scoped>\n",
       "    .dataframe tbody tr th:only-of-type {\n",
       "        vertical-align: middle;\n",
       "    }\n",
       "\n",
       "    .dataframe tbody tr th {\n",
       "        vertical-align: top;\n",
       "    }\n",
       "\n",
       "    .dataframe thead th {\n",
       "        text-align: right;\n",
       "    }\n",
       "</style>\n",
       "<table border=\"1\" class=\"dataframe\">\n",
       "  <thead>\n",
       "    <tr style=\"text-align: right;\">\n",
       "      <th></th>\n",
       "      <th>ID</th>\n",
       "      <th>pred_label</th>\n",
       "    </tr>\n",
       "  </thead>\n",
       "  <tbody>\n",
       "    <tr>\n",
       "      <th>0</th>\n",
       "      <td>1337160614884552705t</td>\n",
       "      <td>Side-effect</td>\n",
       "    </tr>\n",
       "    <tr>\n",
       "      <th>1</th>\n",
       "      <td>1355176268879306752t</td>\n",
       "      <td>Unnecessary Pharma Side-effect</td>\n",
       "    </tr>\n",
       "  </tbody>\n",
       "</table>\n",
       "</div>"
      ],
      "text/plain": [
       "                     ID                      pred_label\n",
       "0  1337160614884552705t                     Side-effect\n",
       "1  1355176268879306752t  Unnecessary Pharma Side-effect"
      ]
     },
     "execution_count": 185,
     "metadata": {},
     "output_type": "execute_result"
    }
   ],
   "source": [
    "df1.head(2)"
   ]
  },
  {
   "cell_type": "code",
   "execution_count": 186,
   "id": "a0beceb8-5747-4311-bdf1-8ddad5364891",
   "metadata": {
    "tags": []
   },
   "outputs": [
    {
     "data": {
      "text/html": [
       "<div>\n",
       "<style scoped>\n",
       "    .dataframe tbody tr th:only-of-type {\n",
       "        vertical-align: middle;\n",
       "    }\n",
       "\n",
       "    .dataframe tbody tr th {\n",
       "        vertical-align: top;\n",
       "    }\n",
       "\n",
       "    .dataframe thead th {\n",
       "        text-align: right;\n",
       "    }\n",
       "</style>\n",
       "<table border=\"1\" class=\"dataframe\">\n",
       "  <thead>\n",
       "    <tr style=\"text-align: right;\">\n",
       "      <th></th>\n",
       "      <th>Unnamed: 0</th>\n",
       "      <th>Unnamed: 0.1</th>\n",
       "      <th>ID</th>\n",
       "      <th>tweet</th>\n",
       "      <th>labels</th>\n",
       "      <th>label_list</th>\n",
       "      <th>label_len</th>\n",
       "      <th>tweet_len</th>\n",
       "      <th>clean_tweets</th>\n",
       "      <th>tokens</th>\n",
       "      <th>neg</th>\n",
       "      <th>neu</th>\n",
       "      <th>pos</th>\n",
       "      <th>compound</th>\n",
       "    </tr>\n",
       "  </thead>\n",
       "  <tbody>\n",
       "    <tr>\n",
       "      <th>0</th>\n",
       "      <td>5268</td>\n",
       "      <td>5268</td>\n",
       "      <td>1337160614884552705t</td>\n",
       "      <td>Did you know that the new Pfizer COVID-19 vacc...</td>\n",
       "      <td>side-effect</td>\n",
       "      <td>['side-effect']</td>\n",
       "      <td>1</td>\n",
       "      <td>19</td>\n",
       "      <td>did you know that the new pfizer covid19 vacci...</td>\n",
       "      <td>['know', 'new', 'pfizer', 'covid19', 'vaccine'...</td>\n",
       "      <td>0.000</td>\n",
       "      <td>0.887</td>\n",
       "      <td>0.113</td>\n",
       "      <td>0.2869</td>\n",
       "    </tr>\n",
       "    <tr>\n",
       "      <th>1</th>\n",
       "      <td>510</td>\n",
       "      <td>510</td>\n",
       "      <td>1355176268879306752t</td>\n",
       "      <td>@BBCBreaking 'Vaccinating' young people &lt;40 (w...</td>\n",
       "      <td>pharma unnecessary</td>\n",
       "      <td>['pharma', 'unnecessary']</td>\n",
       "      <td>2</td>\n",
       "      <td>45</td>\n",
       "      <td>bbcbreaking vaccinating young people 40 with 0...</td>\n",
       "      <td>['bbcbreaking', 'vaccinating', 'young', 'peopl...</td>\n",
       "      <td>0.214</td>\n",
       "      <td>0.722</td>\n",
       "      <td>0.064</td>\n",
       "      <td>-0.7590</td>\n",
       "    </tr>\n",
       "  </tbody>\n",
       "</table>\n",
       "</div>"
      ],
      "text/plain": [
       "   Unnamed: 0  Unnamed: 0.1                    ID  \\\n",
       "0        5268          5268  1337160614884552705t   \n",
       "1         510           510  1355176268879306752t   \n",
       "\n",
       "                                               tweet              labels  \\\n",
       "0  Did you know that the new Pfizer COVID-19 vacc...         side-effect   \n",
       "1  @BBCBreaking 'Vaccinating' young people <40 (w...  pharma unnecessary   \n",
       "\n",
       "                  label_list  label_len  tweet_len  \\\n",
       "0            ['side-effect']          1         19   \n",
       "1  ['pharma', 'unnecessary']          2         45   \n",
       "\n",
       "                                        clean_tweets  \\\n",
       "0  did you know that the new pfizer covid19 vacci...   \n",
       "1  bbcbreaking vaccinating young people 40 with 0...   \n",
       "\n",
       "                                              tokens    neg    neu    pos  \\\n",
       "0  ['know', 'new', 'pfizer', 'covid19', 'vaccine'...  0.000  0.887  0.113   \n",
       "1  ['bbcbreaking', 'vaccinating', 'young', 'peopl...  0.214  0.722  0.064   \n",
       "\n",
       "   compound  \n",
       "0    0.2869  \n",
       "1   -0.7590  "
      ]
     },
     "execution_count": 186,
     "metadata": {},
     "output_type": "execute_result"
    }
   ],
   "source": [
    "val_df.head(2)"
   ]
  },
  {
   "cell_type": "code",
   "execution_count": 187,
   "id": "8900d541-5a9b-40bb-9e38-e766bd5c97ac",
   "metadata": {
    "tags": []
   },
   "outputs": [],
   "source": [
    "merged_df = df1.merge(val_df, on='ID', how='left')"
   ]
  },
  {
   "cell_type": "code",
   "execution_count": 188,
   "id": "845245ad-2834-4f55-86b4-e726fc73243a",
   "metadata": {
    "tags": []
   },
   "outputs": [
    {
     "data": {
      "text/html": [
       "<div>\n",
       "<style scoped>\n",
       "    .dataframe tbody tr th:only-of-type {\n",
       "        vertical-align: middle;\n",
       "    }\n",
       "\n",
       "    .dataframe tbody tr th {\n",
       "        vertical-align: top;\n",
       "    }\n",
       "\n",
       "    .dataframe thead th {\n",
       "        text-align: right;\n",
       "    }\n",
       "</style>\n",
       "<table border=\"1\" class=\"dataframe\">\n",
       "  <thead>\n",
       "    <tr style=\"text-align: right;\">\n",
       "      <th></th>\n",
       "      <th>ID</th>\n",
       "      <th>pred_label</th>\n",
       "      <th>Unnamed: 0</th>\n",
       "      <th>Unnamed: 0.1</th>\n",
       "      <th>tweet</th>\n",
       "      <th>labels</th>\n",
       "      <th>label_list</th>\n",
       "      <th>label_len</th>\n",
       "      <th>tweet_len</th>\n",
       "      <th>clean_tweets</th>\n",
       "      <th>tokens</th>\n",
       "      <th>neg</th>\n",
       "      <th>neu</th>\n",
       "      <th>pos</th>\n",
       "      <th>compound</th>\n",
       "    </tr>\n",
       "  </thead>\n",
       "  <tbody>\n",
       "    <tr>\n",
       "      <th>0</th>\n",
       "      <td>1337160614884552705t</td>\n",
       "      <td>Side-effect</td>\n",
       "      <td>5268</td>\n",
       "      <td>5268</td>\n",
       "      <td>Did you know that the new Pfizer COVID-19 vacc...</td>\n",
       "      <td>side-effect</td>\n",
       "      <td>['side-effect']</td>\n",
       "      <td>1</td>\n",
       "      <td>19</td>\n",
       "      <td>did you know that the new pfizer covid19 vacci...</td>\n",
       "      <td>['know', 'new', 'pfizer', 'covid19', 'vaccine'...</td>\n",
       "      <td>0.000</td>\n",
       "      <td>0.887</td>\n",
       "      <td>0.113</td>\n",
       "      <td>0.2869</td>\n",
       "    </tr>\n",
       "    <tr>\n",
       "      <th>1</th>\n",
       "      <td>1355176268879306752t</td>\n",
       "      <td>Unnecessary Pharma Side-effect</td>\n",
       "      <td>510</td>\n",
       "      <td>510</td>\n",
       "      <td>@BBCBreaking 'Vaccinating' young people &lt;40 (w...</td>\n",
       "      <td>pharma unnecessary</td>\n",
       "      <td>['pharma', 'unnecessary']</td>\n",
       "      <td>2</td>\n",
       "      <td>45</td>\n",
       "      <td>bbcbreaking vaccinating young people 40 with 0...</td>\n",
       "      <td>['bbcbreaking', 'vaccinating', 'young', 'peopl...</td>\n",
       "      <td>0.214</td>\n",
       "      <td>0.722</td>\n",
       "      <td>0.064</td>\n",
       "      <td>-0.7590</td>\n",
       "    </tr>\n",
       "    <tr>\n",
       "      <th>2</th>\n",
       "      <td>1287711540343431168t</td>\n",
       "      <td>Mandatory Rushed</td>\n",
       "      <td>4328</td>\n",
       "      <td>4328</td>\n",
       "      <td>@outsider63 @gemmaod1 This is about been force...</td>\n",
       "      <td>mandatory rushed</td>\n",
       "      <td>['mandatory', 'rushed']</td>\n",
       "      <td>2</td>\n",
       "      <td>20</td>\n",
       "      <td>outsider63 gemmaod1 this is about been forced ...</td>\n",
       "      <td>['outsider63', 'gemmaod1', 'forced', 'take', '...</td>\n",
       "      <td>0.234</td>\n",
       "      <td>0.766</td>\n",
       "      <td>0.000</td>\n",
       "      <td>-0.6369</td>\n",
       "    </tr>\n",
       "    <tr>\n",
       "      <th>3</th>\n",
       "      <td>1417661084715032578t</td>\n",
       "      <td>Side-effect Pharma</td>\n",
       "      <td>8380</td>\n",
       "      <td>8380</td>\n",
       "      <td>Search Results from the #VAERS Database 31y♂️#...</td>\n",
       "      <td>side-effect</td>\n",
       "      <td>['side-effect']</td>\n",
       "      <td>1</td>\n",
       "      <td>15</td>\n",
       "      <td>search results from the vaers database 31yneva...</td>\n",
       "      <td>['search', 'results', 'vaers', 'database', '31...</td>\n",
       "      <td>0.000</td>\n",
       "      <td>1.000</td>\n",
       "      <td>0.000</td>\n",
       "      <td>0.0000</td>\n",
       "    </tr>\n",
       "    <tr>\n",
       "      <th>4</th>\n",
       "      <td>1337183965917097984t</td>\n",
       "      <td>Unnecessary Mandatory</td>\n",
       "      <td>9033</td>\n",
       "      <td>9033</td>\n",
       "      <td>@Moondoggie2020 @melanielynngrif @ABC They tes...</td>\n",
       "      <td>unnecessary</td>\n",
       "      <td>['unnecessary']</td>\n",
       "      <td>1</td>\n",
       "      <td>39</td>\n",
       "      <td>moondoggie2020 melanielynngrif abc they tested...</td>\n",
       "      <td>['moondoggie2020', 'melanielynngrif', 'abc', '...</td>\n",
       "      <td>0.051</td>\n",
       "      <td>0.882</td>\n",
       "      <td>0.066</td>\n",
       "      <td>0.1531</td>\n",
       "    </tr>\n",
       "  </tbody>\n",
       "</table>\n",
       "</div>"
      ],
      "text/plain": [
       "                     ID                      pred_label  Unnamed: 0  \\\n",
       "0  1337160614884552705t                     Side-effect        5268   \n",
       "1  1355176268879306752t  Unnecessary Pharma Side-effect         510   \n",
       "2  1287711540343431168t                Mandatory Rushed        4328   \n",
       "3  1417661084715032578t              Side-effect Pharma        8380   \n",
       "4  1337183965917097984t           Unnecessary Mandatory        9033   \n",
       "\n",
       "   Unnamed: 0.1                                              tweet  \\\n",
       "0          5268  Did you know that the new Pfizer COVID-19 vacc...   \n",
       "1           510  @BBCBreaking 'Vaccinating' young people <40 (w...   \n",
       "2          4328  @outsider63 @gemmaod1 This is about been force...   \n",
       "3          8380  Search Results from the #VAERS Database 31y♂️#...   \n",
       "4          9033  @Moondoggie2020 @melanielynngrif @ABC They tes...   \n",
       "\n",
       "               labels                 label_list  label_len  tweet_len  \\\n",
       "0         side-effect            ['side-effect']          1         19   \n",
       "1  pharma unnecessary  ['pharma', 'unnecessary']          2         45   \n",
       "2    mandatory rushed    ['mandatory', 'rushed']          2         20   \n",
       "3         side-effect            ['side-effect']          1         15   \n",
       "4         unnecessary            ['unnecessary']          1         39   \n",
       "\n",
       "                                        clean_tweets  \\\n",
       "0  did you know that the new pfizer covid19 vacci...   \n",
       "1  bbcbreaking vaccinating young people 40 with 0...   \n",
       "2  outsider63 gemmaod1 this is about been forced ...   \n",
       "3  search results from the vaers database 31yneva...   \n",
       "4  moondoggie2020 melanielynngrif abc they tested...   \n",
       "\n",
       "                                              tokens    neg    neu    pos  \\\n",
       "0  ['know', 'new', 'pfizer', 'covid19', 'vaccine'...  0.000  0.887  0.113   \n",
       "1  ['bbcbreaking', 'vaccinating', 'young', 'peopl...  0.214  0.722  0.064   \n",
       "2  ['outsider63', 'gemmaod1', 'forced', 'take', '...  0.234  0.766  0.000   \n",
       "3  ['search', 'results', 'vaers', 'database', '31...  0.000  1.000  0.000   \n",
       "4  ['moondoggie2020', 'melanielynngrif', 'abc', '...  0.051  0.882  0.066   \n",
       "\n",
       "   compound  \n",
       "0    0.2869  \n",
       "1   -0.7590  \n",
       "2   -0.6369  \n",
       "3    0.0000  \n",
       "4    0.1531  "
      ]
     },
     "execution_count": 188,
     "metadata": {},
     "output_type": "execute_result"
    }
   ],
   "source": [
    "merged_df.head()"
   ]
  },
  {
   "cell_type": "code",
   "execution_count": 189,
   "id": "637ef4aa-df2f-4750-9a78-4537142d392f",
   "metadata": {},
   "outputs": [],
   "source": [
    "merged_df.to_csv('pred_label_gpt4.csv')"
   ]
  },
  {
   "cell_type": "code",
   "execution_count": null,
   "id": "36a5d9da-870e-46ec-9de9-b6e0b1a22332",
   "metadata": {},
   "outputs": [],
   "source": []
  },
  {
   "cell_type": "code",
   "execution_count": 6,
   "id": "ee668ddb-332b-4844-8bdb-705b9aa7038d",
   "metadata": {
    "tags": []
   },
   "outputs": [],
   "source": [
    "df = pd.read_csv('pred_label_gpt4.csv')"
   ]
  },
  {
   "cell_type": "code",
   "execution_count": 7,
   "id": "8e4e8f7e-beb0-4498-b837-a3f295edeb7c",
   "metadata": {
    "tags": []
   },
   "outputs": [
    {
     "data": {
      "text/html": [
       "<div>\n",
       "<style scoped>\n",
       "    .dataframe tbody tr th:only-of-type {\n",
       "        vertical-align: middle;\n",
       "    }\n",
       "\n",
       "    .dataframe tbody tr th {\n",
       "        vertical-align: top;\n",
       "    }\n",
       "\n",
       "    .dataframe thead th {\n",
       "        text-align: right;\n",
       "    }\n",
       "</style>\n",
       "<table border=\"1\" class=\"dataframe\">\n",
       "  <thead>\n",
       "    <tr style=\"text-align: right;\">\n",
       "      <th></th>\n",
       "      <th>Unnamed: 0</th>\n",
       "      <th>ID</th>\n",
       "      <th>pred_label</th>\n",
       "      <th>Unnamed: 0.1</th>\n",
       "      <th>Unnamed: 0.1.1</th>\n",
       "      <th>tweet</th>\n",
       "      <th>labels</th>\n",
       "      <th>label_list</th>\n",
       "      <th>label_len</th>\n",
       "      <th>tweet_len</th>\n",
       "      <th>clean_tweets</th>\n",
       "      <th>tokens</th>\n",
       "      <th>neg</th>\n",
       "      <th>neu</th>\n",
       "      <th>pos</th>\n",
       "      <th>compound</th>\n",
       "    </tr>\n",
       "  </thead>\n",
       "  <tbody>\n",
       "    <tr>\n",
       "      <th>0</th>\n",
       "      <td>0</td>\n",
       "      <td>1337160614884552705t</td>\n",
       "      <td>Side-effect</td>\n",
       "      <td>5268</td>\n",
       "      <td>5268</td>\n",
       "      <td>Did you know that the new Pfizer COVID-19 vacc...</td>\n",
       "      <td>side-effect</td>\n",
       "      <td>['side-effect']</td>\n",
       "      <td>1</td>\n",
       "      <td>19</td>\n",
       "      <td>did you know that the new pfizer covid19 vacci...</td>\n",
       "      <td>['know', 'new', 'pfizer', 'covid19', 'vaccine'...</td>\n",
       "      <td>0.000</td>\n",
       "      <td>0.887</td>\n",
       "      <td>0.113</td>\n",
       "      <td>0.2869</td>\n",
       "    </tr>\n",
       "    <tr>\n",
       "      <th>1</th>\n",
       "      <td>1</td>\n",
       "      <td>1355176268879306752t</td>\n",
       "      <td>Unnecessary Pharma Side-effect</td>\n",
       "      <td>510</td>\n",
       "      <td>510</td>\n",
       "      <td>@BBCBreaking 'Vaccinating' young people &lt;40 (w...</td>\n",
       "      <td>pharma unnecessary</td>\n",
       "      <td>['pharma', 'unnecessary']</td>\n",
       "      <td>2</td>\n",
       "      <td>45</td>\n",
       "      <td>bbcbreaking vaccinating young people 40 with 0...</td>\n",
       "      <td>['bbcbreaking', 'vaccinating', 'young', 'peopl...</td>\n",
       "      <td>0.214</td>\n",
       "      <td>0.722</td>\n",
       "      <td>0.064</td>\n",
       "      <td>-0.7590</td>\n",
       "    </tr>\n",
       "    <tr>\n",
       "      <th>2</th>\n",
       "      <td>2</td>\n",
       "      <td>1287711540343431168t</td>\n",
       "      <td>Mandatory Rushed</td>\n",
       "      <td>4328</td>\n",
       "      <td>4328</td>\n",
       "      <td>@outsider63 @gemmaod1 This is about been force...</td>\n",
       "      <td>mandatory rushed</td>\n",
       "      <td>['mandatory', 'rushed']</td>\n",
       "      <td>2</td>\n",
       "      <td>20</td>\n",
       "      <td>outsider63 gemmaod1 this is about been forced ...</td>\n",
       "      <td>['outsider63', 'gemmaod1', 'forced', 'take', '...</td>\n",
       "      <td>0.234</td>\n",
       "      <td>0.766</td>\n",
       "      <td>0.000</td>\n",
       "      <td>-0.6369</td>\n",
       "    </tr>\n",
       "    <tr>\n",
       "      <th>3</th>\n",
       "      <td>3</td>\n",
       "      <td>1417661084715032578t</td>\n",
       "      <td>Side-effect Pharma</td>\n",
       "      <td>8380</td>\n",
       "      <td>8380</td>\n",
       "      <td>Search Results from the #VAERS Database 31y♂️#...</td>\n",
       "      <td>side-effect</td>\n",
       "      <td>['side-effect']</td>\n",
       "      <td>1</td>\n",
       "      <td>15</td>\n",
       "      <td>search results from the vaers database 31yneva...</td>\n",
       "      <td>['search', 'results', 'vaers', 'database', '31...</td>\n",
       "      <td>0.000</td>\n",
       "      <td>1.000</td>\n",
       "      <td>0.000</td>\n",
       "      <td>0.0000</td>\n",
       "    </tr>\n",
       "    <tr>\n",
       "      <th>4</th>\n",
       "      <td>4</td>\n",
       "      <td>1337183965917097984t</td>\n",
       "      <td>Unnecessary Mandatory</td>\n",
       "      <td>9033</td>\n",
       "      <td>9033</td>\n",
       "      <td>@Moondoggie2020 @melanielynngrif @ABC They tes...</td>\n",
       "      <td>unnecessary</td>\n",
       "      <td>['unnecessary']</td>\n",
       "      <td>1</td>\n",
       "      <td>39</td>\n",
       "      <td>moondoggie2020 melanielynngrif abc they tested...</td>\n",
       "      <td>['moondoggie2020', 'melanielynngrif', 'abc', '...</td>\n",
       "      <td>0.051</td>\n",
       "      <td>0.882</td>\n",
       "      <td>0.066</td>\n",
       "      <td>0.1531</td>\n",
       "    </tr>\n",
       "  </tbody>\n",
       "</table>\n",
       "</div>"
      ],
      "text/plain": [
       "   Unnamed: 0                    ID                      pred_label  \\\n",
       "0           0  1337160614884552705t                     Side-effect   \n",
       "1           1  1355176268879306752t  Unnecessary Pharma Side-effect   \n",
       "2           2  1287711540343431168t                Mandatory Rushed   \n",
       "3           3  1417661084715032578t              Side-effect Pharma   \n",
       "4           4  1337183965917097984t           Unnecessary Mandatory   \n",
       "\n",
       "   Unnamed: 0.1  Unnamed: 0.1.1  \\\n",
       "0          5268            5268   \n",
       "1           510             510   \n",
       "2          4328            4328   \n",
       "3          8380            8380   \n",
       "4          9033            9033   \n",
       "\n",
       "                                               tweet              labels  \\\n",
       "0  Did you know that the new Pfizer COVID-19 vacc...         side-effect   \n",
       "1  @BBCBreaking 'Vaccinating' young people <40 (w...  pharma unnecessary   \n",
       "2  @outsider63 @gemmaod1 This is about been force...    mandatory rushed   \n",
       "3  Search Results from the #VAERS Database 31y♂️#...         side-effect   \n",
       "4  @Moondoggie2020 @melanielynngrif @ABC They tes...         unnecessary   \n",
       "\n",
       "                  label_list  label_len  tweet_len  \\\n",
       "0            ['side-effect']          1         19   \n",
       "1  ['pharma', 'unnecessary']          2         45   \n",
       "2    ['mandatory', 'rushed']          2         20   \n",
       "3            ['side-effect']          1         15   \n",
       "4            ['unnecessary']          1         39   \n",
       "\n",
       "                                        clean_tweets  \\\n",
       "0  did you know that the new pfizer covid19 vacci...   \n",
       "1  bbcbreaking vaccinating young people 40 with 0...   \n",
       "2  outsider63 gemmaod1 this is about been forced ...   \n",
       "3  search results from the vaers database 31yneva...   \n",
       "4  moondoggie2020 melanielynngrif abc they tested...   \n",
       "\n",
       "                                              tokens    neg    neu    pos  \\\n",
       "0  ['know', 'new', 'pfizer', 'covid19', 'vaccine'...  0.000  0.887  0.113   \n",
       "1  ['bbcbreaking', 'vaccinating', 'young', 'peopl...  0.214  0.722  0.064   \n",
       "2  ['outsider63', 'gemmaod1', 'forced', 'take', '...  0.234  0.766  0.000   \n",
       "3  ['search', 'results', 'vaers', 'database', '31...  0.000  1.000  0.000   \n",
       "4  ['moondoggie2020', 'melanielynngrif', 'abc', '...  0.051  0.882  0.066   \n",
       "\n",
       "   compound  \n",
       "0    0.2869  \n",
       "1   -0.7590  \n",
       "2   -0.6369  \n",
       "3    0.0000  \n",
       "4    0.1531  "
      ]
     },
     "execution_count": 7,
     "metadata": {},
     "output_type": "execute_result"
    }
   ],
   "source": [
    "df.head()"
   ]
  },
  {
   "cell_type": "code",
   "execution_count": null,
   "id": "f548ed96-8fa3-4d29-9001-81709c159c6a",
   "metadata": {
    "tags": []
   },
   "outputs": [],
   "source": []
  },
  {
   "cell_type": "code",
   "execution_count": 21,
   "id": "f44602f2-b954-4369-a7d0-075a61572b00",
   "metadata": {
    "tags": []
   },
   "outputs": [],
   "source": [
    "# Define a function to split the words\n",
    "def split_words(row):\n",
    "    return row.split(' ')"
   ]
  },
  {
   "cell_type": "code",
   "execution_count": 27,
   "id": "aced5b4c-8649-42db-8547-78e1f5fb219b",
   "metadata": {
    "tags": []
   },
   "outputs": [],
   "source": [
    "df['pred_label_list'] = df['pred_label'].str.lower().replace(',', '', regex=False).apply(split_words)"
   ]
  },
  {
   "cell_type": "code",
   "execution_count": 28,
   "id": "284c4aa4-e08e-485c-bab7-35ceb2c1d0c8",
   "metadata": {
    "tags": []
   },
   "outputs": [
    {
     "data": {
      "text/plain": [
       "pred_label_list\n",
       "side-effect         862\n",
       "ineffective         675\n",
       "rushed              531\n",
       "unnecessary         419\n",
       "pharma              362\n",
       "mandatory           298\n",
       "political           258\n",
       "conspiracy          253\n",
       "ingredients         209\n",
       "country             140\n",
       "none                 47\n",
       "religious            29\n",
       "error                12\n",
       "side-effect,          4\n",
       "age                   3\n",
       "pharma,               2\n",
       "rushed,               2\n",
       "conspiracy,           1\n",
       "informed-consent      1\n",
       "toxic,                1\n",
       "trust                 1\n",
       "access                1\n",
       "Name: ID, dtype: int64"
      ]
     },
     "execution_count": 28,
     "metadata": {},
     "output_type": "execute_result"
    }
   ],
   "source": [
    "df.explode(['pred_label_list']).groupby(['pred_label_list'])['ID'].count().sort_values(ascending= False)"
   ]
  },
  {
   "cell_type": "code",
   "execution_count": 29,
   "id": "9cdda4aa-565a-461b-ba39-ca4ab31d6085",
   "metadata": {
    "tags": []
   },
   "outputs": [],
   "source": [
    "df['pred_label_len'] = df['pred_label_list'].apply(len)"
   ]
  },
  {
   "cell_type": "code",
   "execution_count": 30,
   "id": "6fa90deb-9d30-4220-b307-a4cbe16c7e52",
   "metadata": {
    "tags": []
   },
   "outputs": [
    {
     "data": {
      "image/png": "[encoded data removed]",
      "text/plain": [
       "<Figure size 640x480 with 1 Axes>"
      ]
     },
     "metadata": {},
     "output_type": "display_data"
    }
   ],
   "source": [
    "sns.countplot(df['pred_label_len'])\n",
    "plt.show()"
   ]
  },
  {
   "cell_type": "code",
   "execution_count": 31,
   "id": "eab1ed48-7e4a-4a47-bb0d-17758c572ab6",
   "metadata": {
    "tags": []
   },
   "outputs": [
    {
     "data": {
      "text/html": [
       "<div>\n",
       "<style scoped>\n",
       "    .dataframe tbody tr th:only-of-type {\n",
       "        vertical-align: middle;\n",
       "    }\n",
       "\n",
       "    .dataframe tbody tr th {\n",
       "        vertical-align: top;\n",
       "    }\n",
       "\n",
       "    .dataframe thead th {\n",
       "        text-align: right;\n",
       "    }\n",
       "</style>\n",
       "<table border=\"1\" class=\"dataframe\">\n",
       "  <thead>\n",
       "    <tr style=\"text-align: right;\">\n",
       "      <th></th>\n",
       "      <th>Unnamed: 0</th>\n",
       "      <th>ID</th>\n",
       "      <th>pred_label</th>\n",
       "      <th>Unnamed: 0.1</th>\n",
       "      <th>Unnamed: 0.1.1</th>\n",
       "      <th>tweet</th>\n",
       "      <th>labels</th>\n",
       "      <th>label_list</th>\n",
       "      <th>label_len</th>\n",
       "      <th>tweet_len</th>\n",
       "      <th>clean_tweets</th>\n",
       "      <th>tokens</th>\n",
       "      <th>neg</th>\n",
       "      <th>neu</th>\n",
       "      <th>pos</th>\n",
       "      <th>compound</th>\n",
       "      <th>pred_label_list</th>\n",
       "      <th>pred_label_len</th>\n",
       "    </tr>\n",
       "  </thead>\n",
       "  <tbody>\n",
       "    <tr>\n",
       "      <th>0</th>\n",
       "      <td>0</td>\n",
       "      <td>1337160614884552705t</td>\n",
       "      <td>Side-effect</td>\n",
       "      <td>5268</td>\n",
       "      <td>5268</td>\n",
       "      <td>Did you know that the new Pfizer COVID-19 vacc...</td>\n",
       "      <td>side-effect</td>\n",
       "      <td>['side-effect']</td>\n",
       "      <td>1</td>\n",
       "      <td>19</td>\n",
       "      <td>did you know that the new pfizer covid19 vacci...</td>\n",
       "      <td>['know', 'new', 'pfizer', 'covid19', 'vaccine'...</td>\n",
       "      <td>0.000</td>\n",
       "      <td>0.887</td>\n",
       "      <td>0.113</td>\n",
       "      <td>0.2869</td>\n",
       "      <td>[side-effect]</td>\n",
       "      <td>1</td>\n",
       "    </tr>\n",
       "    <tr>\n",
       "      <th>1</th>\n",
       "      <td>1</td>\n",
       "      <td>1355176268879306752t</td>\n",
       "      <td>Unnecessary Pharma Side-effect</td>\n",
       "      <td>510</td>\n",
       "      <td>510</td>\n",
       "      <td>@BBCBreaking 'Vaccinating' young people &lt;40 (w...</td>\n",
       "      <td>pharma unnecessary</td>\n",
       "      <td>['pharma', 'unnecessary']</td>\n",
       "      <td>2</td>\n",
       "      <td>45</td>\n",
       "      <td>bbcbreaking vaccinating young people 40 with 0...</td>\n",
       "      <td>['bbcbreaking', 'vaccinating', 'young', 'peopl...</td>\n",
       "      <td>0.214</td>\n",
       "      <td>0.722</td>\n",
       "      <td>0.064</td>\n",
       "      <td>-0.7590</td>\n",
       "      <td>[unnecessary, pharma, side-effect]</td>\n",
       "      <td>3</td>\n",
       "    </tr>\n",
       "    <tr>\n",
       "      <th>2</th>\n",
       "      <td>2</td>\n",
       "      <td>1287711540343431168t</td>\n",
       "      <td>Mandatory Rushed</td>\n",
       "      <td>4328</td>\n",
       "      <td>4328</td>\n",
       "      <td>@outsider63 @gemmaod1 This is about been force...</td>\n",
       "      <td>mandatory rushed</td>\n",
       "      <td>['mandatory', 'rushed']</td>\n",
       "      <td>2</td>\n",
       "      <td>20</td>\n",
       "      <td>outsider63 gemmaod1 this is about been forced ...</td>\n",
       "      <td>['outsider63', 'gemmaod1', 'forced', 'take', '...</td>\n",
       "      <td>0.234</td>\n",
       "      <td>0.766</td>\n",
       "      <td>0.000</td>\n",
       "      <td>-0.6369</td>\n",
       "      <td>[mandatory, rushed]</td>\n",
       "      <td>2</td>\n",
       "    </tr>\n",
       "    <tr>\n",
       "      <th>3</th>\n",
       "      <td>3</td>\n",
       "      <td>1417661084715032578t</td>\n",
       "      <td>Side-effect Pharma</td>\n",
       "      <td>8380</td>\n",
       "      <td>8380</td>\n",
       "      <td>Search Results from the #VAERS Database 31y♂️#...</td>\n",
       "      <td>side-effect</td>\n",
       "      <td>['side-effect']</td>\n",
       "      <td>1</td>\n",
       "      <td>15</td>\n",
       "      <td>search results from the vaers database 31yneva...</td>\n",
       "      <td>['search', 'results', 'vaers', 'database', '31...</td>\n",
       "      <td>0.000</td>\n",
       "      <td>1.000</td>\n",
       "      <td>0.000</td>\n",
       "      <td>0.0000</td>\n",
       "      <td>[side-effect, pharma]</td>\n",
       "      <td>2</td>\n",
       "    </tr>\n",
       "    <tr>\n",
       "      <th>4</th>\n",
       "      <td>4</td>\n",
       "      <td>1337183965917097984t</td>\n",
       "      <td>Unnecessary Mandatory</td>\n",
       "      <td>9033</td>\n",
       "      <td>9033</td>\n",
       "      <td>@Moondoggie2020 @melanielynngrif @ABC They tes...</td>\n",
       "      <td>unnecessary</td>\n",
       "      <td>['unnecessary']</td>\n",
       "      <td>1</td>\n",
       "      <td>39</td>\n",
       "      <td>moondoggie2020 melanielynngrif abc they tested...</td>\n",
       "      <td>['moondoggie2020', 'melanielynngrif', 'abc', '...</td>\n",
       "      <td>0.051</td>\n",
       "      <td>0.882</td>\n",
       "      <td>0.066</td>\n",
       "      <td>0.1531</td>\n",
       "      <td>[unnecessary, mandatory]</td>\n",
       "      <td>2</td>\n",
       "    </tr>\n",
       "  </tbody>\n",
       "</table>\n",
       "</div>"
      ],
      "text/plain": [
       "   Unnamed: 0                    ID                      pred_label  \\\n",
       "0           0  1337160614884552705t                     Side-effect   \n",
       "1           1  1355176268879306752t  Unnecessary Pharma Side-effect   \n",
       "2           2  1287711540343431168t                Mandatory Rushed   \n",
       "3           3  1417661084715032578t              Side-effect Pharma   \n",
       "4           4  1337183965917097984t           Unnecessary Mandatory   \n",
       "\n",
       "   Unnamed: 0.1  Unnamed: 0.1.1  \\\n",
       "0          5268            5268   \n",
       "1           510             510   \n",
       "2          4328            4328   \n",
       "3          8380            8380   \n",
       "4          9033            9033   \n",
       "\n",
       "                                               tweet              labels  \\\n",
       "0  Did you know that the new Pfizer COVID-19 vacc...         side-effect   \n",
       "1  @BBCBreaking 'Vaccinating' young people <40 (w...  pharma unnecessary   \n",
       "2  @outsider63 @gemmaod1 This is about been force...    mandatory rushed   \n",
       "3  Search Results from the #VAERS Database 31y♂️#...         side-effect   \n",
       "4  @Moondoggie2020 @melanielynngrif @ABC They tes...         unnecessary   \n",
       "\n",
       "                  label_list  label_len  tweet_len  \\\n",
       "0            ['side-effect']          1         19   \n",
       "1  ['pharma', 'unnecessary']          2         45   \n",
       "2    ['mandatory', 'rushed']          2         20   \n",
       "3            ['side-effect']          1         15   \n",
       "4            ['unnecessary']          1         39   \n",
       "\n",
       "                                        clean_tweets  \\\n",
       "0  did you know that the new pfizer covid19 vacci...   \n",
       "1  bbcbreaking vaccinating young people 40 with 0...   \n",
       "2  outsider63 gemmaod1 this is about been forced ...   \n",
       "3  search results from the vaers database 31yneva...   \n",
       "4  moondoggie2020 melanielynngrif abc they tested...   \n",
       "\n",
       "                                              tokens    neg    neu    pos  \\\n",
       "0  ['know', 'new', 'pfizer', 'covid19', 'vaccine'...  0.000  0.887  0.113   \n",
       "1  ['bbcbreaking', 'vaccinating', 'young', 'peopl...  0.214  0.722  0.064   \n",
       "2  ['outsider63', 'gemmaod1', 'forced', 'take', '...  0.234  0.766  0.000   \n",
       "3  ['search', 'results', 'vaers', 'database', '31...  0.000  1.000  0.000   \n",
       "4  ['moondoggie2020', 'melanielynngrif', 'abc', '...  0.051  0.882  0.066   \n",
       "\n",
       "   compound                     pred_label_list  pred_label_len  \n",
       "0    0.2869                       [side-effect]               1  \n",
       "1   -0.7590  [unnecessary, pharma, side-effect]               3  \n",
       "2   -0.6369                 [mandatory, rushed]               2  \n",
       "3    0.0000               [side-effect, pharma]               2  \n",
       "4    0.1531            [unnecessary, mandatory]               2  "
      ]
     },
     "execution_count": 31,
     "metadata": {},
     "output_type": "execute_result"
    }
   ],
   "source": [
    "df.head()"
   ]
  },
  {
   "cell_type": "code",
   "execution_count": 35,
   "id": "2411ed90-0da4-41fc-b5e1-5d4497976bc8",
   "metadata": {
    "tags": []
   },
   "outputs": [
    {
     "data": {
      "text/plain": [
       "['side-effect']"
      ]
     },
     "execution_count": 35,
     "metadata": {},
     "output_type": "execute_result"
    }
   ],
   "source": [
    "df['label_list'].iloc[0]"
   ]
  },
  {
   "cell_type": "code",
   "execution_count": 36,
   "id": "5cad3620-f4ce-4bbc-a131-f5a57f6d90e6",
   "metadata": {
    "tags": []
   },
   "outputs": [
    {
     "name": "stdout",
     "output_type": "stream",
     "text": [
      "Macro F1 score: 0.5321185422979818\n"
     ]
    },
    {
     "name": "stderr",
     "output_type": "stream",
     "text": [
      "/opt/conda/lib/python3.7/site-packages/sklearn/preprocessing/_label.py:987: UserWarning: unknown class(es) ['access', 'age', 'conspiracy,', 'error', 'informed-consent', 'pharma,', 'rushed,', 'side-effect,', 'toxic,', 'trust'] will be ignored\n",
      "  .format(sorted(unknown, key=str)))\n"
     ]
    }
   ],
   "source": [
    "from sklearn.preprocessing import MultiLabelBinarizer\n",
    "from sklearn.metrics import f1_score\n",
    "\n",
    "# Assuming df is your DataFrame, and 'label_list' and 'pred_label_list' are the columns with the actual and predicted labels\n",
    "mlb = MultiLabelBinarizer()\n",
    "\n",
    "# Fit the binarizer on the actual labels and transform both actual and predicted labels\n",
    "y_true = mlb.fit_transform(df['label_list'])\n",
    "y_pred = mlb.transform(df['pred_label_list'])\n",
    "\n",
    "# Compute macro F1 score\n",
    "macro_f1 = f1_score(y_true, y_pred, average='macro')\n",
    "print('Macro F1 score:', macro_f1)"
   ]
  },
  {
   "cell_type": "code",
   "execution_count": 37,
   "id": "13983ff2-8c35-454a-8d4d-e6d5c72f81bf",
   "metadata": {
    "tags": []
   },
   "outputs": [
    {
     "data": {
      "text/plain": [
       "array(['conspiracy', 'country', 'ineffective', 'ingredients', 'mandatory',\n",
       "       'none', 'pharma', 'political', 'religious', 'rushed',\n",
       "       'side-effect', 'unnecessary'], dtype=object)"
      ]
     },
     "execution_count": 37,
     "metadata": {},
     "output_type": "execute_result"
    }
   ],
   "source": [
    "mlb.classes_"
   ]
  },
  {
   "cell_type": "code",
   "execution_count": 38,
   "id": "f8427f39-95c5-409a-8d5f-41399ecab3ce",
   "metadata": {
    "tags": []
   },
   "outputs": [
    {
     "name": "stdout",
     "output_type": "stream",
     "text": [
      "              precision    recall  f1-score   support\n",
      "\n",
      "  conspiracy       0.28      0.77      0.41        91\n",
      "     country       0.26      0.92      0.40        39\n",
      " ineffective       0.43      0.86      0.58       342\n",
      " ingredients       0.42      0.76      0.54       114\n",
      "   mandatory       0.46      0.88      0.60       155\n",
      "        none       0.51      0.21      0.30       115\n",
      "      pharma       0.58      0.81      0.68       258\n",
      "   political       0.32      0.75      0.45       110\n",
      "   religious       0.38      0.85      0.52        13\n",
      "      rushed       0.51      0.91      0.65       298\n",
      " side-effect       0.76      0.86      0.81       764\n",
      " unnecessary       0.32      0.83      0.46       160\n",
      "\n",
      "   micro avg       0.49      0.82      0.61      2459\n",
      "   macro avg       0.43      0.78      0.53      2459\n",
      "weighted avg       0.54      0.82      0.63      2459\n",
      " samples avg       0.53      0.82      0.62      2459\n",
      "\n"
     ]
    },
    {
     "name": "stderr",
     "output_type": "stream",
     "text": [
      "/opt/conda/lib/python3.7/site-packages/sklearn/metrics/_classification.py:1272: UndefinedMetricWarning: Precision and F-score are ill-defined and being set to 0.0 in samples with no predicted labels. Use `zero_division` parameter to control this behavior.\n",
      "  _warn_prf(average, modifier, msg_start, len(result))\n"
     ]
    }
   ],
   "source": [
    "from sklearn.metrics import classification_report\n",
    "\n",
    "# Print classification report\n",
    "print(classification_report(y_true, y_pred, target_names=mlb.classes_))"
   ]
  },
  {
   "cell_type": "code",
   "execution_count": null,
   "id": "38730cbe-cd76-48f7-97b8-338d97a41e59",
   "metadata": {},
   "outputs": [],
   "source": []
  }
 ],
 "metadata": {
  "availableInstances": [
   {
    "_defaultOrder": 0,
    "_isFastLaunch": true,
    "category": "General purpose",
    "gpuNum": 0,
    "hideHardwareSpecs": false,
    "memoryGiB": 4,
    "name": "ml.t3.medium",
    "vcpuNum": 2
   },
   {
    "_defaultOrder": 1,
    "_isFastLaunch": false,
    "category": "General purpose",
    "gpuNum": 0,
    "hideHardwareSpecs": false,
    "memoryGiB": 8,
    "name": "ml.t3.large",
    "vcpuNum": 2
   },
   {
    "_defaultOrder": 2,
    "_isFastLaunch": false,
    "category": "General purpose",
    "gpuNum": 0,
    "hideHardwareSpecs": false,
    "memoryGiB": 16,
    "name": "ml.t3.xlarge",
    "vcpuNum": 4
   },
   {
    "_defaultOrder": 3,
    "_isFastLaunch": false,
    "category": "General purpose",
    "gpuNum": 0,
    "hideHardwareSpecs": false,
    "memoryGiB": 32,
    "name": "ml.t3.2xlarge",
    "vcpuNum": 8
   },
   {
    "_defaultOrder": 4,
    "_isFastLaunch": true,
    "category": "General purpose",
    "gpuNum": 0,
    "hideHardwareSpecs": false,
    "memoryGiB": 8,
    "name": "ml.m5.large",
    "vcpuNum": 2
   },
   {
    "_defaultOrder": 5,
    "_isFastLaunch": false,
    "category": "General purpose",
    "gpuNum": 0,
    "hideHardwareSpecs": false,
    "memoryGiB": 16,
    "name": "ml.m5.xlarge",
    "vcpuNum": 4
   },
   {
    "_defaultOrder": 6,
    "_isFastLaunch": false,
    "category": "General purpose",
    "gpuNum": 0,
    "hideHardwareSpecs": false,
    "memoryGiB": 32,
    "name": "ml.m5.2xlarge",
    "vcpuNum": 8
   },
   {
    "_defaultOrder": 7,
    "_isFastLaunch": false,
    "category": "General purpose",
    "gpuNum": 0,
    "hideHardwareSpecs": false,
    "memoryGiB": 64,
    "name": "ml.m5.4xlarge",
    "vcpuNum": 16
   },
   {
    "_defaultOrder": 8,
    "_isFastLaunch": false,
    "category": "General purpose",
    "gpuNum": 0,
    "hideHardwareSpecs": false,
    "memoryGiB": 128,
    "name": "ml.m5.8xlarge",
    "vcpuNum": 32
   },
   {
    "_defaultOrder": 9,
    "_isFastLaunch": false,
    "category": "General purpose",
    "gpuNum": 0,
    "hideHardwareSpecs": false,
    "memoryGiB": 192,
    "name": "ml.m5.12xlarge",
    "vcpuNum": 48
   },
   {
    "_defaultOrder": 10,
    "_isFastLaunch": false,
    "category": "General purpose",
    "gpuNum": 0,
    "hideHardwareSpecs": false,
    "memoryGiB": 256,
    "name": "ml.m5.16xlarge",
    "vcpuNum": 64
   },
   {
    "_defaultOrder": 11,
    "_isFastLaunch": false,
    "category": "General purpose",
    "gpuNum": 0,
    "hideHardwareSpecs": false,
    "memoryGiB": 384,
    "name": "ml.m5.24xlarge",
    "vcpuNum": 96
   },
   {
    "_defaultOrder": 12,
    "_isFastLaunch": false,
    "category": "General purpose",
    "gpuNum": 0,
    "hideHardwareSpecs": false,
    "memoryGiB": 8,
    "name": "ml.m5d.large",
    "vcpuNum": 2
   },
   {
    "_defaultOrder": 13,
    "_isFastLaunch": false,
    "category": "General purpose",
    "gpuNum": 0,
    "hideHardwareSpecs": false,
    "memoryGiB": 16,
    "name": "ml.m5d.xlarge",
    "vcpuNum": 4
   },
   {
    "_defaultOrder": 14,
    "_isFastLaunch": false,
    "category": "General purpose",
    "gpuNum": 0,
    "hideHardwareSpecs": false,
    "memoryGiB": 32,
    "name": "ml.m5d.2xlarge",
    "vcpuNum": 8
   },
   {
    "_defaultOrder": 15,
    "_isFastLaunch": false,
    "category": "General purpose",
    "gpuNum": 0,
    "hideHardwareSpecs": false,
    "memoryGiB": 64,
    "name": "ml.m5d.4xlarge",
    "vcpuNum": 16
   },
   {
    "_defaultOrder": 16,
    "_isFastLaunch": false,
    "category": "General purpose",
    "gpuNum": 0,
    "hideHardwareSpecs": false,
    "memoryGiB": 128,
    "name": "ml.m5d.8xlarge",
    "vcpuNum": 32
   },
   {
    "_defaultOrder": 17,
    "_isFastLaunch": false,
    "category": "General purpose",
    "gpuNum": 0,
    "hideHardwareSpecs": false,
    "memoryGiB": 192,
    "name": "ml.m5d.12xlarge",
    "vcpuNum": 48
   },
   {
    "_defaultOrder": 18,
    "_isFastLaunch": false,
    "category": "General purpose",
    "gpuNum": 0,
    "hideHardwareSpecs": false,
    "memoryGiB": 256,
    "name": "ml.m5d.16xlarge",
    "vcpuNum": 64
   },
   {
    "_defaultOrder": 19,
    "_isFastLaunch": false,
    "category": "General purpose",
    "gpuNum": 0,
    "hideHardwareSpecs": false,
    "memoryGiB": 384,
    "name": "ml.m5d.24xlarge",
    "vcpuNum": 96
   },
   {
    "_defaultOrder": 20,
    "_isFastLaunch": false,
    "category": "General purpose",
    "gpuNum": 0,
    "hideHardwareSpecs": true,
    "memoryGiB": 0,
    "name": "ml.geospatial.interactive",
    "supportedImageNames": [
     "sagemaker-geospatial-v1-0"
    ],
    "vcpuNum": 0
   },
   {
    "_defaultOrder": 21,
    "_isFastLaunch": true,
    "category": "Compute optimized",
    "gpuNum": 0,
    "hideHardwareSpecs": false,
    "memoryGiB": 4,
    "name": "ml.c5.large",
    "vcpuNum": 2
   },
   {
    "_defaultOrder": 22,
    "_isFastLaunch": false,
    "category": "Compute optimized",
    "gpuNum": 0,
    "hideHardwareSpecs": false,
    "memoryGiB": 8,
    "name": "ml.c5.xlarge",
    "vcpuNum": 4
   },
   {
    "_defaultOrder": 23,
    "_isFastLaunch": false,
    "category": "Compute optimized",
    "gpuNum": 0,
    "hideHardwareSpecs": false,
    "memoryGiB": 16,
    "name": "ml.c5.2xlarge",
    "vcpuNum": 8
   },
   {
    "_defaultOrder": 24,
    "_isFastLaunch": false,
    "category": "Compute optimized",
    "gpuNum": 0,
    "hideHardwareSpecs": false,
    "memoryGiB": 32,
    "name": "ml.c5.4xlarge",
    "vcpuNum": 16
   },
   {
    "_defaultOrder": 25,
    "_isFastLaunch": false,
    "category": "Compute optimized",
    "gpuNum": 0,
    "hideHardwareSpecs": false,
    "memoryGiB": 72,
    "name": "ml.c5.9xlarge",
    "vcpuNum": 36
   },
   {
    "_defaultOrder": 26,
    "_isFastLaunch": false,
    "category": "Compute optimized",
    "gpuNum": 0,
    "hideHardwareSpecs": false,
    "memoryGiB": 96,
    "name": "ml.c5.12xlarge",
    "vcpuNum": 48
   },
   {
    "_defaultOrder": 27,
    "_isFastLaunch": false,
    "category": "Compute optimized",
    "gpuNum": 0,
    "hideHardwareSpecs": false,
    "memoryGiB": 144,
    "name": "ml.c5.18xlarge",
    "vcpuNum": 72
   },
   {
    "_defaultOrder": 28,
    "_isFastLaunch": false,
    "category": "Compute optimized",
    "gpuNum": 0,
    "hideHardwareSpecs": false,
    "memoryGiB": 192,
    "name": "ml.c5.24xlarge",
    "vcpuNum": 96
   },
   {
    "_defaultOrder": 29,
    "_isFastLaunch": true,
    "category": "Accelerated computing",
    "gpuNum": 1,
    "hideHardwareSpecs": false,
    "memoryGiB": 16,
    "name": "ml.g4dn.xlarge",
    "vcpuNum": 4
   },
   {
    "_defaultOrder": 30,
    "_isFastLaunch": false,
    "category": "Accelerated computing",
    "gpuNum": 1,
    "hideHardwareSpecs": false,
    "memoryGiB": 32,
    "name": "ml.g4dn.2xlarge",
    "vcpuNum": 8
   },
   {
    "_defaultOrder": 31,
    "_isFastLaunch": false,
    "category": "Accelerated computing",
    "gpuNum": 1,
    "hideHardwareSpecs": false,
    "memoryGiB": 64,
    "name": "ml.g4dn.4xlarge",
    "vcpuNum": 16
   },
   {
    "_defaultOrder": 32,
    "_isFastLaunch": false,
    "category": "Accelerated computing",
    "gpuNum": 1,
    "hideHardwareSpecs": false,
    "memoryGiB": 128,
    "name": "ml.g4dn.8xlarge",
    "vcpuNum": 32
   },
   {
    "_defaultOrder": 33,
    "_isFastLaunch": false,
    "category": "Accelerated computing",
    "gpuNum": 4,
    "hideHardwareSpecs": false,
    "memoryGiB": 192,
    "name": "ml.g4dn.12xlarge",
    "vcpuNum": 48
   },
   {
    "_defaultOrder": 34,
    "_isFastLaunch": false,
    "category": "Accelerated computing",
    "gpuNum": 1,
    "hideHardwareSpecs": false,
    "memoryGiB": 256,
    "name": "ml.g4dn.16xlarge",
    "vcpuNum": 64
   },
   {
    "_defaultOrder": 35,
    "_isFastLaunch": false,
    "category": "Accelerated computing",
    "gpuNum": 1,
    "hideHardwareSpecs": false,
    "memoryGiB": 61,
    "name": "ml.p3.2xlarge",
    "vcpuNum": 8
   },
   {
    "_defaultOrder": 36,
    "_isFastLaunch": false,
    "category": "Accelerated computing",
    "gpuNum": 4,
    "hideHardwareSpecs": false,
    "memoryGiB": 244,
    "name": "ml.p3.8xlarge",
    "vcpuNum": 32
   },
   {
    "_defaultOrder": 37,
    "_isFastLaunch": false,
    "category": "Accelerated computing",
    "gpuNum": 8,
    "hideHardwareSpecs": false,
    "memoryGiB": 488,
    "name": "ml.p3.16xlarge",
    "vcpuNum": 64
   },
   {
    "_defaultOrder": 38,
    "_isFastLaunch": false,
    "category": "Accelerated computing",
    "gpuNum": 8,
    "hideHardwareSpecs": false,
    "memoryGiB": 768,
    "name": "ml.p3dn.24xlarge",
    "vcpuNum": 96
   },
   {
    "_defaultOrder": 39,
    "_isFastLaunch": false,
    "category": "Memory Optimized",
    "gpuNum": 0,
    "hideHardwareSpecs": false,
    "memoryGiB": 16,
    "name": "ml.r5.large",
    "vcpuNum": 2
   },
   {
    "_defaultOrder": 40,
    "_isFastLaunch": false,
    "category": "Memory Optimized",
    "gpuNum": 0,
    "hideHardwareSpecs": false,
    "memoryGiB": 32,
    "name": "ml.r5.xlarge",
    "vcpuNum": 4
   },
   {
    "_defaultOrder": 41,
    "_isFastLaunch": false,
    "category": "Memory Optimized",
    "gpuNum": 0,
    "hideHardwareSpecs": false,
    "memoryGiB": 64,
    "name": "ml.r5.2xlarge",
    "vcpuNum": 8
   },
   {
    "_defaultOrder": 42,
    "_isFastLaunch": false,
    "category": "Memory Optimized",
    "gpuNum": 0,
    "hideHardwareSpecs": false,
    "memoryGiB": 128,
    "name": "ml.r5.4xlarge",
    "vcpuNum": 16
   },
   {
    "_defaultOrder": 43,
    "_isFastLaunch": false,
    "category": "Memory Optimized",
    "gpuNum": 0,
    "hideHardwareSpecs": false,
    "memoryGiB": 256,
    "name": "ml.r5.8xlarge",
    "vcpuNum": 32
   },
   {
    "_defaultOrder": 44,
    "_isFastLaunch": false,
    "category": "Memory Optimized",
    "gpuNum": 0,
    "hideHardwareSpecs": false,
    "memoryGiB": 384,
    "name": "ml.r5.12xlarge",
    "vcpuNum": 48
   },
   {
    "_defaultOrder": 45,
    "_isFastLaunch": false,
    "category": "Memory Optimized",
    "gpuNum": 0,
    "hideHardwareSpecs": false,
    "memoryGiB": 512,
    "name": "ml.r5.16xlarge",
    "vcpuNum": 64
   },
   {
    "_defaultOrder": 46,
    "_isFastLaunch": false,
    "category": "Memory Optimized",
    "gpuNum": 0,
    "hideHardwareSpecs": false,
    "memoryGiB": 768,
    "name": "ml.r5.24xlarge",
    "vcpuNum": 96
   },
   {
    "_defaultOrder": 47,
    "_isFastLaunch": false,
    "category": "Accelerated computing",
    "gpuNum": 1,
    "hideHardwareSpecs": false,
    "memoryGiB": 16,
    "name": "ml.g5.xlarge",
    "vcpuNum": 4
   },
   {
    "_defaultOrder": 48,
    "_isFastLaunch": false,
    "category": "Accelerated computing",
    "gpuNum": 1,
    "hideHardwareSpecs": false,
    "memoryGiB": 32,
    "name": "ml.g5.2xlarge",
    "vcpuNum": 8
   },
   {
    "_defaultOrder": 49,
    "_isFastLaunch": false,
    "category": "Accelerated computing",
    "gpuNum": 1,
    "hideHardwareSpecs": false,
    "memoryGiB": 64,
    "name": "ml.g5.4xlarge",
    "vcpuNum": 16
   },
   {
    "_defaultOrder": 50,
    "_isFastLaunch": false,
    "category": "Accelerated computing",
    "gpuNum": 1,
    "hideHardwareSpecs": false,
    "memoryGiB": 128,
    "name": "ml.g5.8xlarge",
    "vcpuNum": 32
   },
   {
    "_defaultOrder": 51,
    "_isFastLaunch": false,
    "category": "Accelerated computing",
    "gpuNum": 1,
    "hideHardwareSpecs": false,
    "memoryGiB": 256,
    "name": "ml.g5.16xlarge",
    "vcpuNum": 64
   },
   {
    "_defaultOrder": 52,
    "_isFastLaunch": false,
    "category": "Accelerated computing",
    "gpuNum": 4,
    "hideHardwareSpecs": false,
    "memoryGiB": 192,
    "name": "ml.g5.12xlarge",
    "vcpuNum": 48
   },
   {
    "_defaultOrder": 53,
    "_isFastLaunch": false,
    "category": "Accelerated computing",
    "gpuNum": 4,
    "hideHardwareSpecs": false,
    "memoryGiB": 384,
    "name": "ml.g5.24xlarge",
    "vcpuNum": 96
   },
   {
    "_defaultOrder": 54,
    "_isFastLaunch": false,
    "category": "Accelerated computing",
    "gpuNum": 8,
    "hideHardwareSpecs": false,
    "memoryGiB": 768,
    "name": "ml.g5.48xlarge",
    "vcpuNum": 192
   },
   {
    "_defaultOrder": 55,
    "_isFastLaunch": false,
    "category": "Accelerated computing",
    "gpuNum": 8,
    "hideHardwareSpecs": false,
    "memoryGiB": 1152,
    "name": "ml.p4d.24xlarge",
    "vcpuNum": 96
   },
   {
    "_defaultOrder": 56,
    "_isFastLaunch": false,
    "category": "Accelerated computing",
    "gpuNum": 8,
    "hideHardwareSpecs": false,
    "memoryGiB": 1152,
    "name": "ml.p4de.24xlarge",
    "vcpuNum": 96
   }
  ],
  "instance_type": "ml.m5.xlarge",
  "kernelspec": {
   "display_name": "Python 3 (Data Science)",
   "language": "python",
   "name": "python3__SAGEMAKER_INTERNAL__arn:aws:sagemaker:us-east-1:081325390199:image/datascience-1.0"
  },
  "language_info": {
   "codemirror_mode": {
    "name": "ipython",
    "version": 3
   },
   "file_extension": ".py",
   "mimetype": "text/x-python",
   "name": "python",
   "nbconvert_exporter": "python",
   "pygments_lexer": "ipython3",
   "version": "3.7.10"
  }
 },
 "nbformat": 4,
 "nbformat_minor": 5
}
