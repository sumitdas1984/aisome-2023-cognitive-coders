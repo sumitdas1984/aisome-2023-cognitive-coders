{
 "cells": [
  {
   "cell_type": "code",
   "execution_count": 5,
   "id": "cbe15912-79be-4013-8a7c-efbedbda7a29",
   "metadata": {
    "tags": []
   },
   "outputs": [],
   "source": [
    "import pandas as pd\n",
    "import seaborn as sns\n",
    "import matplotlib.pyplot as plt\n",
    "import numpy as np"
   ]
  },
  {
   "cell_type": "code",
   "execution_count": 3,
   "id": "57beae11-dee6-4d97-bc8c-9cb537a66cdb",
   "metadata": {
    "tags": []
   },
   "outputs": [],
   "source": [
    "train = pd.read_csv('train_val.csv')"
   ]
  },
  {
   "cell_type": "markdown",
   "id": "6d3a745c-17e3-43fd-bc85-9e31d2624a58",
   "metadata": {},
   "source": [
    "# Data Overview"
   ]
  },
  {
   "cell_type": "code",
   "execution_count": 4,
   "id": "881517d8-a96f-4162-b123-4ba51fa66659",
   "metadata": {
    "tags": []
   },
   "outputs": [
    {
     "data": {
      "text/html": [
       "<div>\n",
       "<style scoped>\n",
       "    .dataframe tbody tr th:only-of-type {\n",
       "        vertical-align: middle;\n",
       "    }\n",
       "\n",
       "    .dataframe tbody tr th {\n",
       "        vertical-align: top;\n",
       "    }\n",
       "\n",
       "    .dataframe thead th {\n",
       "        text-align: right;\n",
       "    }\n",
       "</style>\n",
       "<table border=\"1\" class=\"dataframe\">\n",
       "  <thead>\n",
       "    <tr style=\"text-align: right;\">\n",
       "      <th></th>\n",
       "      <th>ID</th>\n",
       "      <th>tweet</th>\n",
       "      <th>labels</th>\n",
       "    </tr>\n",
       "  </thead>\n",
       "  <tbody>\n",
       "    <tr>\n",
       "      <th>0</th>\n",
       "      <td>1296010336907038720t</td>\n",
       "      <td>@cath__kath AstraZeneca is made with the kidne...</td>\n",
       "      <td>ingredients</td>\n",
       "    </tr>\n",
       "    <tr>\n",
       "      <th>1</th>\n",
       "      <td>1336808189677940736t</td>\n",
       "      <td>It begins. Please find safe alternatives to th...</td>\n",
       "      <td>side-effect</td>\n",
       "    </tr>\n",
       "    <tr>\n",
       "      <th>2</th>\n",
       "      <td>1329488407307956231t</td>\n",
       "      <td>@PaolaQP1231 Well, I mean congratulations Covi...</td>\n",
       "      <td>side-effect</td>\n",
       "    </tr>\n",
       "    <tr>\n",
       "      <th>3</th>\n",
       "      <td>1364194604459900934t</td>\n",
       "      <td>@BorisJohnson for those of us that do not wish...</td>\n",
       "      <td>mandatory</td>\n",
       "    </tr>\n",
       "    <tr>\n",
       "      <th>4</th>\n",
       "      <td>1375938799247765515t</td>\n",
       "      <td>She has been trying to speak out: writing lett...</td>\n",
       "      <td>side-effect rushed</td>\n",
       "    </tr>\n",
       "  </tbody>\n",
       "</table>\n",
       "</div>"
      ],
      "text/plain": [
       "                     ID                                              tweet  \\\n",
       "0  1296010336907038720t  @cath__kath AstraZeneca is made with the kidne...   \n",
       "1  1336808189677940736t  It begins. Please find safe alternatives to th...   \n",
       "2  1329488407307956231t  @PaolaQP1231 Well, I mean congratulations Covi...   \n",
       "3  1364194604459900934t  @BorisJohnson for those of us that do not wish...   \n",
       "4  1375938799247765515t  She has been trying to speak out: writing lett...   \n",
       "\n",
       "               labels  \n",
       "0         ingredients  \n",
       "1         side-effect  \n",
       "2         side-effect  \n",
       "3           mandatory  \n",
       "4  side-effect rushed  "
      ]
     },
     "execution_count": 4,
     "metadata": {},
     "output_type": "execute_result"
    }
   ],
   "source": [
    "train.head()"
   ]
  },
  {
   "cell_type": "code",
   "execution_count": 5,
   "id": "954ea236-45ec-42ba-9189-9ecc5f74b0ed",
   "metadata": {
    "tags": []
   },
   "outputs": [
    {
     "data": {
      "text/plain": [
       "(9921, 3)"
      ]
     },
     "execution_count": 5,
     "metadata": {},
     "output_type": "execute_result"
    }
   ],
   "source": [
    "train.shape"
   ]
  },
  {
   "cell_type": "code",
   "execution_count": 6,
   "id": "a6815bca-db2d-456b-8019-8b26cb6ee03f",
   "metadata": {
    "tags": []
   },
   "outputs": [],
   "source": [
    "#train.labels.nunique()"
   ]
  },
  {
   "cell_type": "code",
   "execution_count": 7,
   "id": "9e68c8c8-70e5-4914-9259-1a236c98b2cd",
   "metadata": {
    "tags": []
   },
   "outputs": [],
   "source": [
    "#train.groupby(['labels'])['ID'].count().sort_values(ascending= False)"
   ]
  },
  {
   "cell_type": "code",
   "execution_count": 8,
   "id": "895fdf39-b18e-4427-9724-3de119a00e1c",
   "metadata": {
    "tags": []
   },
   "outputs": [],
   "source": [
    "#train.groupby(['labels'])['ID'].count().sort_values(ascending= False)[0:11]"
   ]
  },
  {
   "cell_type": "code",
   "execution_count": 9,
   "id": "2e08407a-b6f6-483b-a61d-d8a7b5df86d0",
   "metadata": {
    "tags": []
   },
   "outputs": [
    {
     "data": {
      "text/plain": [
       "ID        0\n",
       "tweet     0\n",
       "labels    0\n",
       "dtype: int64"
      ]
     },
     "execution_count": 9,
     "metadata": {},
     "output_type": "execute_result"
    }
   ],
   "source": [
    "train.isna().sum()"
   ]
  },
  {
   "cell_type": "markdown",
   "id": "ca57a847-b74b-44b2-b102-a079df4ebcf8",
   "metadata": {},
   "source": [
    "# Label Distribution"
   ]
  },
  {
   "cell_type": "code",
   "execution_count": 10,
   "id": "0e564c3f-8899-40a4-87f4-79a094521ddf",
   "metadata": {
    "tags": []
   },
   "outputs": [],
   "source": [
    "# Define a function to split the words\n",
    "def split_words(row):\n",
    "    return row.split(' ')"
   ]
  },
  {
   "cell_type": "code",
   "execution_count": 11,
   "id": "756a3014-86d9-4135-b352-52dcf9747c7d",
   "metadata": {
    "tags": []
   },
   "outputs": [],
   "source": [
    "train['label_list'] = train['labels'].apply(split_words)"
   ]
  },
  {
   "cell_type": "code",
   "execution_count": 12,
   "id": "d753e901-2c32-40d6-9a4e-a720e737a2f6",
   "metadata": {
    "tags": []
   },
   "outputs": [
    {
     "data": {
      "text/html": [
       "<div>\n",
       "<style scoped>\n",
       "    .dataframe tbody tr th:only-of-type {\n",
       "        vertical-align: middle;\n",
       "    }\n",
       "\n",
       "    .dataframe tbody tr th {\n",
       "        vertical-align: top;\n",
       "    }\n",
       "\n",
       "    .dataframe thead th {\n",
       "        text-align: right;\n",
       "    }\n",
       "</style>\n",
       "<table border=\"1\" class=\"dataframe\">\n",
       "  <thead>\n",
       "    <tr style=\"text-align: right;\">\n",
       "      <th></th>\n",
       "      <th>ID</th>\n",
       "      <th>tweet</th>\n",
       "      <th>labels</th>\n",
       "      <th>label_list</th>\n",
       "    </tr>\n",
       "  </thead>\n",
       "  <tbody>\n",
       "    <tr>\n",
       "      <th>0</th>\n",
       "      <td>1296010336907038720t</td>\n",
       "      <td>@cath__kath AstraZeneca is made with the kidne...</td>\n",
       "      <td>ingredients</td>\n",
       "      <td>[ingredients]</td>\n",
       "    </tr>\n",
       "    <tr>\n",
       "      <th>1</th>\n",
       "      <td>1336808189677940736t</td>\n",
       "      <td>It begins. Please find safe alternatives to th...</td>\n",
       "      <td>side-effect</td>\n",
       "      <td>[side-effect]</td>\n",
       "    </tr>\n",
       "    <tr>\n",
       "      <th>2</th>\n",
       "      <td>1329488407307956231t</td>\n",
       "      <td>@PaolaQP1231 Well, I mean congratulations Covi...</td>\n",
       "      <td>side-effect</td>\n",
       "      <td>[side-effect]</td>\n",
       "    </tr>\n",
       "    <tr>\n",
       "      <th>3</th>\n",
       "      <td>1364194604459900934t</td>\n",
       "      <td>@BorisJohnson for those of us that do not wish...</td>\n",
       "      <td>mandatory</td>\n",
       "      <td>[mandatory]</td>\n",
       "    </tr>\n",
       "    <tr>\n",
       "      <th>4</th>\n",
       "      <td>1375938799247765515t</td>\n",
       "      <td>She has been trying to speak out: writing lett...</td>\n",
       "      <td>side-effect rushed</td>\n",
       "      <td>[side-effect, rushed]</td>\n",
       "    </tr>\n",
       "  </tbody>\n",
       "</table>\n",
       "</div>"
      ],
      "text/plain": [
       "                     ID                                              tweet  \\\n",
       "0  1296010336907038720t  @cath__kath AstraZeneca is made with the kidne...   \n",
       "1  1336808189677940736t  It begins. Please find safe alternatives to th...   \n",
       "2  1329488407307956231t  @PaolaQP1231 Well, I mean congratulations Covi...   \n",
       "3  1364194604459900934t  @BorisJohnson for those of us that do not wish...   \n",
       "4  1375938799247765515t  She has been trying to speak out: writing lett...   \n",
       "\n",
       "               labels             label_list  \n",
       "0         ingredients          [ingredients]  \n",
       "1         side-effect          [side-effect]  \n",
       "2         side-effect          [side-effect]  \n",
       "3           mandatory            [mandatory]  \n",
       "4  side-effect rushed  [side-effect, rushed]  "
      ]
     },
     "execution_count": 12,
     "metadata": {},
     "output_type": "execute_result"
    }
   ],
   "source": [
    "train.head()"
   ]
  },
  {
   "cell_type": "code",
   "execution_count": 13,
   "id": "ea2e43cf-25e0-4c0d-a014-1fdfd154dd25",
   "metadata": {
    "tags": []
   },
   "outputs": [
    {
     "data": {
      "text/plain": [
       "label_list\n",
       "side-effect    3805\n",
       "ineffective    1672\n",
       "rushed         1477\n",
       "pharma         1273\n",
       "mandatory       783\n",
       "unnecessary     722\n",
       "none            629\n",
       "political       626\n",
       "conspiracy      487\n",
       "ingredients     436\n",
       "country         201\n",
       "religious        64\n",
       "Name: ID, dtype: int64"
      ]
     },
     "execution_count": 13,
     "metadata": {},
     "output_type": "execute_result"
    }
   ],
   "source": [
    "train.explode(['label_list']).groupby(['label_list'])['ID'].count().sort_values(ascending= False)"
   ]
  },
  {
   "cell_type": "code",
   "execution_count": 14,
   "id": "f0ed55b6-0a2b-4e63-8e24-551ee265ed31",
   "metadata": {
    "tags": []
   },
   "outputs": [],
   "source": [
    "train['label_len'] = train['label_list'].apply(len)"
   ]
  },
  {
   "cell_type": "code",
   "execution_count": 15,
   "id": "0a07cb9c",
   "metadata": {
    "tags": []
   },
   "outputs": [
    {
     "data": {
      "text/plain": [
       "1    7936\n",
       "2    1716\n",
       "3     269\n",
       "Name: label_len, dtype: int64"
      ]
     },
     "execution_count": 15,
     "metadata": {},
     "output_type": "execute_result"
    }
   ],
   "source": [
    "train['label_len'].value_counts()"
   ]
  },
  {
   "cell_type": "code",
   "execution_count": 16,
   "id": "2b0f38dd-6c3e-4556-96c3-d6ab1e5b4254",
   "metadata": {
    "tags": []
   },
   "outputs": [
    {
     "data": {
      "image/png": "[encoded data removed]",
      "text/plain": [
       "<Figure size 640x480 with 1 Axes>"
      ]
     },
     "metadata": {},
     "output_type": "display_data"
    }
   ],
   "source": [
    "# sns.countplot(train['label_len'])\n",
    "sns.countplot(data=train, x='label_len')\n",
    "plt.show()"
   ]
  },
  {
   "cell_type": "code",
   "execution_count": null,
   "id": "d4bed45f-3e59-4362-8186-467ce406211c",
   "metadata": {},
   "outputs": [],
   "source": []
  },
  {
   "cell_type": "code",
   "execution_count": 17,
   "id": "a30f4114-ec39-4bb9-879f-798f1b927163",
   "metadata": {
    "tags": []
   },
   "outputs": [
    {
     "name": "stdout",
     "output_type": "stream",
     "text": [
      "------------\n",
      "@NBCNews Imagine taking the vaccine and thinking that you are immune, next thing you know but you got covid-19 and taking an anal test\n",
      "------------\n",
      "SHOCKING: Man’s Skin Burns, Swells, Then Peels Off In Severe Reaction To Johnson & Johnson Covid Vaccine - The True Reporter https://t.co/TJ1dfwakxW\n",
      "------------\n",
      "So the vaccine it's either making is sick, giving us COVID, or plain and simply killing us... And NOW THIS! FDA recalls more hand sanitizers over potentially dangerous chemicals https://t.co/WHsIXCaYyT #FoxBusiness\n",
      "------------\n",
      "@SecAzar @US_FDA We don’t blame Trump, we blame you!!!! You have no back bone! All you care about is how much income you and your buddies will get from the vaccine!!\n",
      "------------\n",
      "@impressionist81 ➡️➡️➡️ 1) In this paper the Pfizer COVID-19 vaccine was evaluated for the potential to induce prion-based disease in vaccine recipients. The RNA sequence of the vaccine as well as the spike protein target interaction were analyzed for the potential to convert intracellular\n",
      "------------\n",
      "@GovofCO The Covid-19 vaccine has a higher hospitalization rate than the Covid-19 virus itself. https://t.co/FcolNHmhsy\n",
      "------------\n",
      "@Ben__Rickert 1994 Mexico, Philippines, Nicaragua: Suspicious of tetanus campaign because they excluded males, injections of vaccine in women of reproductive age. Tetanus vaccines found to be laced with anti-fertility hCG. UN Poulation Fund and Rockefeller Foundation. https://t.co/fXDAfsBUvd\n",
      "------------\n",
      "Sean Hannity touting fast tracked vaccine for Corona like its a good thing\n",
      "------------\n",
      "@JoshBloomACSH How can they come up with a vaccine for a ”complex novel virus” in such a prompt manner and NOt come up with a better solution for chronic pain, MS, RSD, Nerve Damage ETc.! ETc........‼️‼️‼️ I might trust Pfizer but, I'm not rushing into ANY vaccine ~ just Say’n\n",
      "------------\n",
      "@callout68 @BNODesk Try this take: big pharma is covering their asses and claiming he took a placebo to keep making money off a bad vaccine\n"
     ]
    }
   ],
   "source": [
    "# Select 10 random rows\n",
    "random_rows = train['tweet'].sample(n=10)\n",
    "\n",
    "for row in random_rows:\n",
    "    print('------------')\n",
    "    print(row)"
   ]
  },
  {
   "cell_type": "markdown",
   "id": "24989be8-d92e-4f99-99a4-2e79abcf4eba",
   "metadata": {},
   "source": [
    "# Tweet Length"
   ]
  },
  {
   "cell_type": "code",
   "execution_count": 18,
   "id": "2cee7d59-9f60-4ebc-880f-72164db45fe6",
   "metadata": {
    "tags": []
   },
   "outputs": [],
   "source": [
    "train['tweet_len'] = train['tweet'].apply(lambda x: len(x.split()))"
   ]
  },
  {
   "cell_type": "code",
   "execution_count": 19,
   "id": "e3139ecb-1fbc-4c8a-8a0f-c8134e6a4b8a",
   "metadata": {
    "tags": []
   },
   "outputs": [
    {
     "data": {
      "text/html": [
       "<div>\n",
       "<style scoped>\n",
       "    .dataframe tbody tr th:only-of-type {\n",
       "        vertical-align: middle;\n",
       "    }\n",
       "\n",
       "    .dataframe tbody tr th {\n",
       "        vertical-align: top;\n",
       "    }\n",
       "\n",
       "    .dataframe thead th {\n",
       "        text-align: right;\n",
       "    }\n",
       "</style>\n",
       "<table border=\"1\" class=\"dataframe\">\n",
       "  <thead>\n",
       "    <tr style=\"text-align: right;\">\n",
       "      <th></th>\n",
       "      <th>ID</th>\n",
       "      <th>tweet</th>\n",
       "      <th>labels</th>\n",
       "      <th>label_list</th>\n",
       "      <th>label_len</th>\n",
       "      <th>tweet_len</th>\n",
       "    </tr>\n",
       "  </thead>\n",
       "  <tbody>\n",
       "    <tr>\n",
       "      <th>0</th>\n",
       "      <td>1296010336907038720t</td>\n",
       "      <td>@cath__kath AstraZeneca is made with the kidne...</td>\n",
       "      <td>ingredients</td>\n",
       "      <td>[ingredients]</td>\n",
       "      <td>1</td>\n",
       "      <td>17</td>\n",
       "    </tr>\n",
       "    <tr>\n",
       "      <th>1</th>\n",
       "      <td>1336808189677940736t</td>\n",
       "      <td>It begins. Please find safe alternatives to th...</td>\n",
       "      <td>side-effect</td>\n",
       "      <td>[side-effect]</td>\n",
       "      <td>1</td>\n",
       "      <td>24</td>\n",
       "    </tr>\n",
       "    <tr>\n",
       "      <th>2</th>\n",
       "      <td>1329488407307956231t</td>\n",
       "      <td>@PaolaQP1231 Well, I mean congratulations Covi...</td>\n",
       "      <td>side-effect</td>\n",
       "      <td>[side-effect]</td>\n",
       "      <td>1</td>\n",
       "      <td>49</td>\n",
       "    </tr>\n",
       "    <tr>\n",
       "      <th>3</th>\n",
       "      <td>1364194604459900934t</td>\n",
       "      <td>@BorisJohnson for those of us that do not wish...</td>\n",
       "      <td>mandatory</td>\n",
       "      <td>[mandatory]</td>\n",
       "      <td>1</td>\n",
       "      <td>55</td>\n",
       "    </tr>\n",
       "    <tr>\n",
       "      <th>4</th>\n",
       "      <td>1375938799247765515t</td>\n",
       "      <td>She has been trying to speak out: writing lett...</td>\n",
       "      <td>side-effect rushed</td>\n",
       "      <td>[side-effect, rushed]</td>\n",
       "      <td>2</td>\n",
       "      <td>42</td>\n",
       "    </tr>\n",
       "  </tbody>\n",
       "</table>\n",
       "</div>"
      ],
      "text/plain": [
       "                     ID                                              tweet  \\\n",
       "0  1296010336907038720t  @cath__kath AstraZeneca is made with the kidne...   \n",
       "1  1336808189677940736t  It begins. Please find safe alternatives to th...   \n",
       "2  1329488407307956231t  @PaolaQP1231 Well, I mean congratulations Covi...   \n",
       "3  1364194604459900934t  @BorisJohnson for those of us that do not wish...   \n",
       "4  1375938799247765515t  She has been trying to speak out: writing lett...   \n",
       "\n",
       "               labels             label_list  label_len  tweet_len  \n",
       "0         ingredients          [ingredients]          1         17  \n",
       "1         side-effect          [side-effect]          1         24  \n",
       "2         side-effect          [side-effect]          1         49  \n",
       "3           mandatory            [mandatory]          1         55  \n",
       "4  side-effect rushed  [side-effect, rushed]          2         42  "
      ]
     },
     "execution_count": 19,
     "metadata": {},
     "output_type": "execute_result"
    }
   ],
   "source": [
    "train.head()"
   ]
  },
  {
   "cell_type": "code",
   "execution_count": 20,
   "id": "c4ca9062-b4eb-4408-afcc-f83c72f9295d",
   "metadata": {
    "tags": []
   },
   "outputs": [
    {
     "data": {
      "image/png": "[encoded data removed]",
      "text/plain": [
       "<Figure size 640x480 with 1 Axes>"
      ]
     },
     "metadata": {},
     "output_type": "display_data"
    }
   ],
   "source": [
    "sns.distplot(train['tweet_len'])\n",
    "plt.show()"
   ]
  },
  {
   "cell_type": "markdown",
   "id": "e77b3dad-6e5c-47f3-a7bb-9d9d9857a96b",
   "metadata": {},
   "source": [
    "## Are longer tweets associated with certain labels more than others?"
   ]
  },
  {
   "cell_type": "code",
   "execution_count": 21,
   "id": "950d44a5-d6ae-4177-b65b-5cf66c266c2e",
   "metadata": {
    "tags": []
   },
   "outputs": [
    {
     "data": {
      "text/plain": [
       "label_list\n",
       "unnecessary    38.738227\n",
       "political      38.599042\n",
       "rushed         38.111036\n",
       "conspiracy     37.882957\n",
       "ineffective    37.519737\n",
       "pharma         36.656716\n",
       "mandatory      35.975734\n",
       "ingredients    35.243119\n",
       "side-effect    34.258344\n",
       "religious      33.031250\n",
       "country        31.129353\n",
       "none           25.817170\n",
       "Name: tweet_len, dtype: float64"
      ]
     },
     "execution_count": 21,
     "metadata": {},
     "output_type": "execute_result"
    }
   ],
   "source": [
    "train.explode(['label_list']).groupby(['label_list'])['tweet_len'].mean().sort_values(ascending = False)"
   ]
  },
  {
   "cell_type": "code",
   "execution_count": null,
   "id": "818ec11c-bb4e-45f9-bac1-117ed9112162",
   "metadata": {},
   "outputs": [],
   "source": []
  },
  {
   "cell_type": "markdown",
   "id": "0b1bc92b-c6e7-4ce1-8bfd-686cb59a6b57",
   "metadata": {},
   "source": [
    "# Word Frequency Analysis"
   ]
  },
  {
   "cell_type": "code",
   "execution_count": 22,
   "id": "5711a8a7-b764-4db1-9613-f32eeb2484de",
   "metadata": {
    "tags": []
   },
   "outputs": [],
   "source": [
    "from nltk.tokenize import word_tokenize\n",
    "from nltk.corpus import stopwords\n",
    "from collections import Counter"
   ]
  },
  {
   "cell_type": "code",
   "execution_count": 23,
   "id": "54d45c2b-c29f-44f1-b0f2-e0c2d4126d63",
   "metadata": {
    "tags": []
   },
   "outputs": [
    {
     "name": "stderr",
     "output_type": "stream",
     "text": [
      "[nltk_data] Downloading package stopwords to /root/nltk_data...\n",
      "[nltk_data]   Package stopwords is already up-to-date!\n"
     ]
    },
    {
     "data": {
      "text/plain": [
       "True"
      ]
     },
     "execution_count": 23,
     "metadata": {},
     "output_type": "execute_result"
    }
   ],
   "source": [
    "import nltk\n",
    "nltk.download('stopwords')"
   ]
  },
  {
   "cell_type": "code",
   "execution_count": 24,
   "id": "bd2b9640-3610-4b29-968e-619c98340aa2",
   "metadata": {
    "tags": []
   },
   "outputs": [],
   "source": [
    "import re"
   ]
  },
  {
   "cell_type": "code",
   "execution_count": 25,
   "id": "484cfb1a-0465-4afe-aa52-8435572e57ed",
   "metadata": {
    "tags": []
   },
   "outputs": [],
   "source": [
    "# Remove unwanted characters\n",
    "train['clean_tweets'] = train['tweet'].apply(lambda x: re.sub(r'[^\\w\\s]', '', x))  # remove punctuation\n",
    "train['clean_tweets'] = train['clean_tweets'].apply(lambda x: re.sub(r'@\\w+', '', x))  # remove handles\n",
    "train['clean_tweets'] = train['clean_tweets'].apply(lambda x: re.sub(r'#\\w+', '', x))  # remove hashtags\n",
    "train['clean_tweets'] = train['clean_tweets'].apply(lambda x: re.sub(r'&\\w+', '', x))  # remove words starting with &"
   ]
  },
  {
   "cell_type": "code",
   "execution_count": 26,
   "id": "312eeff9-86ed-4b9f-ae3d-c17c28100456",
   "metadata": {
    "tags": []
   },
   "outputs": [],
   "source": [
    "# Convert to lowercase\n",
    "train['clean_tweets'] = train['clean_tweets'].str.lower()\n",
    "\n",
    "# Tokenize the tweets\n",
    "train['tokens'] = train['clean_tweets'].apply(word_tokenize)"
   ]
  },
  {
   "cell_type": "code",
   "execution_count": 27,
   "id": "6cef6d55-3e89-42fe-b55e-d22eb39cf2c5",
   "metadata": {
    "tags": []
   },
   "outputs": [],
   "source": [
    "# You might want to remove stopwords (common words like 'the', 'is', etc. that often don't carry much meaning)\n",
    "stop_words = set(stopwords.words('english'))\n",
    "\n",
    "train['tokens'] = train['tokens'].apply(lambda tokens: [token for token in tokens if token not in stop_words])"
   ]
  },
  {
   "cell_type": "code",
   "execution_count": 28,
   "id": "a84f485e-0648-40c7-887f-f8e299782336",
   "metadata": {
    "tags": []
   },
   "outputs": [],
   "source": [
    "# Group by label, and within each group, concatenate all the token lists together, then count the occurrences of each word\n",
    "common_words = train.explode(['label_list']).groupby('label_list')['tokens'].sum().apply(lambda tokens: Counter(tokens).most_common(20))\n",
    "\n",
    "#print(common_words)"
   ]
  },
  {
   "cell_type": "code",
   "execution_count": 29,
   "id": "6111afd5-b356-4879-8b5c-d5b7fad7199c",
   "metadata": {
    "tags": []
   },
   "outputs": [
    {
     "name": "stdout",
     "output_type": "stream",
     "text": [
      "------------\n",
      "Label: conspiracy\n",
      "   vaccine: 423\n",
      "   covid: 165\n",
      "   gates: 112\n",
      "   people: 103\n",
      "   vaccines: 84\n",
      "   covid19: 83\n",
      "   virus: 73\n",
      "   pfizer: 71\n",
      "   world: 68\n",
      "   get: 67\n",
      "   bill: 65\n",
      "   moderna: 62\n",
      "   us: 55\n",
      "   take: 53\n",
      "   corona: 46\n",
      "   one: 45\n",
      "   dont: 45\n",
      "   population: 44\n",
      "   dna: 44\n",
      "   like: 43\n",
      "------------\n",
      "Label: country\n",
      "   vaccine: 248\n",
      "   russian: 88\n",
      "   chinese: 52\n",
      "   take: 38\n",
      "   covid: 31\n",
      "   covid19: 27\n",
      "   dont: 27\n",
      "   us: 24\n",
      "   china: 24\n",
      "   would: 23\n",
      "   like: 23\n",
      "   get: 22\n",
      "   vaccines: 22\n",
      "   im: 21\n",
      "   trust: 19\n",
      "   even: 19\n",
      "   russia: 19\n",
      "   one: 18\n",
      "   people: 17\n",
      "   taking: 17\n",
      "------------\n",
      "Label: ineffective\n",
      "   vaccine: 1863\n",
      "   covid: 559\n",
      "   pfizer: 383\n",
      "   vaccines: 315\n",
      "   people: 303\n",
      "   get: 288\n",
      "   effective: 282\n",
      "   virus: 280\n",
      "   vaccinated: 222\n",
      "   still: 213\n",
      "   dont: 211\n",
      "   covid19: 208\n",
      "   flu: 187\n",
      "   even: 179\n",
      "   efficacy: 179\n",
      "   one: 176\n",
      "   doesnt: 164\n",
      "   getting: 157\n",
      "   work: 153\n",
      "   know: 148\n",
      "------------\n",
      "Label: ingredients\n",
      "   vaccine: 447\n",
      "   vaccines: 99\n",
      "   covid: 89\n",
      "   pfizer: 82\n",
      "   covid19: 73\n",
      "   cells: 63\n",
      "   take: 61\n",
      "   virus: 60\n",
      "   aborted: 57\n",
      "   moderna: 54\n",
      "   know: 50\n",
      "   get: 50\n",
      "   people: 49\n",
      "   mrna: 45\n",
      "   dont: 44\n",
      "   us: 42\n",
      "   dna: 40\n",
      "   ingredients: 40\n",
      "   human: 39\n",
      "   one: 39\n",
      "------------\n",
      "Label: mandatory\n",
      "   vaccine: 731\n",
      "   people: 217\n",
      "   covid: 215\n",
      "   get: 143\n",
      "   vaccines: 137\n",
      "   take: 127\n",
      "   mandatory: 123\n",
      "   dont: 115\n",
      "   us: 88\n",
      "   force: 88\n",
      "   pfizer: 83\n",
      "   vaccinated: 83\n",
      "   forced: 80\n",
      "   covid19: 79\n",
      "   want: 77\n",
      "   vaccination: 73\n",
      "   passports: 73\n",
      "   passport: 67\n",
      "   im: 64\n",
      "   going: 61\n",
      "------------\n",
      "Label: none\n",
      "   vaccine: 547\n",
      "   covid: 176\n",
      "   get: 132\n",
      "   dont: 111\n",
      "   take: 98\n",
      "   im: 86\n",
      "   pfizer: 76\n",
      "   people: 68\n",
      "   vaccinated: 57\n",
      "   like: 56\n",
      "   covid19: 55\n",
      "   one: 54\n",
      "   getting: 52\n",
      "   vaccines: 51\n",
      "   flu: 51\n",
      "   taking: 50\n",
      "   know: 49\n",
      "   would: 44\n",
      "   never: 44\n",
      "   want: 40\n",
      "------------\n",
      "Label: pharma\n",
      "   vaccine: 1144\n",
      "   pfizer: 488\n",
      "   covid: 241\n",
      "   vaccines: 225\n",
      "   gates: 214\n",
      "   people: 199\n",
      "   pharma: 168\n",
      "   moderna: 163\n",
      "   covid19: 154\n",
      "   big: 154\n",
      "   money: 143\n",
      "   dont: 140\n",
      "   bill: 134\n",
      "   get: 133\n",
      "   make: 126\n",
      "   johnson: 123\n",
      "   take: 112\n",
      "   company: 108\n",
      "   us: 107\n",
      "   virus: 105\n",
      "------------\n",
      "Label: political\n",
      "   vaccine: 621\n",
      "   pfizer: 152\n",
      "   covid: 152\n",
      "   people: 105\n",
      "   trump: 104\n",
      "   government: 92\n",
      "   take: 90\n",
      "   us: 85\n",
      "   dont: 80\n",
      "   get: 79\n",
      "   covid19: 78\n",
      "   vaccines: 78\n",
      "   like: 61\n",
      "   trust: 57\n",
      "   would: 53\n",
      "   want: 49\n",
      "   know: 48\n",
      "   one: 44\n",
      "   im: 43\n",
      "   borisjohnson: 43\n",
      "------------\n",
      "Label: religious\n",
      "   vaccine: 69\n",
      "   johnson: 30\n",
      "   catholic: 18\n",
      "   covid19: 13\n",
      "   covid: 11\n",
      "   people: 10\n",
      "   aborted: 10\n",
      "   god: 9\n",
      "   catholics: 9\n",
      "   religious: 8\n",
      "   new: 8\n",
      "   morally: 8\n",
      "   leaders: 7\n",
      "   vaccines: 7\n",
      "   get: 7\n",
      "   mark: 7\n",
      "   using: 6\n",
      "   cells: 6\n",
      "   say: 6\n",
      "   one: 6\n",
      "------------\n",
      "Label: rushed\n",
      "   vaccine: 1662\n",
      "   covid: 375\n",
      "   pfizer: 373\n",
      "   vaccines: 258\n",
      "   people: 246\n",
      "   take: 223\n",
      "   covid19: 191\n",
      "   rushed: 187\n",
      "   dont: 185\n",
      "   trials: 182\n",
      "   get: 176\n",
      "   tested: 171\n",
      "   one: 168\n",
      "   experimental: 162\n",
      "   trial: 146\n",
      "   years: 145\n",
      "   im: 143\n",
      "   data: 138\n",
      "   know: 137\n",
      "   effects: 135\n",
      "------------\n",
      "Label: side-effect\n",
      "   vaccine: 3778\n",
      "   pfizer: 1101\n",
      "   covid: 1091\n",
      "   people: 813\n",
      "   covid19: 668\n",
      "   vaccines: 552\n",
      "   effects: 482\n",
      "   side: 437\n",
      "   astrazeneca: 418\n",
      "   get: 354\n",
      "   died: 344\n",
      "   one: 334\n",
      "   dont: 315\n",
      "   deaths: 312\n",
      "   johnson: 304\n",
      "   moderna: 292\n",
      "   know: 292\n",
      "   blood: 288\n",
      "   take: 276\n",
      "   death: 265\n",
      "------------\n",
      "Label: unnecessary\n",
      "   vaccine: 751\n",
      "   covid: 348\n",
      "   need: 204\n",
      "   people: 200\n",
      "   dont: 166\n",
      "   get: 146\n",
      "   virus: 145\n",
      "   take: 124\n",
      "   risk: 117\n",
      "   covid19: 114\n",
      "   flu: 113\n",
      "   rate: 96\n",
      "   immunity: 94\n",
      "   pfizer: 93\n",
      "   vaccines: 81\n",
      "   would: 81\n",
      "   healthy: 75\n",
      "   im: 74\n",
      "   one: 62\n",
      "   already: 61\n"
     ]
    }
   ],
   "source": [
    "for label, words in common_words.items():\n",
    "    print('------------')\n",
    "    print(f\"Label: {label}\")\n",
    "    for word, count in words:\n",
    "        print(f\"   {word}: {count}\")"
   ]
  },
  {
   "cell_type": "code",
   "execution_count": null,
   "id": "c663fe9c-99da-42c1-8fb3-9e24ed0b29d9",
   "metadata": {},
   "outputs": [],
   "source": []
  },
  {
   "cell_type": "markdown",
   "id": "c5cedc34-f39b-4d68-9aaf-80acd867b71d",
   "metadata": {},
   "source": [
    "# Co-occurance of Labels"
   ]
  },
  {
   "cell_type": "code",
   "execution_count": 30,
   "id": "2b2df5e0-1cde-4af8-996e-e977c3ad4ca7",
   "metadata": {
    "tags": []
   },
   "outputs": [],
   "source": [
    "from sklearn.preprocessing import MultiLabelBinarizer"
   ]
  },
  {
   "cell_type": "code",
   "execution_count": 31,
   "id": "d4d4d102-d715-4c9b-bc23-c0e96bad47ce",
   "metadata": {
    "tags": []
   },
   "outputs": [],
   "source": [
    "# Convert lists of labels into a binary matrix\n",
    "mlb = MultiLabelBinarizer()\n",
    "labels_matrix = mlb.fit_transform(train['label_list'])"
   ]
  },
  {
   "cell_type": "code",
   "execution_count": 32,
   "id": "9f030f25-78ae-4a88-8018-08313ec06756",
   "metadata": {
    "tags": []
   },
   "outputs": [],
   "source": [
    "# Convert binary matrix into a DataFrame\n",
    "labels_df = pd.DataFrame(labels_matrix, columns=mlb.classes_)"
   ]
  },
  {
   "cell_type": "code",
   "execution_count": 33,
   "id": "f34a1489-b6ea-4ce0-a6ea-f099d07460eb",
   "metadata": {
    "tags": []
   },
   "outputs": [],
   "source": [
    "# Compute co-occurrence matrix\n",
    "co_occurrence_matrix = labels_df.T.dot(labels_df)"
   ]
  },
  {
   "cell_type": "code",
   "execution_count": 34,
   "id": "5fed2073-0277-438f-aff8-d51c47dfb96a",
   "metadata": {
    "tags": []
   },
   "outputs": [
    {
     "name": "stdout",
     "output_type": "stream",
     "text": [
      "             conspiracy  country  ineffective  ingredients  mandatory  none  \\\n",
      "conspiracy          487        7           14           79         27     0   \n",
      "country               7      201           15            2          5     0   \n",
      "ineffective          14       15         1672           19         35     0   \n",
      "ingredients          79        2           19          436         20     0   \n",
      "mandatory            27        5           35           20        783     0   \n",
      "none                  0        0            0            0          0   629   \n",
      "pharma               97        5           51           23         29     0   \n",
      "political            34       12           18            8         37     0   \n",
      "religious             5        1            0           17          4     0   \n",
      "rushed               26       23          112           28         58     0   \n",
      "side-effect         116       17          182          101         71     0   \n",
      "unnecessary          32        4           78           17         47     0   \n",
      "\n",
      "             pharma  political  religious  rushed  side-effect  unnecessary  \n",
      "conspiracy       97         34          5      26          116           32  \n",
      "country           5         12          1      23           17            4  \n",
      "ineffective      51         18          0     112          182           78  \n",
      "ingredients      23          8         17      28          101           17  \n",
      "mandatory        29         37          4      58           71           47  \n",
      "none              0          0          0       0            0            0  \n",
      "pharma         1273         89          3     127          138           62  \n",
      "political        89        626          3      67           51           21  \n",
      "religious         3          3         64       1            4            3  \n",
      "rushed          127         67          1    1476          304           79  \n",
      "side-effect     138         51          4     304         3805           94  \n",
      "unnecessary      62         21          3      79           94          722  \n"
     ]
    }
   ],
   "source": [
    "print(co_occurrence_matrix)"
   ]
  },
  {
   "cell_type": "code",
   "execution_count": 35,
   "id": "b15794fb-009d-4d50-a2e3-0ae018320486",
   "metadata": {
    "tags": []
   },
   "outputs": [
    {
     "data": {
      "image/png": "[encoded data removed]",
      "text/plain": [
       "<Figure size 1100x900 with 2 Axes>"
      ]
     },
     "metadata": {},
     "output_type": "display_data"
    }
   ],
   "source": [
    "mask = np.triu(np.ones_like(co_occurrence_matrix, dtype=bool))\n",
    "\n",
    "# Set up the matplotlib figure\n",
    "f, ax = plt.subplots(figsize=(11, 9))\n",
    "\n",
    "# Generate a custom diverging colormap\n",
    "cmap = sns.diverging_palette(230, 20, as_cmap=True)\n",
    "\n",
    "# Draw the heatmap with the mask and correct aspect ratio\n",
    "sns.heatmap(co_occurrence_matrix, mask=mask, cmap=cmap, vmax=None, center=0,\n",
    "            square=True, linewidths=.5, cbar_kws={\"shrink\": .5}, annot=True)\n",
    "\n",
    "plt.show()"
   ]
  },
  {
   "cell_type": "code",
   "execution_count": null,
   "id": "46dd06f1-f412-4658-8801-e2910f87b28c",
   "metadata": {},
   "outputs": [],
   "source": []
  },
  {
   "cell_type": "markdown",
   "id": "806f641f-e6d3-4ea0-adee-6963a01cf0cd",
   "metadata": {},
   "source": [
    "# Sentiment Analysis"
   ]
  },
  {
   "cell_type": "code",
   "execution_count": 36,
   "id": "a3aa1e6c-d717-4650-9b2b-693f747d63b2",
   "metadata": {
    "tags": []
   },
   "outputs": [],
   "source": [
    "from nltk.sentiment.vader import SentimentIntensityAnalyzer"
   ]
  },
  {
   "cell_type": "code",
   "execution_count": 37,
   "id": "2ad0a040-5cd6-4dd5-81f7-648e7ecbdea7",
   "metadata": {
    "tags": []
   },
   "outputs": [
    {
     "name": "stderr",
     "output_type": "stream",
     "text": [
      "[nltk_data] Downloading package vader_lexicon to /root/nltk_data...\n",
      "[nltk_data]   Package vader_lexicon is already up-to-date!\n"
     ]
    }
   ],
   "source": [
    "# Download the vader_lexicon\n",
    "nltk.download('vader_lexicon')\n",
    "\n",
    "# Initialize the VADER sentiment intensity analyzer\n",
    "sia = SentimentIntensityAnalyzer()"
   ]
  },
  {
   "cell_type": "code",
   "execution_count": 38,
   "id": "0cc81822-bcd2-4eb8-9e49-77e8b009b476",
   "metadata": {
    "tags": []
   },
   "outputs": [],
   "source": [
    "# Assuming df is your DataFrame and 'tweets' is the column with the text of the tweets\n",
    "train['sentiment_scores'] = train['tweet'].apply(lambda tweet: sia.polarity_scores(tweet))\n",
    "\n",
    "# You can split the dictionary of scores into separate columns\n",
    "train = pd.concat([train.drop(['sentiment_scores'], axis=1), train['sentiment_scores'].apply(pd.Series)], axis=1)"
   ]
  },
  {
   "cell_type": "code",
   "execution_count": 39,
   "id": "92b6d456-dd67-4187-bc8e-dfbccc9f3213",
   "metadata": {
    "tags": []
   },
   "outputs": [],
   "source": [
    "# 'neg' for negative sentiment, 'neu' for neutral sentiment, 'pos' for positive sentiment, and 'compound' for the aggregated sentiment.\n",
    "\n",
    "# The sentiment scores range from -1 to 1 for 'compound' (where -1 is extremely negative and 1 is extremely positive), and \n",
    "# 0 to 1 for 'neg', 'neu', and 'pos' (which add up to 1). "
   ]
  },
  {
   "cell_type": "code",
   "execution_count": 40,
   "id": "97dede0d-830b-4d3f-96bc-5ccbb5e6b5ba",
   "metadata": {
    "tags": []
   },
   "outputs": [
    {
     "data": {
      "text/html": [
       "<div>\n",
       "<style scoped>\n",
       "    .dataframe tbody tr th:only-of-type {\n",
       "        vertical-align: middle;\n",
       "    }\n",
       "\n",
       "    .dataframe tbody tr th {\n",
       "        vertical-align: top;\n",
       "    }\n",
       "\n",
       "    .dataframe thead th {\n",
       "        text-align: right;\n",
       "    }\n",
       "</style>\n",
       "<table border=\"1\" class=\"dataframe\">\n",
       "  <thead>\n",
       "    <tr style=\"text-align: right;\">\n",
       "      <th></th>\n",
       "      <th>ID</th>\n",
       "      <th>tweet</th>\n",
       "      <th>labels</th>\n",
       "      <th>label_list</th>\n",
       "      <th>label_len</th>\n",
       "      <th>tweet_len</th>\n",
       "      <th>clean_tweets</th>\n",
       "      <th>tokens</th>\n",
       "      <th>neg</th>\n",
       "      <th>neu</th>\n",
       "      <th>pos</th>\n",
       "      <th>compound</th>\n",
       "    </tr>\n",
       "  </thead>\n",
       "  <tbody>\n",
       "    <tr>\n",
       "      <th>0</th>\n",
       "      <td>1296010336907038720t</td>\n",
       "      <td>@cath__kath AstraZeneca is made with the kidne...</td>\n",
       "      <td>ingredients</td>\n",
       "      <td>[ingredients]</td>\n",
       "      <td>1</td>\n",
       "      <td>17</td>\n",
       "      <td>cath__kath astrazeneca is made with the kidney...</td>\n",
       "      <td>[cath__kath, astrazeneca, made, kidney, cells,...</td>\n",
       "      <td>0.000</td>\n",
       "      <td>1.000</td>\n",
       "      <td>0.000</td>\n",
       "      <td>0.0000</td>\n",
       "    </tr>\n",
       "    <tr>\n",
       "      <th>1</th>\n",
       "      <td>1336808189677940736t</td>\n",
       "      <td>It begins. Please find safe alternatives to th...</td>\n",
       "      <td>side-effect</td>\n",
       "      <td>[side-effect]</td>\n",
       "      <td>1</td>\n",
       "      <td>24</td>\n",
       "      <td>it begins please find safe alternatives to thi...</td>\n",
       "      <td>[begins, please, find, safe, alternatives, vac...</td>\n",
       "      <td>0.171</td>\n",
       "      <td>0.658</td>\n",
       "      <td>0.171</td>\n",
       "      <td>0.0000</td>\n",
       "    </tr>\n",
       "    <tr>\n",
       "      <th>2</th>\n",
       "      <td>1329488407307956231t</td>\n",
       "      <td>@PaolaQP1231 Well, I mean congratulations Covi...</td>\n",
       "      <td>side-effect</td>\n",
       "      <td>[side-effect]</td>\n",
       "      <td>1</td>\n",
       "      <td>49</td>\n",
       "      <td>paolaqp1231 well i mean congratulations covid1...</td>\n",
       "      <td>[paolaqp1231, well, mean, congratulations, cov...</td>\n",
       "      <td>0.027</td>\n",
       "      <td>0.856</td>\n",
       "      <td>0.117</td>\n",
       "      <td>0.6808</td>\n",
       "    </tr>\n",
       "    <tr>\n",
       "      <th>3</th>\n",
       "      <td>1364194604459900934t</td>\n",
       "      <td>@BorisJohnson for those of us that do not wish...</td>\n",
       "      <td>mandatory</td>\n",
       "      <td>[mandatory]</td>\n",
       "      <td>1</td>\n",
       "      <td>55</td>\n",
       "      <td>borisjohnson for those of us that do not wish ...</td>\n",
       "      <td>[borisjohnson, us, wish, vaccine, given, vacci...</td>\n",
       "      <td>0.038</td>\n",
       "      <td>0.834</td>\n",
       "      <td>0.128</td>\n",
       "      <td>0.7385</td>\n",
       "    </tr>\n",
       "    <tr>\n",
       "      <th>4</th>\n",
       "      <td>1375938799247765515t</td>\n",
       "      <td>She has been trying to speak out: writing lett...</td>\n",
       "      <td>side-effect rushed</td>\n",
       "      <td>[side-effect, rushed]</td>\n",
       "      <td>2</td>\n",
       "      <td>42</td>\n",
       "      <td>she has been trying to speak out writing lette...</td>\n",
       "      <td>[trying, speak, writing, letters, government, ...</td>\n",
       "      <td>0.097</td>\n",
       "      <td>0.903</td>\n",
       "      <td>0.000</td>\n",
       "      <td>-0.4939</td>\n",
       "    </tr>\n",
       "  </tbody>\n",
       "</table>\n",
       "</div>"
      ],
      "text/plain": [
       "                     ID                                              tweet  \\\n",
       "0  1296010336907038720t  @cath__kath AstraZeneca is made with the kidne...   \n",
       "1  1336808189677940736t  It begins. Please find safe alternatives to th...   \n",
       "2  1329488407307956231t  @PaolaQP1231 Well, I mean congratulations Covi...   \n",
       "3  1364194604459900934t  @BorisJohnson for those of us that do not wish...   \n",
       "4  1375938799247765515t  She has been trying to speak out: writing lett...   \n",
       "\n",
       "               labels             label_list  label_len  tweet_len  \\\n",
       "0         ingredients          [ingredients]          1         17   \n",
       "1         side-effect          [side-effect]          1         24   \n",
       "2         side-effect          [side-effect]          1         49   \n",
       "3           mandatory            [mandatory]          1         55   \n",
       "4  side-effect rushed  [side-effect, rushed]          2         42   \n",
       "\n",
       "                                        clean_tweets  \\\n",
       "0  cath__kath astrazeneca is made with the kidney...   \n",
       "1  it begins please find safe alternatives to thi...   \n",
       "2  paolaqp1231 well i mean congratulations covid1...   \n",
       "3  borisjohnson for those of us that do not wish ...   \n",
       "4  she has been trying to speak out writing lette...   \n",
       "\n",
       "                                              tokens    neg    neu    pos  \\\n",
       "0  [cath__kath, astrazeneca, made, kidney, cells,...  0.000  1.000  0.000   \n",
       "1  [begins, please, find, safe, alternatives, vac...  0.171  0.658  0.171   \n",
       "2  [paolaqp1231, well, mean, congratulations, cov...  0.027  0.856  0.117   \n",
       "3  [borisjohnson, us, wish, vaccine, given, vacci...  0.038  0.834  0.128   \n",
       "4  [trying, speak, writing, letters, government, ...  0.097  0.903  0.000   \n",
       "\n",
       "   compound  \n",
       "0    0.0000  \n",
       "1    0.0000  \n",
       "2    0.6808  \n",
       "3    0.7385  \n",
       "4   -0.4939  "
      ]
     },
     "execution_count": 40,
     "metadata": {},
     "output_type": "execute_result"
    }
   ],
   "source": [
    "train.head()"
   ]
  },
  {
   "cell_type": "code",
   "execution_count": 41,
   "id": "258965f0-3389-4349-bade-969ebe5763e8",
   "metadata": {
    "tags": []
   },
   "outputs": [
    {
     "name": "stdout",
     "output_type": "stream",
     "text": [
      "label_list\n",
      "conspiracy    -0.152121\n",
      "country       -0.027262\n",
      "ineffective   -0.050121\n",
      "ingredients   -0.096524\n",
      "mandatory     -0.098390\n",
      "none          -0.057131\n",
      "pharma        -0.047567\n",
      "political     -0.125577\n",
      "religious     -0.180167\n",
      "rushed        -0.051898\n",
      "side-effect   -0.265099\n",
      "unnecessary   -0.113949\n",
      "Name: compound, dtype: float64\n"
     ]
    }
   ],
   "source": [
    "average_sentiment = train.explode(['label_list']).groupby('label_list')['compound'].mean()\n",
    "\n",
    "print(average_sentiment)"
   ]
  },
  {
   "cell_type": "code",
   "execution_count": 42,
   "id": "2880d7ed-c050-4b26-ad87-b4c7ce286edb",
   "metadata": {
    "tags": []
   },
   "outputs": [],
   "source": [
    "train.to_csv('train_modified.csv')"
   ]
  },
  {
   "cell_type": "code",
   "execution_count": 43,
   "id": "074764f6-04b2-4610-be56-14b89dbf43d3",
   "metadata": {
    "tags": []
   },
   "outputs": [],
   "source": [
    "train_modified = pd.read_csv('train_modified.csv')"
   ]
  },
  {
   "cell_type": "code",
   "execution_count": 44,
   "id": "4b6e8df4-9649-408a-94fb-74512d66ea10",
   "metadata": {
    "tags": []
   },
   "outputs": [
    {
     "data": {
      "text/plain": [
       "(9921, 13)"
      ]
     },
     "execution_count": 44,
     "metadata": {},
     "output_type": "execute_result"
    }
   ],
   "source": [
    "train_modified.shape"
   ]
  },
  {
   "cell_type": "code",
   "execution_count": 45,
   "id": "bec3da77-b1e9-4740-9f6e-a0c3850bc495",
   "metadata": {
    "tags": []
   },
   "outputs": [
    {
     "name": "stdout",
     "output_type": "stream",
     "text": [
      "Train set size: 7936\n",
      "Validation set size: 1985\n"
     ]
    }
   ],
   "source": [
    "from sklearn.model_selection import train_test_split\n",
    "\n",
    "# Assuming df is your original DataFrame\n",
    "\n",
    "# Split the DataFrame into train and validation sets\n",
    "train_df, val_df = train_test_split(train_modified, test_size=0.2, random_state=42)\n",
    "\n",
    "# Print the number of rows in each set\n",
    "print(\"Train set size:\", len(train_df))\n",
    "print(\"Validation set size:\", len(val_df))"
   ]
  },
  {
   "cell_type": "code",
   "execution_count": 46,
   "id": "0ef63100-3263-419b-8303-46b60f75c78b",
   "metadata": {
    "tags": []
   },
   "outputs": [],
   "source": [
    "train_df.to_csv('train_df.csv')\n",
    "val_df.to_csv('val_df.csv')"
   ]
  },
  {
   "cell_type": "code",
   "execution_count": 47,
   "id": "13500012-68a4-4da3-8b9e-8dcbb4a7ead9",
   "metadata": {
    "tags": []
   },
   "outputs": [
    {
     "data": {
      "text/html": [
       "<div>\n",
       "<style scoped>\n",
       "    .dataframe tbody tr th:only-of-type {\n",
       "        vertical-align: middle;\n",
       "    }\n",
       "\n",
       "    .dataframe tbody tr th {\n",
       "        vertical-align: top;\n",
       "    }\n",
       "\n",
       "    .dataframe thead th {\n",
       "        text-align: right;\n",
       "    }\n",
       "</style>\n",
       "<table border=\"1\" class=\"dataframe\">\n",
       "  <thead>\n",
       "    <tr style=\"text-align: right;\">\n",
       "      <th></th>\n",
       "      <th>Unnamed: 0</th>\n",
       "      <th>ID</th>\n",
       "      <th>tweet</th>\n",
       "      <th>labels</th>\n",
       "      <th>label_list</th>\n",
       "      <th>label_len</th>\n",
       "      <th>tweet_len</th>\n",
       "      <th>clean_tweets</th>\n",
       "      <th>tokens</th>\n",
       "      <th>neg</th>\n",
       "      <th>neu</th>\n",
       "      <th>pos</th>\n",
       "      <th>compound</th>\n",
       "    </tr>\n",
       "  </thead>\n",
       "  <tbody>\n",
       "    <tr>\n",
       "      <th>1477</th>\n",
       "      <td>1477</td>\n",
       "      <td>1352994869556350977t</td>\n",
       "      <td>#TRUSTCCP? Do you trust the Chinese Communist ...</td>\n",
       "      <td>country</td>\n",
       "      <td>['country']</td>\n",
       "      <td>1</td>\n",
       "      <td>32</td>\n",
       "      <td>trustccp do you trust the chinese communist pa...</td>\n",
       "      <td>['trustccp', 'trust', 'chinese', 'communist', ...</td>\n",
       "      <td>0.035</td>\n",
       "      <td>0.679</td>\n",
       "      <td>0.286</td>\n",
       "      <td>0.8738</td>\n",
       "    </tr>\n",
       "    <tr>\n",
       "      <th>1790</th>\n",
       "      <td>1790</td>\n",
       "      <td>1364574998397132805t</td>\n",
       "      <td>@hannah62687 @mgtalbott @DrTomFrieden For many...</td>\n",
       "      <td>ineffective unnecessary</td>\n",
       "      <td>['ineffective', 'unnecessary']</td>\n",
       "      <td>2</td>\n",
       "      <td>50</td>\n",
       "      <td>hannah62687 mgtalbott drtomfrieden for many ge...</td>\n",
       "      <td>['hannah62687', 'mgtalbott', 'drtomfrieden', '...</td>\n",
       "      <td>0.139</td>\n",
       "      <td>0.756</td>\n",
       "      <td>0.105</td>\n",
       "      <td>-0.2295</td>\n",
       "    </tr>\n",
       "    <tr>\n",
       "      <th>2615</th>\n",
       "      <td>2615</td>\n",
       "      <td>1334085299945807873t</td>\n",
       "      <td>Imagine if the covid vaccine has a side effect...</td>\n",
       "      <td>side-effect</td>\n",
       "      <td>['side-effect']</td>\n",
       "      <td>1</td>\n",
       "      <td>17</td>\n",
       "      <td>imagine if the covid vaccine has a side effect...</td>\n",
       "      <td>['imagine', 'covid', 'vaccine', 'side', 'effec...</td>\n",
       "      <td>0.000</td>\n",
       "      <td>1.000</td>\n",
       "      <td>0.000</td>\n",
       "      <td>0.0000</td>\n",
       "    </tr>\n",
       "    <tr>\n",
       "      <th>6969</th>\n",
       "      <td>6969</td>\n",
       "      <td>1321645107183980544t</td>\n",
       "      <td>@GreyHaired07 and yet, every other year we are...</td>\n",
       "      <td>mandatory</td>\n",
       "      <td>['mandatory']</td>\n",
       "      <td>1</td>\n",
       "      <td>31</td>\n",
       "      <td>greyhaired07 and yet every other year we are r...</td>\n",
       "      <td>['greyhaired07', 'yet', 'every', 'year', 'remi...</td>\n",
       "      <td>0.151</td>\n",
       "      <td>0.849</td>\n",
       "      <td>0.000</td>\n",
       "      <td>-0.5859</td>\n",
       "    </tr>\n",
       "    <tr>\n",
       "      <th>7172</th>\n",
       "      <td>7172</td>\n",
       "      <td>1432922183337066498t</td>\n",
       "      <td>#VAERS 17y♂️#Pfizer #Covidvaccine #Suicide att...</td>\n",
       "      <td>side-effect</td>\n",
       "      <td>['side-effect']</td>\n",
       "      <td>1</td>\n",
       "      <td>45</td>\n",
       "      <td>vaers 17ypfizer covidvaccine suicide attempt p...</td>\n",
       "      <td>['vaers', '17ypfizer', 'covidvaccine', 'suicid...</td>\n",
       "      <td>0.092</td>\n",
       "      <td>0.857</td>\n",
       "      <td>0.051</td>\n",
       "      <td>-0.4588</td>\n",
       "    </tr>\n",
       "  </tbody>\n",
       "</table>\n",
       "</div>"
      ],
      "text/plain": [
       "      Unnamed: 0                    ID  \\\n",
       "1477        1477  1352994869556350977t   \n",
       "1790        1790  1364574998397132805t   \n",
       "2615        2615  1334085299945807873t   \n",
       "6969        6969  1321645107183980544t   \n",
       "7172        7172  1432922183337066498t   \n",
       "\n",
       "                                                  tweet  \\\n",
       "1477  #TRUSTCCP? Do you trust the Chinese Communist ...   \n",
       "1790  @hannah62687 @mgtalbott @DrTomFrieden For many...   \n",
       "2615  Imagine if the covid vaccine has a side effect...   \n",
       "6969  @GreyHaired07 and yet, every other year we are...   \n",
       "7172  #VAERS 17y♂️#Pfizer #Covidvaccine #Suicide att...   \n",
       "\n",
       "                       labels                      label_list  label_len  \\\n",
       "1477                  country                     ['country']          1   \n",
       "1790  ineffective unnecessary  ['ineffective', 'unnecessary']          2   \n",
       "2615              side-effect                 ['side-effect']          1   \n",
       "6969                mandatory                   ['mandatory']          1   \n",
       "7172              side-effect                 ['side-effect']          1   \n",
       "\n",
       "      tweet_len                                       clean_tweets  \\\n",
       "1477         32  trustccp do you trust the chinese communist pa...   \n",
       "1790         50  hannah62687 mgtalbott drtomfrieden for many ge...   \n",
       "2615         17  imagine if the covid vaccine has a side effect...   \n",
       "6969         31  greyhaired07 and yet every other year we are r...   \n",
       "7172         45  vaers 17ypfizer covidvaccine suicide attempt p...   \n",
       "\n",
       "                                                 tokens    neg    neu    pos  \\\n",
       "1477  ['trustccp', 'trust', 'chinese', 'communist', ...  0.035  0.679  0.286   \n",
       "1790  ['hannah62687', 'mgtalbott', 'drtomfrieden', '...  0.139  0.756  0.105   \n",
       "2615  ['imagine', 'covid', 'vaccine', 'side', 'effec...  0.000  1.000  0.000   \n",
       "6969  ['greyhaired07', 'yet', 'every', 'year', 'remi...  0.151  0.849  0.000   \n",
       "7172  ['vaers', '17ypfizer', 'covidvaccine', 'suicid...  0.092  0.857  0.051   \n",
       "\n",
       "      compound  \n",
       "1477    0.8738  \n",
       "1790   -0.2295  \n",
       "2615    0.0000  \n",
       "6969   -0.5859  \n",
       "7172   -0.4588  "
      ]
     },
     "execution_count": 47,
     "metadata": {},
     "output_type": "execute_result"
    }
   ],
   "source": [
    "train_df.head()"
   ]
  },
  {
   "cell_type": "code",
   "execution_count": null,
   "id": "ba5715fd-6df7-42ef-a60c-24f0971ae065",
   "metadata": {},
   "outputs": [],
   "source": []
  },
  {
   "cell_type": "markdown",
   "id": "d237443b-a20d-4aa7-928c-b04a06d93e79",
   "metadata": {},
   "source": [
    "# Baseline Model"
   ]
  },
  {
   "cell_type": "markdown",
   "id": "b3b0cc33-c20a-4881-8c07-d0936bf4c215",
   "metadata": {},
   "source": [
    "## tf-idf "
   ]
  },
  {
   "cell_type": "code",
   "execution_count": 50,
   "id": "51eb3cd4-4501-450c-b150-b32f79d718cf",
   "metadata": {
    "tags": []
   },
   "outputs": [],
   "source": [
    "import numpy as np\n",
    "from sklearn.feature_extraction.text import TfidfVectorizer\n",
    "import re\n",
    "import string"
   ]
  },
  {
   "cell_type": "code",
   "execution_count": 51,
   "id": "ac16ff0a-7db6-4f66-b330-125a71bbd6d7",
   "metadata": {
    "tags": []
   },
   "outputs": [],
   "source": [
    "# Text pre-processing\n",
    "def preprocess_text(text):\n",
    "    # Remove URLs\n",
    "    text = re.sub(r\"http\\S+|www\\S+|https\\S+\", '', text, flags=re.MULTILINE)\n",
    "    # Remove user @ references and '#' from text\n",
    "    text = re.sub(r'\\@\\w+|\\#','', text)\n",
    "    # Remove punctuations\n",
    "    text = text.translate(str.maketrans('', '', string.punctuation))\n",
    "    # Convert to lowercase to maintain consistency\n",
    "    text = text.lower()\n",
    "    return text"
   ]
  },
  {
   "cell_type": "code",
   "execution_count": 52,
   "id": "c9b8d1d3-3aa0-4675-a194-428beab018da",
   "metadata": {
    "tags": []
   },
   "outputs": [
    {
     "name": "stderr",
     "output_type": "stream",
     "text": [
      "/opt/conda/lib/python3.7/site-packages/ipykernel_launcher.py:1: SettingWithCopyWarning: \n",
      "A value is trying to be set on a copy of a slice from a DataFrame.\n",
      "Try using .loc[row_indexer,col_indexer] = value instead\n",
      "\n",
      "See the caveats in the documentation: https://pandas.pydata.org/pandas-docs/stable/user_guide/indexing.html#returning-a-view-versus-a-copy\n",
      "  \"\"\"Entry point for launching an IPython kernel.\n",
      "/opt/conda/lib/python3.7/site-packages/ipykernel_launcher.py:2: SettingWithCopyWarning: \n",
      "A value is trying to be set on a copy of a slice from a DataFrame.\n",
      "Try using .loc[row_indexer,col_indexer] = value instead\n",
      "\n",
      "See the caveats in the documentation: https://pandas.pydata.org/pandas-docs/stable/user_guide/indexing.html#returning-a-view-versus-a-copy\n",
      "  \n"
     ]
    }
   ],
   "source": [
    "train_df['tweet'] = train_df['tweet'].apply(preprocess_text)\n",
    "val_df['tweet'] = val_df['tweet'].apply(preprocess_text)"
   ]
  },
  {
   "cell_type": "code",
   "execution_count": 51,
   "id": "3f82490f-730b-4a1a-9fe3-12616f08fcad",
   "metadata": {
    "tags": []
   },
   "outputs": [],
   "source": [
    "# Initialize a TfidfVectorizer\n",
    "tfidf_vectorizer = TfidfVectorizer(stop_words='english', max_df=0.7)"
   ]
  },
  {
   "cell_type": "code",
   "execution_count": 52,
   "id": "c8b47804-2c68-42f4-be1c-aa20443d1eae",
   "metadata": {
    "tags": []
   },
   "outputs": [],
   "source": [
    "# Fit and transform the vectorizer on the train set, and only transform the vectorizer on the test set\n",
    "tfidf_train = tfidf_vectorizer.fit_transform(train_df['tweet']) \n",
    "tfidf_test = tfidf_vectorizer.transform(val_df['tweet'])"
   ]
  },
  {
   "cell_type": "code",
   "execution_count": 53,
   "id": "e3672f2e",
   "metadata": {
    "tags": []
   },
   "outputs": [
    {
     "name": "stdout",
     "output_type": "stream",
     "text": [
      "(7936, 15616)\n",
      "(1985, 15616)\n"
     ]
    }
   ],
   "source": [
    "print(tfidf_train.shape)\n",
    "print(tfidf_test.shape)"
   ]
  },
  {
   "cell_type": "code",
   "execution_count": 54,
   "id": "fec3b04b-4b8a-40fc-a64c-52308d7fc6a5",
   "metadata": {
    "tags": []
   },
   "outputs": [],
   "source": [
    "# Get the feature names\n",
    "feature_names = tfidf_vectorizer.get_feature_names()"
   ]
  },
  {
   "cell_type": "code",
   "execution_count": 55,
   "id": "5b0698a6-8014-4e36-a16e-9cfb767f32bf",
   "metadata": {
    "tags": []
   },
   "outputs": [],
   "source": [
    "# Sum tfidf frequency of each term through documents\n",
    "sums = tfidf_train.sum(axis=0)\n",
    "\n",
    "# Connecting term and sum frequency\n",
    "data = []\n",
    "for col, term in enumerate(feature_names):\n",
    "    data.append( (term, sums[0,col] ))"
   ]
  },
  {
   "cell_type": "code",
   "execution_count": 56,
   "id": "e88b86bf-6d94-4627-8495-f12b9708d5d8",
   "metadata": {
    "tags": []
   },
   "outputs": [
    {
     "name": "stdout",
     "output_type": "stream",
     "text": [
      "            term        rank\n",
      "3663       covid  225.916205\n",
      "10403     pfizer  187.450874\n",
      "10324     people  168.070074\n",
      "3667     covid19  139.466598\n",
      "14712   vaccines  139.198034\n",
      "...          ...         ...\n",
      "674         6mon    0.156619\n",
      "25           025    0.156619\n",
      "9218   multidose    0.156619\n",
      "1757       avian    0.153288\n",
      "6503        h5n1    0.153288\n",
      "\n",
      "[15616 rows x 2 columns]\n"
     ]
    }
   ],
   "source": [
    "ranking = pd.DataFrame(data, columns=['term','rank'])\n",
    "print(ranking.sort_values('rank', ascending=False))"
   ]
  },
  {
   "cell_type": "code",
   "execution_count": 57,
   "id": "d01815d3-29ce-46df-8fae-59d60cc4a5b1",
   "metadata": {
    "tags": []
   },
   "outputs": [],
   "source": [
    "import ast\n",
    "\n",
    "y_train = train_df['label_list'].apply(ast.literal_eval)\n",
    "y_test = val_df['label_list'].apply(ast.literal_eval)"
   ]
  },
  {
   "cell_type": "markdown",
   "id": "544f1b59-fcb0-405b-a71c-88c9e9b37052",
   "metadata": {},
   "source": [
    "## Naive Bayes"
   ]
  },
  {
   "cell_type": "code",
   "execution_count": 58,
   "id": "524d8ad8-50af-4485-9ef7-4558d67ab2dd",
   "metadata": {
    "tags": []
   },
   "outputs": [],
   "source": [
    "from sklearn.multiclass import OneVsRestClassifier\n",
    "from sklearn.naive_bayes import MultinomialNB\n",
    "from sklearn.preprocessing import MultiLabelBinarizer\n",
    "\n",
    "# Binarize the labels for multi-label classification\n",
    "mlb = MultiLabelBinarizer()\n",
    "y_train_binarized = mlb.fit_transform(y_train)\n",
    "y_test_binarized = mlb.transform(y_test)\n",
    "\n",
    "# Initialize the OneVsRestClassifier with MultinomialNB\n",
    "clf = OneVsRestClassifier(MultinomialNB())\n",
    "\n",
    "# Fit the model\n",
    "clf.fit(tfidf_train, y_train_binarized)\n",
    "\n",
    "# Predict the test set\n",
    "predictions = clf.predict(tfidf_test)"
   ]
  },
  {
   "cell_type": "code",
   "execution_count": 59,
   "id": "aa3301e2-9ae3-4228-ad04-43fbafe8519f",
   "metadata": {
    "tags": []
   },
   "outputs": [
    {
     "name": "stdout",
     "output_type": "stream",
     "text": [
      "Accuracy:  0.18841309823677582\n",
      "Precision:  0.9372197309417041\n",
      "Recall:  0.16998779991866614\n",
      "F1 score:  0.28777969018932875\n",
      "Jaccard score:  0.16807398472054685\n"
     ]
    }
   ],
   "source": [
    "from sklearn.metrics import accuracy_score\n",
    "from sklearn.metrics import precision_score\n",
    "from sklearn.metrics import recall_score\n",
    "from sklearn.metrics import f1_score\n",
    "from sklearn.metrics import jaccard_score\n",
    "\n",
    "# Ensure that y_test and predictions are binary arrays\n",
    "y_test_array = np.array(y_test_binarized)\n",
    "predictions_array = np.array(predictions)\n",
    "\n",
    "# Accuracy\n",
    "print('Accuracy: ', accuracy_score(y_test_array, predictions_array))\n",
    "\n",
    "# Precision\n",
    "print('Precision: ', precision_score(y_test_array, predictions_array, average='micro'))\n",
    "\n",
    "# Recall\n",
    "print('Recall: ', recall_score(y_test_array, predictions_array, average='micro'))\n",
    "\n",
    "# F1 score\n",
    "print('F1 score: ', f1_score(y_test_array, predictions_array, average='micro'))\n",
    "\n",
    "# Jaccard score\n",
    "print('Jaccard score: ', jaccard_score(y_test_array, predictions_array, average='micro'))"
   ]
  },
  {
   "cell_type": "code",
   "execution_count": 60,
   "id": "b69e46fd-4ee5-4d0e-94ab-8dfe0e2b3cf1",
   "metadata": {
    "tags": []
   },
   "outputs": [
    {
     "data": {
      "text/plain": [
       "array(['conspiracy', 'country', 'ineffective', 'ingredients', 'mandatory',\n",
       "       'none', 'pharma', 'political', 'religious', 'rushed',\n",
       "       'side-effect', 'unnecessary'], dtype=object)"
      ]
     },
     "execution_count": 60,
     "metadata": {},
     "output_type": "execute_result"
    }
   ],
   "source": [
    "mlb.classes_"
   ]
  },
  {
   "cell_type": "code",
   "execution_count": 61,
   "id": "eddbd3ef-ad04-4ed1-a9b8-177ae05f64da",
   "metadata": {
    "tags": []
   },
   "outputs": [
    {
     "data": {
      "text/plain": [
       "array([0, 0, 0, 0, 0, 0, 1, 0, 0, 0, 0, 1])"
      ]
     },
     "execution_count": 61,
     "metadata": {},
     "output_type": "execute_result"
    }
   ],
   "source": [
    "y_test_array[1]"
   ]
  },
  {
   "cell_type": "code",
   "execution_count": 62,
   "id": "6d0a893c-f1c2-47de-93a6-947ede84b0c3",
   "metadata": {
    "tags": []
   },
   "outputs": [
    {
     "data": {
      "text/plain": [
       "array([0, 0, 0, 0, 0, 0, 0, 0, 0, 0, 0, 0])"
      ]
     },
     "execution_count": 62,
     "metadata": {},
     "output_type": "execute_result"
    }
   ],
   "source": [
    "predictions_array[1]"
   ]
  },
  {
   "cell_type": "code",
   "execution_count": 63,
   "id": "266eb493-1933-428f-a4e6-783b7a3a411a",
   "metadata": {
    "tags": []
   },
   "outputs": [
    {
     "data": {
      "text/plain": [
       "Unnamed: 0                                                    510\n",
       "ID                                           1355176268879306752t\n",
       "tweet            vaccinating young people 40 with 0005 risk fr...\n",
       "labels                                         pharma unnecessary\n",
       "label_list                              ['pharma', 'unnecessary']\n",
       "label_len                                                       2\n",
       "tweet_len                                                      45\n",
       "clean_tweets    bbcbreaking vaccinating young people 40 with 0...\n",
       "tokens          ['bbcbreaking', 'vaccinating', 'young', 'peopl...\n",
       "neg                                                         0.214\n",
       "neu                                                         0.722\n",
       "pos                                                         0.064\n",
       "compound                                                   -0.759\n",
       "Name: 510, dtype: object"
      ]
     },
     "execution_count": 63,
     "metadata": {},
     "output_type": "execute_result"
    }
   ],
   "source": [
    "val_df.iloc[1]"
   ]
  },
  {
   "cell_type": "markdown",
   "id": "8770e06e-f45e-4265-8a87-ef3ad17e4ce8",
   "metadata": {
    "tags": []
   },
   "source": [
    "## DNNtfidf_train"
   ]
  },
  {
   "cell_type": "code",
   "execution_count": 17,
   "id": "5576c6af-0a82-434d-80fd-3e28139c2e43",
   "metadata": {
    "tags": []
   },
   "outputs": [],
   "source": [
    "!pip install tensorflow"
   ]
  },
  {
   "cell_type": "code",
   "execution_count": 45,
   "id": "d5d7b537-4127-4e1c-b76c-bac8f988422a",
   "metadata": {
    "tags": []
   },
   "outputs": [
    {
     "name": "stdout",
     "output_type": "stream",
     "text": [
      "Epoch 1/10\n",
      "248/248 [==============================] - 7s 24ms/step - loss: 0.3422 - accuracy: 0.2544 - val_loss: 0.2576 - val_accuracy: 0.3436\n",
      "Epoch 2/10\n",
      "248/248 [==============================] - 5s 21ms/step - loss: 0.2240 - accuracy: 0.4786 - val_loss: 0.2101 - val_accuracy: 0.5103\n",
      "Epoch 3/10\n",
      "248/248 [==============================] - 5s 21ms/step - loss: 0.1567 - accuracy: 0.6426 - val_loss: 0.1946 - val_accuracy: 0.5683\n",
      "Epoch 4/10\n",
      "248/248 [==============================] - 6s 23ms/step - loss: 0.1041 - accuracy: 0.7632 - val_loss: 0.1996 - val_accuracy: 0.5652\n",
      "Epoch 5/10\n",
      "248/248 [==============================] - 5s 22ms/step - loss: 0.0672 - accuracy: 0.8267 - val_loss: 0.2192 - val_accuracy: 0.5738\n",
      "Epoch 6/10\n",
      "248/248 [==============================] - 6s 23ms/step - loss: 0.0449 - accuracy: 0.8580 - val_loss: 0.2424 - val_accuracy: 0.5743\n",
      "Epoch 7/10\n",
      "248/248 [==============================] - 5s 21ms/step - loss: 0.0321 - accuracy: 0.8717 - val_loss: 0.2653 - val_accuracy: 0.5617\n",
      "Epoch 8/10\n",
      "248/248 [==============================] - 5s 21ms/step - loss: 0.0240 - accuracy: 0.8787 - val_loss: 0.2856 - val_accuracy: 0.5557\n",
      "Epoch 9/10\n",
      "248/248 [==============================] - 5s 21ms/step - loss: 0.0193 - accuracy: 0.8829 - val_loss: 0.3050 - val_accuracy: 0.5511\n",
      "Epoch 10/10\n",
      "248/248 [==============================] - 5s 21ms/step - loss: 0.0159 - accuracy: 0.8855 - val_loss: 0.3325 - val_accuracy: 0.5577\n"
     ]
    }
   ],
   "source": [
    "from tensorflow.keras.models import Sequential\n",
    "from tensorflow.keras.layers import Dense, Dropout\n",
    "\n",
    "# Define model parameters\n",
    "input_dim = tfidf_train.shape[1]  # Number of features\n",
    "num_classes = y_train_binarized.shape[1]  # Number of classes\n",
    "\n",
    "# Define your model architecture\n",
    "model = Sequential()\n",
    "model.add(Dense(128, input_dim=input_dim, activation='relu'))\n",
    "model.add(Dropout(0.2))\n",
    "model.add(Dense(64, activation='relu'))\n",
    "model.add(Dropout(0.2))\n",
    "model.add(Dense(num_classes, activation='sigmoid'))  # For multi-label classification, we use a sigmoid activation function in the output layer\n",
    "\n",
    "# Compile your model with loss, optimizer and metrics\n",
    "model.compile(loss='binary_crossentropy', optimizer='adam', metrics=['accuracy'])\n",
    "\n",
    "# Train your model\n",
    "#history = model.fit(tfidf_train, y_train_binarized, epochs=10, verbose=1, validation_data=(tfidf_test, y_test_binarized))\n",
    "\n",
    "history = model.fit(tfidf_train.toarray(), y_train_binarized, epochs=10, verbose=1, validation_data=(tfidf_test.toarray(), y_test_binarized))"
   ]
  },
  {
   "cell_type": "code",
   "execution_count": 46,
   "id": "2ad48b83-87b1-494a-a0b8-b670324c9b1c",
   "metadata": {
    "tags": []
   },
   "outputs": [
    {
     "name": "stdout",
     "output_type": "stream",
     "text": [
      "Testing Accuracy:  0.5576826333999634\n"
     ]
    }
   ],
   "source": [
    "# Evaluate the model\n",
    "loss, accuracy = model.evaluate(tfidf_test.toarray(), y_test_binarized, verbose=False)\n",
    "print(f'Testing Accuracy:  {accuracy}')"
   ]
  },
  {
   "cell_type": "code",
   "execution_count": null,
   "id": "3b5319bc-0eae-4988-b768-7fb1691554fa",
   "metadata": {},
   "outputs": [],
   "source": [
    "# class level metrics - error analysis, are wrong going to other type"
   ]
  },
  {
   "cell_type": "code",
   "execution_count": null,
   "id": "16c5100e-9863-4025-b65d-e3414de224d3",
   "metadata": {},
   "outputs": [],
   "source": []
  },
  {
   "cell_type": "markdown",
   "id": "53ea5bbe-f877-4249-be26-1cee5924b491",
   "metadata": {},
   "source": [
    "# Glove Embedding"
   ]
  },
  {
   "cell_type": "code",
   "execution_count": 8,
   "id": "05fafd40-c783-41f7-8983-aeeab5fc1340",
   "metadata": {
    "tags": []
   },
   "outputs": [],
   "source": [
    "import pandas as pd\n",
    "import numpy as np\n",
    "import re\n",
    "import string\n",
    "\n",
    "# from wordcloud import WordCloud\n",
    "from collections import defaultdict\n",
    "from collections import Counter\n",
    "import nltk\n",
    "from nltk.corpus import stopwords\n",
    "from nltk.tokenize import word_tokenize\n",
    "from sklearn.feature_extraction.text import CountVectorizer\n",
    "from sklearn.model_selection import train_test_split\n",
    "from tensorflow.keras.preprocessing.text import Tokenizer\n",
    "from tensorflow.keras.preprocessing.sequence import pad_sequences\n",
    "from tensorflow.keras.models import Sequential\n",
    "from tensorflow.keras.layers import Embedding,LSTM,Dense,SpatialDropout1D\n",
    "from tensorflow.keras.initializers import Constant\n",
    "from tensorflow.keras.optimizers import Adam"
   ]
  },
  {
   "cell_type": "code",
   "execution_count": 9,
   "id": "ddafbf7d-4c47-4c78-a8b4-95ae6c368617",
   "metadata": {
    "tags": []
   },
   "outputs": [
    {
     "data": {
      "text/html": [
       "<div>\n",
       "<style scoped>\n",
       "    .dataframe tbody tr th:only-of-type {\n",
       "        vertical-align: middle;\n",
       "    }\n",
       "\n",
       "    .dataframe tbody tr th {\n",
       "        vertical-align: top;\n",
       "    }\n",
       "\n",
       "    .dataframe thead th {\n",
       "        text-align: right;\n",
       "    }\n",
       "</style>\n",
       "<table border=\"1\" class=\"dataframe\">\n",
       "  <thead>\n",
       "    <tr style=\"text-align: right;\">\n",
       "      <th></th>\n",
       "      <th>Unnamed: 0</th>\n",
       "      <th>Unnamed: 0.1</th>\n",
       "      <th>ID</th>\n",
       "      <th>tweet</th>\n",
       "      <th>labels</th>\n",
       "      <th>label_list</th>\n",
       "      <th>label_len</th>\n",
       "      <th>tweet_len</th>\n",
       "      <th>clean_tweets</th>\n",
       "      <th>tokens</th>\n",
       "      <th>neg</th>\n",
       "      <th>neu</th>\n",
       "      <th>pos</th>\n",
       "      <th>compound</th>\n",
       "    </tr>\n",
       "  </thead>\n",
       "  <tbody>\n",
       "    <tr>\n",
       "      <th>0</th>\n",
       "      <td>1477</td>\n",
       "      <td>1477</td>\n",
       "      <td>1352994869556350977t</td>\n",
       "      <td>#TRUSTCCP? Do you trust the Chinese Communist ...</td>\n",
       "      <td>country</td>\n",
       "      <td>['country']</td>\n",
       "      <td>1</td>\n",
       "      <td>32</td>\n",
       "      <td>trustccp do you trust the chinese communist pa...</td>\n",
       "      <td>['trustccp', 'trust', 'chinese', 'communist', ...</td>\n",
       "      <td>0.035</td>\n",
       "      <td>0.679</td>\n",
       "      <td>0.286</td>\n",
       "      <td>0.8738</td>\n",
       "    </tr>\n",
       "    <tr>\n",
       "      <th>1</th>\n",
       "      <td>1790</td>\n",
       "      <td>1790</td>\n",
       "      <td>1364574998397132805t</td>\n",
       "      <td>@hannah62687 @mgtalbott @DrTomFrieden For many...</td>\n",
       "      <td>ineffective unnecessary</td>\n",
       "      <td>['ineffective', 'unnecessary']</td>\n",
       "      <td>2</td>\n",
       "      <td>50</td>\n",
       "      <td>hannah62687 mgtalbott drtomfrieden for many ge...</td>\n",
       "      <td>['hannah62687', 'mgtalbott', 'drtomfrieden', '...</td>\n",
       "      <td>0.139</td>\n",
       "      <td>0.756</td>\n",
       "      <td>0.105</td>\n",
       "      <td>-0.2295</td>\n",
       "    </tr>\n",
       "    <tr>\n",
       "      <th>2</th>\n",
       "      <td>2615</td>\n",
       "      <td>2615</td>\n",
       "      <td>1334085299945807873t</td>\n",
       "      <td>Imagine if the covid vaccine has a side effect...</td>\n",
       "      <td>side-effect</td>\n",
       "      <td>['side-effect']</td>\n",
       "      <td>1</td>\n",
       "      <td>17</td>\n",
       "      <td>imagine if the covid vaccine has a side effect...</td>\n",
       "      <td>['imagine', 'covid', 'vaccine', 'side', 'effec...</td>\n",
       "      <td>0.000</td>\n",
       "      <td>1.000</td>\n",
       "      <td>0.000</td>\n",
       "      <td>0.0000</td>\n",
       "    </tr>\n",
       "    <tr>\n",
       "      <th>3</th>\n",
       "      <td>6969</td>\n",
       "      <td>6969</td>\n",
       "      <td>1321645107183980544t</td>\n",
       "      <td>@GreyHaired07 and yet, every other year we are...</td>\n",
       "      <td>mandatory</td>\n",
       "      <td>['mandatory']</td>\n",
       "      <td>1</td>\n",
       "      <td>31</td>\n",
       "      <td>greyhaired07 and yet every other year we are r...</td>\n",
       "      <td>['greyhaired07', 'yet', 'every', 'year', 'remi...</td>\n",
       "      <td>0.151</td>\n",
       "      <td>0.849</td>\n",
       "      <td>0.000</td>\n",
       "      <td>-0.5859</td>\n",
       "    </tr>\n",
       "    <tr>\n",
       "      <th>4</th>\n",
       "      <td>7172</td>\n",
       "      <td>7172</td>\n",
       "      <td>1432922183337066498t</td>\n",
       "      <td>#VAERS 17y♂️#Pfizer #Covidvaccine #Suicide att...</td>\n",
       "      <td>side-effect</td>\n",
       "      <td>['side-effect']</td>\n",
       "      <td>1</td>\n",
       "      <td>45</td>\n",
       "      <td>vaers 17ypfizer covidvaccine suicide attempt p...</td>\n",
       "      <td>['vaers', '17ypfizer', 'covidvaccine', 'suicid...</td>\n",
       "      <td>0.092</td>\n",
       "      <td>0.857</td>\n",
       "      <td>0.051</td>\n",
       "      <td>-0.4588</td>\n",
       "    </tr>\n",
       "  </tbody>\n",
       "</table>\n",
       "</div>"
      ],
      "text/plain": [
       "   Unnamed: 0  Unnamed: 0.1                    ID  \\\n",
       "0        1477          1477  1352994869556350977t   \n",
       "1        1790          1790  1364574998397132805t   \n",
       "2        2615          2615  1334085299945807873t   \n",
       "3        6969          6969  1321645107183980544t   \n",
       "4        7172          7172  1432922183337066498t   \n",
       "\n",
       "                                               tweet                   labels  \\\n",
       "0  #TRUSTCCP? Do you trust the Chinese Communist ...                  country   \n",
       "1  @hannah62687 @mgtalbott @DrTomFrieden For many...  ineffective unnecessary   \n",
       "2  Imagine if the covid vaccine has a side effect...              side-effect   \n",
       "3  @GreyHaired07 and yet, every other year we are...                mandatory   \n",
       "4  #VAERS 17y♂️#Pfizer #Covidvaccine #Suicide att...              side-effect   \n",
       "\n",
       "                       label_list  label_len  tweet_len  \\\n",
       "0                     ['country']          1         32   \n",
       "1  ['ineffective', 'unnecessary']          2         50   \n",
       "2                 ['side-effect']          1         17   \n",
       "3                   ['mandatory']          1         31   \n",
       "4                 ['side-effect']          1         45   \n",
       "\n",
       "                                        clean_tweets  \\\n",
       "0  trustccp do you trust the chinese communist pa...   \n",
       "1  hannah62687 mgtalbott drtomfrieden for many ge...   \n",
       "2  imagine if the covid vaccine has a side effect...   \n",
       "3  greyhaired07 and yet every other year we are r...   \n",
       "4  vaers 17ypfizer covidvaccine suicide attempt p...   \n",
       "\n",
       "                                              tokens    neg    neu    pos  \\\n",
       "0  ['trustccp', 'trust', 'chinese', 'communist', ...  0.035  0.679  0.286   \n",
       "1  ['hannah62687', 'mgtalbott', 'drtomfrieden', '...  0.139  0.756  0.105   \n",
       "2  ['imagine', 'covid', 'vaccine', 'side', 'effec...  0.000  1.000  0.000   \n",
       "3  ['greyhaired07', 'yet', 'every', 'year', 'remi...  0.151  0.849  0.000   \n",
       "4  ['vaers', '17ypfizer', 'covidvaccine', 'suicid...  0.092  0.857  0.051   \n",
       "\n",
       "   compound  \n",
       "0    0.8738  \n",
       "1   -0.2295  \n",
       "2    0.0000  \n",
       "3   -0.5859  \n",
       "4   -0.4588  "
      ]
     },
     "execution_count": 9,
     "metadata": {},
     "output_type": "execute_result"
    }
   ],
   "source": [
    "train_df = pd.read_csv('train_df.csv')\n",
    "val_df = pd.read_csv('val_df.csv')\n",
    "\n",
    "train_df.head()"
   ]
  },
  {
   "cell_type": "code",
   "execution_count": 10,
   "id": "e0831d67-181d-40da-a129-b0da75579139",
   "metadata": {
    "tags": []
   },
   "outputs": [
    {
     "data": {
      "text/plain": [
       "(9921, 14)"
      ]
     },
     "execution_count": 10,
     "metadata": {},
     "output_type": "execute_result"
    }
   ],
   "source": [
    "df = pd.concat([train_df,val_df])\n",
    "df.shape"
   ]
  },
  {
   "cell_type": "code",
   "execution_count": 11,
   "id": "f571702c-76e3-4c86-bd36-6f30192e8074",
   "metadata": {
    "tags": []
   },
   "outputs": [],
   "source": [
    "# text cleaning\n",
    "def clean_text(text):\n",
    "    text = text.lower()\n",
    "    text = re.sub('\\[.*?\\]', '', text)\n",
    "    text = re.sub('https?://\\S+|www\\.\\S+', '', text)\n",
    "    text = re.sub('<.*?>+', '', text)\n",
    "    text = re.sub('[%s]' % re.escape(string.punctuation), '', text)\n",
    "    text = re.sub('\\n', '', text)\n",
    "    text = re.sub('\\w*\\d\\w*', '', text)\n",
    "    text = re.sub('amp', '', text)\n",
    "    return text\n",
    "df['tweet'] = df['tweet'].apply(lambda x: clean_text(x))"
   ]
  },
  {
   "cell_type": "code",
   "execution_count": 12,
   "id": "690dacab-4ee1-4226-89d7-63dbaafaa965",
   "metadata": {
    "tags": []
   },
   "outputs": [],
   "source": [
    "# remove emoji\n",
    "def remove_emoji(text):\n",
    "    emoji_pattern = re.compile(\"[\"\n",
    "    u\"\\U0001F600-\\U0001F64F\"  # emoticons\n",
    "    u\"\\U0001F300-\\U0001F5FF\"  # symbols & pictographs\n",
    "    u\"\\U0001F680-\\U0001F6FF\"  # transport & map symbols\n",
    "    u\"\\U0001F1E0-\\U0001F1FF\"  # flags (iOS)\n",
    "    u\"\\U00002702-\\U000027B0\"\n",
    "    u\"\\U000024C2-\\U0001F251\"\n",
    "    \"]+\", flags=re.UNICODE)\n",
    "    return emoji_pattern.sub(r'', text)\n",
    "df['tweet']=df['tweet'].apply(lambda x: remove_emoji(x))"
   ]
  },
  {
   "cell_type": "markdown",
   "id": "84ffc75d-c13c-457c-bb8f-962cd512c5df",
   "metadata": {},
   "source": [
    "## Preparing the Data"
   ]
  },
  {
   "cell_type": "code",
   "execution_count": 13,
   "id": "1eedb945-91a4-4081-8de8-3dc28c4d4b9d",
   "metadata": {
    "tags": []
   },
   "outputs": [],
   "source": [
    "# create a corpus using all the tweets in train and validation data\n",
    "def create_corpus(df):\n",
    "    corpus=[]\n",
    "    for tweet in df['tweet']:\n",
    "        corpus.append(tweet)\n",
    "    return corpus\n",
    "corpus=create_corpus(df)"
   ]
  },
  {
   "cell_type": "code",
   "execution_count": 14,
   "id": "58543cfb-90ff-4172-8dfc-c6e3a8120572",
   "metadata": {
    "tags": []
   },
   "outputs": [],
   "source": [
    "# create an embedding dictionary using gloVe\n",
    "# convert texts to sequences and pad them\n",
    "embedding_dict={}\n",
    "with open('glove/glove.twitter.27B.100d.txt','r') as f:\n",
    "    for line in f:\n",
    "        values=line.split()\n",
    "        word=values[0]\n",
    "        vectors=np.asarray(values[1:],'float32')\n",
    "        embedding_dict[word]=vectors\n",
    "f.close()\n",
    "MAX_LEN=50\n",
    "tokenizer_obj=Tokenizer()\n",
    "tokenizer_obj.fit_on_texts(corpus)\n",
    "sequences=tokenizer_obj.texts_to_sequences(corpus)\n",
    "tweet_pad=pad_sequences(sequences,maxlen=MAX_LEN,truncating='post',padding='post')"
   ]
  },
  {
   "cell_type": "code",
   "execution_count": 15,
   "id": "167e8899-96b8-4ca4-b05a-157758a320ba",
   "metadata": {
    "tags": []
   },
   "outputs": [
    {
     "name": "stdout",
     "output_type": "stream",
     "text": [
      "Number of unique words: 23383\n"
     ]
    }
   ],
   "source": [
    "# see how many unique words do we have in the corpus\n",
    "word_index=tokenizer_obj.word_index\n",
    "print('Number of unique words:',len(word_index))"
   ]
  },
  {
   "cell_type": "code",
   "execution_count": 16,
   "id": "f23967fb-2d11-496d-bff5-eaf2c3a204fa",
   "metadata": {
    "tags": []
   },
   "outputs": [],
   "source": [
    "# create an embedding matrix\n",
    "num_words=len(word_index)+1\n",
    "embedding_matrix=np.zeros((num_words,100))\n",
    "for word,i in word_index.items():\n",
    "    if i > num_words:\n",
    "        continue\n",
    "    emb_vec=embedding_dict.get(word)\n",
    "    if emb_vec is not None:\n",
    "        embedding_matrix[i]=emb_vec"
   ]
  },
  {
   "cell_type": "code",
   "execution_count": 22,
   "id": "c55ed732-41f2-427c-b800-da4371e0908e",
   "metadata": {
    "tags": []
   },
   "outputs": [],
   "source": [
    "import ast\n",
    "\n",
    "y_train = train_df['label_list'].apply(ast.literal_eval)\n",
    "y_val = val_df['label_list'].apply(ast.literal_eval)"
   ]
  },
  {
   "cell_type": "code",
   "execution_count": 23,
   "id": "6a3a1f69-d603-450f-b9aa-7d47fd603a7e",
   "metadata": {
    "tags": []
   },
   "outputs": [],
   "source": [
    "from sklearn.preprocessing import MultiLabelBinarizer\n",
    "\n",
    "# Binarize the labels for multi-label classification\n",
    "mlb = MultiLabelBinarizer()\n",
    "y_train_binarized = mlb.fit_transform(y_train)\n",
    "y_val_binarized = mlb.transform(y_val)"
   ]
  },
  {
   "cell_type": "code",
   "execution_count": 24,
   "id": "adf333a7-cbb2-4944-a2a2-69a6386a8e06",
   "metadata": {
    "tags": []
   },
   "outputs": [],
   "source": [
    "# Define model parameters\n",
    "input_dim = num_words  # Number of features\n",
    "num_classes = y_train_binarized.shape[1]  # Number of classes\n",
    "\n",
    "model=Sequential()\n",
    "embedding=Embedding(input_dim,100,embeddings_initializer=Constant(embedding_matrix),\n",
    "input_length=MAX_LEN,trainable=False)\n",
    "model.add(embedding)\n",
    "model.add(SpatialDropout1D(0.2))\n",
    "model.add(LSTM(64, dropout=0.2, recurrent_dropout=0.2))\n",
    "model.add(Dense(num_classes, activation='sigmoid'))\n",
    "optimzer=Adam(learning_rate=1e-5)\n",
    "model.compile(loss='binary_crossentropy',optimizer=optimzer,metrics=['accuracy'])"
   ]
  },
  {
   "cell_type": "code",
   "execution_count": 25,
   "id": "02fd6a8e-0ae1-4588-924e-de228bc428c6",
   "metadata": {
    "tags": []
   },
   "outputs": [],
   "source": [
    "train_final=tweet_pad[:train_df.shape[0]]\n",
    "val_final=tweet_pad[train_df.shape[0]:]"
   ]
  },
  {
   "cell_type": "code",
   "execution_count": 26,
   "id": "d784bd3c-831d-4cc3-9b38-73d4640dd03e",
   "metadata": {
    "tags": []
   },
   "outputs": [
    {
     "name": "stdout",
     "output_type": "stream",
     "text": [
      "Epoch 1/10\n",
      "248/248 [==============================] - 16s 57ms/step - loss: 0.6904 - accuracy: 0.0929 - val_loss: 0.6815 - val_accuracy: 0.0670\n",
      "Epoch 2/10\n",
      "248/248 [==============================] - 14s 56ms/step - loss: 0.6724 - accuracy: 0.0789 - val_loss: 0.6530 - val_accuracy: 0.0453\n",
      "Epoch 3/10\n",
      "248/248 [==============================] - 15s 59ms/step - loss: 0.6217 - accuracy: 0.0641 - val_loss: 0.5413 - val_accuracy: 0.0549\n",
      "Epoch 4/10\n",
      "248/248 [==============================] - 14s 56ms/step - loss: 0.4664 - accuracy: 0.0953 - val_loss: 0.3961 - val_accuracy: 0.1118\n",
      "Epoch 5/10\n",
      "248/248 [==============================] - 14s 56ms/step - loss: 0.3738 - accuracy: 0.2477 - val_loss: 0.3525 - val_accuracy: 0.2902\n",
      "Epoch 6/10\n",
      "248/248 [==============================] - 14s 56ms/step - loss: 0.3411 - accuracy: 0.2916 - val_loss: 0.3318 - val_accuracy: 0.2952\n",
      "Epoch 7/10\n",
      "248/248 [==============================] - 14s 56ms/step - loss: 0.3242 - accuracy: 0.2956 - val_loss: 0.3197 - val_accuracy: 0.2962\n",
      "Epoch 8/10\n",
      "248/248 [==============================] - 15s 59ms/step - loss: 0.3136 - accuracy: 0.2965 - val_loss: 0.3118 - val_accuracy: 0.2962\n",
      "Epoch 9/10\n",
      "248/248 [==============================] - 14s 57ms/step - loss: 0.3067 - accuracy: 0.2967 - val_loss: 0.3063 - val_accuracy: 0.2962\n",
      "Epoch 10/10\n",
      "248/248 [==============================] - 14s 57ms/step - loss: 0.3016 - accuracy: 0.2969 - val_loss: 0.3024 - val_accuracy: 0.2962\n"
     ]
    }
   ],
   "source": [
    "# Train your model\n",
    "history = model.fit(train_final, y_train_binarized, epochs=10, verbose=1, validation_data=(val_final, y_val_binarized))"
   ]
  },
  {
   "cell_type": "code",
   "execution_count": 29,
   "id": "fca368c7-5fdf-4ff5-bebd-4bb73a6eee54",
   "metadata": {
    "tags": []
   },
   "outputs": [
    {
     "name": "stdout",
     "output_type": "stream",
     "text": [
      "Testing Accuracy:  0.29622167348861694\n"
     ]
    }
   ],
   "source": [
    "# Evaluate the model\n",
    "loss, accuracy = model.evaluate(val_final, y_val_binarized, verbose=False)\n",
    "print(f'Testing Accuracy:  {accuracy}')"
   ]
  },
  {
   "cell_type": "code",
   "execution_count": null,
   "id": "65da377e-fa34-4470-9cf1-c3c982e71335",
   "metadata": {},
   "outputs": [],
   "source": []
  }
 ],
 "metadata": {
  "availableInstances": [
   {
    "_defaultOrder": 0,
    "_isFastLaunch": true,
    "category": "General purpose",
    "gpuNum": 0,
    "hideHardwareSpecs": false,
    "memoryGiB": 4,
    "name": "ml.t3.medium",
    "vcpuNum": 2
   },
   {
    "_defaultOrder": 1,
    "_isFastLaunch": false,
    "category": "General purpose",
    "gpuNum": 0,
    "hideHardwareSpecs": false,
    "memoryGiB": 8,
    "name": "ml.t3.large",
    "vcpuNum": 2
   },
   {
    "_defaultOrder": 2,
    "_isFastLaunch": false,
    "category": "General purpose",
    "gpuNum": 0,
    "hideHardwareSpecs": false,
    "memoryGiB": 16,
    "name": "ml.t3.xlarge",
    "vcpuNum": 4
   },
   {
    "_defaultOrder": 3,
    "_isFastLaunch": false,
    "category": "General purpose",
    "gpuNum": 0,
    "hideHardwareSpecs": false,
    "memoryGiB": 32,
    "name": "ml.t3.2xlarge",
    "vcpuNum": 8
   },
   {
    "_defaultOrder": 4,
    "_isFastLaunch": true,
    "category": "General purpose",
    "gpuNum": 0,
    "hideHardwareSpecs": false,
    "memoryGiB": 8,
    "name": "ml.m5.large",
    "vcpuNum": 2
   },
   {
    "_defaultOrder": 5,
    "_isFastLaunch": false,
    "category": "General purpose",
    "gpuNum": 0,
    "hideHardwareSpecs": false,
    "memoryGiB": 16,
    "name": "ml.m5.xlarge",
    "vcpuNum": 4
   },
   {
    "_defaultOrder": 6,
    "_isFastLaunch": false,
    "category": "General purpose",
    "gpuNum": 0,
    "hideHardwareSpecs": false,
    "memoryGiB": 32,
    "name": "ml.m5.2xlarge",
    "vcpuNum": 8
   },
   {
    "_defaultOrder": 7,
    "_isFastLaunch": false,
    "category": "General purpose",
    "gpuNum": 0,
    "hideHardwareSpecs": false,
    "memoryGiB": 64,
    "name": "ml.m5.4xlarge",
    "vcpuNum": 16
   },
   {
    "_defaultOrder": 8,
    "_isFastLaunch": false,
    "category": "General purpose",
    "gpuNum": 0,
    "hideHardwareSpecs": false,
    "memoryGiB": 128,
    "name": "ml.m5.8xlarge",
    "vcpuNum": 32
   },
   {
    "_defaultOrder": 9,
    "_isFastLaunch": false,
    "category": "General purpose",
    "gpuNum": 0,
    "hideHardwareSpecs": false,
    "memoryGiB": 192,
    "name": "ml.m5.12xlarge",
    "vcpuNum": 48
   },
   {
    "_defaultOrder": 10,
    "_isFastLaunch": false,
    "category": "General purpose",
    "gpuNum": 0,
    "hideHardwareSpecs": false,
    "memoryGiB": 256,
    "name": "ml.m5.16xlarge",
    "vcpuNum": 64
   },
   {
    "_defaultOrder": 11,
    "_isFastLaunch": false,
    "category": "General purpose",
    "gpuNum": 0,
    "hideHardwareSpecs": false,
    "memoryGiB": 384,
    "name": "ml.m5.24xlarge",
    "vcpuNum": 96
   },
   {
    "_defaultOrder": 12,
    "_isFastLaunch": false,
    "category": "General purpose",
    "gpuNum": 0,
    "hideHardwareSpecs": false,
    "memoryGiB": 8,
    "name": "ml.m5d.large",
    "vcpuNum": 2
   },
   {
    "_defaultOrder": 13,
    "_isFastLaunch": false,
    "category": "General purpose",
    "gpuNum": 0,
    "hideHardwareSpecs": false,
    "memoryGiB": 16,
    "name": "ml.m5d.xlarge",
    "vcpuNum": 4
   },
   {
    "_defaultOrder": 14,
    "_isFastLaunch": false,
    "category": "General purpose",
    "gpuNum": 0,
    "hideHardwareSpecs": false,
    "memoryGiB": 32,
    "name": "ml.m5d.2xlarge",
    "vcpuNum": 8
   },
   {
    "_defaultOrder": 15,
    "_isFastLaunch": false,
    "category": "General purpose",
    "gpuNum": 0,
    "hideHardwareSpecs": false,
    "memoryGiB": 64,
    "name": "ml.m5d.4xlarge",
    "vcpuNum": 16
   },
   {
    "_defaultOrder": 16,
    "_isFastLaunch": false,
    "category": "General purpose",
    "gpuNum": 0,
    "hideHardwareSpecs": false,
    "memoryGiB": 128,
    "name": "ml.m5d.8xlarge",
    "vcpuNum": 32
   },
   {
    "_defaultOrder": 17,
    "_isFastLaunch": false,
    "category": "General purpose",
    "gpuNum": 0,
    "hideHardwareSpecs": false,
    "memoryGiB": 192,
    "name": "ml.m5d.12xlarge",
    "vcpuNum": 48
   },
   {
    "_defaultOrder": 18,
    "_isFastLaunch": false,
    "category": "General purpose",
    "gpuNum": 0,
    "hideHardwareSpecs": false,
    "memoryGiB": 256,
    "name": "ml.m5d.16xlarge",
    "vcpuNum": 64
   },
   {
    "_defaultOrder": 19,
    "_isFastLaunch": false,
    "category": "General purpose",
    "gpuNum": 0,
    "hideHardwareSpecs": false,
    "memoryGiB": 384,
    "name": "ml.m5d.24xlarge",
    "vcpuNum": 96
   },
   {
    "_defaultOrder": 20,
    "_isFastLaunch": false,
    "category": "General purpose",
    "gpuNum": 0,
    "hideHardwareSpecs": true,
    "memoryGiB": 0,
    "name": "ml.geospatial.interactive",
    "supportedImageNames": [
     "sagemaker-geospatial-v1-0"
    ],
    "vcpuNum": 0
   },
   {
    "_defaultOrder": 21,
    "_isFastLaunch": true,
    "category": "Compute optimized",
    "gpuNum": 0,
    "hideHardwareSpecs": false,
    "memoryGiB": 4,
    "name": "ml.c5.large",
    "vcpuNum": 2
   },
   {
    "_defaultOrder": 22,
    "_isFastLaunch": false,
    "category": "Compute optimized",
    "gpuNum": 0,
    "hideHardwareSpecs": false,
    "memoryGiB": 8,
    "name": "ml.c5.xlarge",
    "vcpuNum": 4
   },
   {
    "_defaultOrder": 23,
    "_isFastLaunch": false,
    "category": "Compute optimized",
    "gpuNum": 0,
    "hideHardwareSpecs": false,
    "memoryGiB": 16,
    "name": "ml.c5.2xlarge",
    "vcpuNum": 8
   },
   {
    "_defaultOrder": 24,
    "_isFastLaunch": false,
    "category": "Compute optimized",
    "gpuNum": 0,
    "hideHardwareSpecs": false,
    "memoryGiB": 32,
    "name": "ml.c5.4xlarge",
    "vcpuNum": 16
   },
   {
    "_defaultOrder": 25,
    "_isFastLaunch": false,
    "category": "Compute optimized",
    "gpuNum": 0,
    "hideHardwareSpecs": false,
    "memoryGiB": 72,
    "name": "ml.c5.9xlarge",
    "vcpuNum": 36
   },
   {
    "_defaultOrder": 26,
    "_isFastLaunch": false,
    "category": "Compute optimized",
    "gpuNum": 0,
    "hideHardwareSpecs": false,
    "memoryGiB": 96,
    "name": "ml.c5.12xlarge",
    "vcpuNum": 48
   },
   {
    "_defaultOrder": 27,
    "_isFastLaunch": false,
    "category": "Compute optimized",
    "gpuNum": 0,
    "hideHardwareSpecs": false,
    "memoryGiB": 144,
    "name": "ml.c5.18xlarge",
    "vcpuNum": 72
   },
   {
    "_defaultOrder": 28,
    "_isFastLaunch": false,
    "category": "Compute optimized",
    "gpuNum": 0,
    "hideHardwareSpecs": false,
    "memoryGiB": 192,
    "name": "ml.c5.24xlarge",
    "vcpuNum": 96
   },
   {
    "_defaultOrder": 29,
    "_isFastLaunch": true,
    "category": "Accelerated computing",
    "gpuNum": 1,
    "hideHardwareSpecs": false,
    "memoryGiB": 16,
    "name": "ml.g4dn.xlarge",
    "vcpuNum": 4
   },
   {
    "_defaultOrder": 30,
    "_isFastLaunch": false,
    "category": "Accelerated computing",
    "gpuNum": 1,
    "hideHardwareSpecs": false,
    "memoryGiB": 32,
    "name": "ml.g4dn.2xlarge",
    "vcpuNum": 8
   },
   {
    "_defaultOrder": 31,
    "_isFastLaunch": false,
    "category": "Accelerated computing",
    "gpuNum": 1,
    "hideHardwareSpecs": false,
    "memoryGiB": 64,
    "name": "ml.g4dn.4xlarge",
    "vcpuNum": 16
   },
   {
    "_defaultOrder": 32,
    "_isFastLaunch": false,
    "category": "Accelerated computing",
    "gpuNum": 1,
    "hideHardwareSpecs": false,
    "memoryGiB": 128,
    "name": "ml.g4dn.8xlarge",
    "vcpuNum": 32
   },
   {
    "_defaultOrder": 33,
    "_isFastLaunch": false,
    "category": "Accelerated computing",
    "gpuNum": 4,
    "hideHardwareSpecs": false,
    "memoryGiB": 192,
    "name": "ml.g4dn.12xlarge",
    "vcpuNum": 48
   },
   {
    "_defaultOrder": 34,
    "_isFastLaunch": false,
    "category": "Accelerated computing",
    "gpuNum": 1,
    "hideHardwareSpecs": false,
    "memoryGiB": 256,
    "name": "ml.g4dn.16xlarge",
    "vcpuNum": 64
   },
   {
    "_defaultOrder": 35,
    "_isFastLaunch": false,
    "category": "Accelerated computing",
    "gpuNum": 1,
    "hideHardwareSpecs": false,
    "memoryGiB": 61,
    "name": "ml.p3.2xlarge",
    "vcpuNum": 8
   },
   {
    "_defaultOrder": 36,
    "_isFastLaunch": false,
    "category": "Accelerated computing",
    "gpuNum": 4,
    "hideHardwareSpecs": false,
    "memoryGiB": 244,
    "name": "ml.p3.8xlarge",
    "vcpuNum": 32
   },
   {
    "_defaultOrder": 37,
    "_isFastLaunch": false,
    "category": "Accelerated computing",
    "gpuNum": 8,
    "hideHardwareSpecs": false,
    "memoryGiB": 488,
    "name": "ml.p3.16xlarge",
    "vcpuNum": 64
   },
   {
    "_defaultOrder": 38,
    "_isFastLaunch": false,
    "category": "Accelerated computing",
    "gpuNum": 8,
    "hideHardwareSpecs": false,
    "memoryGiB": 768,
    "name": "ml.p3dn.24xlarge",
    "vcpuNum": 96
   },
   {
    "_defaultOrder": 39,
    "_isFastLaunch": false,
    "category": "Memory Optimized",
    "gpuNum": 0,
    "hideHardwareSpecs": false,
    "memoryGiB": 16,
    "name": "ml.r5.large",
    "vcpuNum": 2
   },
   {
    "_defaultOrder": 40,
    "_isFastLaunch": false,
    "category": "Memory Optimized",
    "gpuNum": 0,
    "hideHardwareSpecs": false,
    "memoryGiB": 32,
    "name": "ml.r5.xlarge",
    "vcpuNum": 4
   },
   {
    "_defaultOrder": 41,
    "_isFastLaunch": false,
    "category": "Memory Optimized",
    "gpuNum": 0,
    "hideHardwareSpecs": false,
    "memoryGiB": 64,
    "name": "ml.r5.2xlarge",
    "vcpuNum": 8
   },
   {
    "_defaultOrder": 42,
    "_isFastLaunch": false,
    "category": "Memory Optimized",
    "gpuNum": 0,
    "hideHardwareSpecs": false,
    "memoryGiB": 128,
    "name": "ml.r5.4xlarge",
    "vcpuNum": 16
   },
   {
    "_defaultOrder": 43,
    "_isFastLaunch": false,
    "category": "Memory Optimized",
    "gpuNum": 0,
    "hideHardwareSpecs": false,
    "memoryGiB": 256,
    "name": "ml.r5.8xlarge",
    "vcpuNum": 32
   },
   {
    "_defaultOrder": 44,
    "_isFastLaunch": false,
    "category": "Memory Optimized",
    "gpuNum": 0,
    "hideHardwareSpecs": false,
    "memoryGiB": 384,
    "name": "ml.r5.12xlarge",
    "vcpuNum": 48
   },
   {
    "_defaultOrder": 45,
    "_isFastLaunch": false,
    "category": "Memory Optimized",
    "gpuNum": 0,
    "hideHardwareSpecs": false,
    "memoryGiB": 512,
    "name": "ml.r5.16xlarge",
    "vcpuNum": 64
   },
   {
    "_defaultOrder": 46,
    "_isFastLaunch": false,
    "category": "Memory Optimized",
    "gpuNum": 0,
    "hideHardwareSpecs": false,
    "memoryGiB": 768,
    "name": "ml.r5.24xlarge",
    "vcpuNum": 96
   },
   {
    "_defaultOrder": 47,
    "_isFastLaunch": false,
    "category": "Accelerated computing",
    "gpuNum": 1,
    "hideHardwareSpecs": false,
    "memoryGiB": 16,
    "name": "ml.g5.xlarge",
    "vcpuNum": 4
   },
   {
    "_defaultOrder": 48,
    "_isFastLaunch": false,
    "category": "Accelerated computing",
    "gpuNum": 1,
    "hideHardwareSpecs": false,
    "memoryGiB": 32,
    "name": "ml.g5.2xlarge",
    "vcpuNum": 8
   },
   {
    "_defaultOrder": 49,
    "_isFastLaunch": false,
    "category": "Accelerated computing",
    "gpuNum": 1,
    "hideHardwareSpecs": false,
    "memoryGiB": 64,
    "name": "ml.g5.4xlarge",
    "vcpuNum": 16
   },
   {
    "_defaultOrder": 50,
    "_isFastLaunch": false,
    "category": "Accelerated computing",
    "gpuNum": 1,
    "hideHardwareSpecs": false,
    "memoryGiB": 128,
    "name": "ml.g5.8xlarge",
    "vcpuNum": 32
   },
   {
    "_defaultOrder": 51,
    "_isFastLaunch": false,
    "category": "Accelerated computing",
    "gpuNum": 1,
    "hideHardwareSpecs": false,
    "memoryGiB": 256,
    "name": "ml.g5.16xlarge",
    "vcpuNum": 64
   },
   {
    "_defaultOrder": 52,
    "_isFastLaunch": false,
    "category": "Accelerated computing",
    "gpuNum": 4,
    "hideHardwareSpecs": false,
    "memoryGiB": 192,
    "name": "ml.g5.12xlarge",
    "vcpuNum": 48
   },
   {
    "_defaultOrder": 53,
    "_isFastLaunch": false,
    "category": "Accelerated computing",
    "gpuNum": 4,
    "hideHardwareSpecs": false,
    "memoryGiB": 384,
    "name": "ml.g5.24xlarge",
    "vcpuNum": 96
   },
   {
    "_defaultOrder": 54,
    "_isFastLaunch": false,
    "category": "Accelerated computing",
    "gpuNum": 8,
    "hideHardwareSpecs": false,
    "memoryGiB": 768,
    "name": "ml.g5.48xlarge",
    "vcpuNum": 192
   },
   {
    "_defaultOrder": 55,
    "_isFastLaunch": false,
    "category": "Accelerated computing",
    "gpuNum": 8,
    "hideHardwareSpecs": false,
    "memoryGiB": 1152,
    "name": "ml.p4d.24xlarge",
    "vcpuNum": 96
   },
   {
    "_defaultOrder": 56,
    "_isFastLaunch": false,
    "category": "Accelerated computing",
    "gpuNum": 8,
    "hideHardwareSpecs": false,
    "memoryGiB": 1152,
    "name": "ml.p4de.24xlarge",
    "vcpuNum": 96
   }
  ],
  "kernelspec": {
   "display_name": "Python 3 (Data Science)",
   "language": "python",
   "name": "python3__SAGEMAKER_INTERNAL__arn:aws:sagemaker:us-east-1:081325390199:image/datascience-1.0"
  },
  "language_info": {
   "codemirror_mode": {
    "name": "ipython",
    "version": 3
   },
   "file_extension": ".py",
   "mimetype": "text/x-python",
   "name": "python",
   "nbconvert_exporter": "python",
   "pygments_lexer": "ipython3",
   "version": "3.7.10"
  }
 },
 "nbformat": 4,
 "nbformat_minor": 5
}
